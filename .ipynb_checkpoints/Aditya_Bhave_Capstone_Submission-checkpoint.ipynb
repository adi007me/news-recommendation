{
 "cells": [
  {
   "cell_type": "markdown",
   "metadata": {},
   "source": [
    "# News Recommendation System\n",
    "##### Capstone Project\n",
    "##### Developed by - Aditya Bhave"
   ]
  },
  {
   "cell_type": "markdown",
   "metadata": {},
   "source": [
    "### Description\n",
    ".........."
   ]
  },
  {
   "cell_type": "code",
   "execution_count": 1,
   "metadata": {},
   "outputs": [],
   "source": [
    "import numpy as np\n",
    "import pandas as pd\n",
    "import matplotlib.pyplot as plt\n",
    "import seaborn as sns\n",
    "\n",
    "from sklearn.metrics.pairwise import pairwise_distances\n",
    "from sklearn.model_selection import train_test_split\n",
    "\n",
    "from sklearn.metrics import mean_squared_error\n",
    "from sklearn.metrics import mean_absolute_error\n",
    "from sklearn.metrics import accuracy_score\n",
    "from math import sqrt"
   ]
  },
  {
   "cell_type": "code",
   "execution_count": 2,
   "metadata": {},
   "outputs": [
    {
     "name": "stderr",
     "output_type": "stream",
     "text": [
      "C:\\Users\\adi00\\Anaconda3\\envs\\capstone\\lib\\site-packages\\IPython\\core\\interactiveshell.py:3072: DtypeWarning: Columns (4) have mixed types.Specify dtype option on import or set low_memory=False.\n",
      "  interactivity=interactivity, compiler=compiler, result=result)\n"
     ]
    }
   ],
   "source": [
    "# import data\n",
    "\n",
    "consumer_transactions = pd.read_csv('./data/consumer_transanctions.csv')"
   ]
  },
  {
   "cell_type": "code",
   "execution_count": 3,
   "metadata": {},
   "outputs": [],
   "source": [
    "platform_content = pd.read_csv('./data/platform_content.csv')"
   ]
  },
  {
   "cell_type": "code",
   "execution_count": 4,
   "metadata": {},
   "outputs": [
    {
     "data": {
      "text/html": [
       "<div>\n",
       "<style scoped>\n",
       "    .dataframe tbody tr th:only-of-type {\n",
       "        vertical-align: middle;\n",
       "    }\n",
       "\n",
       "    .dataframe tbody tr th {\n",
       "        vertical-align: top;\n",
       "    }\n",
       "\n",
       "    .dataframe thead th {\n",
       "        text-align: right;\n",
       "    }\n",
       "</style>\n",
       "<table border=\"1\" class=\"dataframe\">\n",
       "  <thead>\n",
       "    <tr style=\"text-align: right;\">\n",
       "      <th></th>\n",
       "      <th>event_timestamp</th>\n",
       "      <th>interaction_type</th>\n",
       "      <th>item_id</th>\n",
       "      <th>consumer_id</th>\n",
       "      <th>consumer_session_id</th>\n",
       "      <th>consumer_device_info</th>\n",
       "      <th>consumer_location</th>\n",
       "      <th>country</th>\n",
       "    </tr>\n",
       "  </thead>\n",
       "  <tbody>\n",
       "    <tr>\n",
       "      <th>0</th>\n",
       "      <td>1465413032</td>\n",
       "      <td>content_watched</td>\n",
       "      <td>-3499919498720038879</td>\n",
       "      <td>-8845298781299428018</td>\n",
       "      <td>1264196770339959068</td>\n",
       "      <td>NaN</td>\n",
       "      <td>NaN</td>\n",
       "      <td>NaN</td>\n",
       "    </tr>\n",
       "    <tr>\n",
       "      <th>1</th>\n",
       "      <td>1465412560</td>\n",
       "      <td>content_watched</td>\n",
       "      <td>8890720798209849691</td>\n",
       "      <td>-1032019229384696495</td>\n",
       "      <td>3621737643587579081</td>\n",
       "      <td>Mozilla/5.0 (Macintosh; Intel Mac OS X 10_11_2...</td>\n",
       "      <td>NY</td>\n",
       "      <td>US</td>\n",
       "    </tr>\n",
       "    <tr>\n",
       "      <th>2</th>\n",
       "      <td>1465416190</td>\n",
       "      <td>content_watched</td>\n",
       "      <td>310515487419366995</td>\n",
       "      <td>-1130272294246983140</td>\n",
       "      <td>2631864456530402479</td>\n",
       "      <td>NaN</td>\n",
       "      <td>NaN</td>\n",
       "      <td>NaN</td>\n",
       "    </tr>\n",
       "    <tr>\n",
       "      <th>3</th>\n",
       "      <td>1465413895</td>\n",
       "      <td>content_followed</td>\n",
       "      <td>310515487419366995</td>\n",
       "      <td>344280948527967603</td>\n",
       "      <td>-3167637573980064150</td>\n",
       "      <td>NaN</td>\n",
       "      <td>NaN</td>\n",
       "      <td>NaN</td>\n",
       "    </tr>\n",
       "    <tr>\n",
       "      <th>4</th>\n",
       "      <td>1465412290</td>\n",
       "      <td>content_watched</td>\n",
       "      <td>-7820640624231356730</td>\n",
       "      <td>-445337111692715325</td>\n",
       "      <td>561148 1178424124714</td>\n",
       "      <td>NaN</td>\n",
       "      <td>NaN</td>\n",
       "      <td>NaN</td>\n",
       "    </tr>\n",
       "  </tbody>\n",
       "</table>\n",
       "</div>"
      ],
      "text/plain": [
       "   event_timestamp  interaction_type              item_id  \\\n",
       "0       1465413032   content_watched -3499919498720038879   \n",
       "1       1465412560   content_watched  8890720798209849691   \n",
       "2       1465416190   content_watched   310515487419366995   \n",
       "3       1465413895  content_followed   310515487419366995   \n",
       "4       1465412290   content_watched -7820640624231356730   \n",
       "\n",
       "           consumer_id   consumer_session_id  \\\n",
       "0 -8845298781299428018   1264196770339959068   \n",
       "1 -1032019229384696495   3621737643587579081   \n",
       "2 -1130272294246983140   2631864456530402479   \n",
       "3   344280948527967603  -3167637573980064150   \n",
       "4  -445337111692715325  561148 1178424124714   \n",
       "\n",
       "                                consumer_device_info consumer_location country  \n",
       "0                                                NaN               NaN     NaN  \n",
       "1  Mozilla/5.0 (Macintosh; Intel Mac OS X 10_11_2...                NY      US  \n",
       "2                                                NaN               NaN     NaN  \n",
       "3                                                NaN               NaN     NaN  \n",
       "4                                                NaN               NaN     NaN  "
      ]
     },
     "execution_count": 4,
     "metadata": {},
     "output_type": "execute_result"
    }
   ],
   "source": [
    "consumer_transactions.head()"
   ]
  },
  {
   "cell_type": "code",
   "execution_count": 5,
   "metadata": {},
   "outputs": [
    {
     "data": {
      "text/html": [
       "<div>\n",
       "<style scoped>\n",
       "    .dataframe tbody tr th:only-of-type {\n",
       "        vertical-align: middle;\n",
       "    }\n",
       "\n",
       "    .dataframe tbody tr th {\n",
       "        vertical-align: top;\n",
       "    }\n",
       "\n",
       "    .dataframe thead th {\n",
       "        text-align: right;\n",
       "    }\n",
       "</style>\n",
       "<table border=\"1\" class=\"dataframe\">\n",
       "  <thead>\n",
       "    <tr style=\"text-align: right;\">\n",
       "      <th></th>\n",
       "      <th>event_timestamp</th>\n",
       "      <th>item_id</th>\n",
       "      <th>consumer_id</th>\n",
       "    </tr>\n",
       "  </thead>\n",
       "  <tbody>\n",
       "    <tr>\n",
       "      <th>count</th>\n",
       "      <td>7.231200e+04</td>\n",
       "      <td>7.231200e+04</td>\n",
       "      <td>7.231200e+04</td>\n",
       "    </tr>\n",
       "    <tr>\n",
       "      <th>mean</th>\n",
       "      <td>1.470103e+09</td>\n",
       "      <td>-3.033423e+16</td>\n",
       "      <td>1.252026e+16</td>\n",
       "    </tr>\n",
       "    <tr>\n",
       "      <th>std</th>\n",
       "      <td>7.258130e+06</td>\n",
       "      <td>5.344755e+18</td>\n",
       "      <td>5.022333e+18</td>\n",
       "    </tr>\n",
       "    <tr>\n",
       "      <th>min</th>\n",
       "      <td>1.457964e+09</td>\n",
       "      <td>-9.222795e+18</td>\n",
       "      <td>-9.223122e+18</td>\n",
       "    </tr>\n",
       "    <tr>\n",
       "      <th>25%</th>\n",
       "      <td>1.464876e+09</td>\n",
       "      <td>-4.726309e+18</td>\n",
       "      <td>-3.596627e+18</td>\n",
       "    </tr>\n",
       "    <tr>\n",
       "      <th>50%</th>\n",
       "      <td>1.468343e+09</td>\n",
       "      <td>1.893099e+16</td>\n",
       "      <td>-1.088422e+17</td>\n",
       "    </tr>\n",
       "    <tr>\n",
       "      <th>75%</th>\n",
       "      <td>1.474461e+09</td>\n",
       "      <td>4.441012e+18</td>\n",
       "      <td>3.766319e+18</td>\n",
       "    </tr>\n",
       "    <tr>\n",
       "      <th>max</th>\n",
       "      <td>1.488310e+09</td>\n",
       "      <td>9.222265e+18</td>\n",
       "      <td>9.210531e+18</td>\n",
       "    </tr>\n",
       "  </tbody>\n",
       "</table>\n",
       "</div>"
      ],
      "text/plain": [
       "       event_timestamp       item_id   consumer_id\n",
       "count     7.231200e+04  7.231200e+04  7.231200e+04\n",
       "mean      1.470103e+09 -3.033423e+16  1.252026e+16\n",
       "std       7.258130e+06  5.344755e+18  5.022333e+18\n",
       "min       1.457964e+09 -9.222795e+18 -9.223122e+18\n",
       "25%       1.464876e+09 -4.726309e+18 -3.596627e+18\n",
       "50%       1.468343e+09  1.893099e+16 -1.088422e+17\n",
       "75%       1.474461e+09  4.441012e+18  3.766319e+18\n",
       "max       1.488310e+09  9.222265e+18  9.210531e+18"
      ]
     },
     "execution_count": 5,
     "metadata": {},
     "output_type": "execute_result"
    }
   ],
   "source": [
    "consumer_transactions.describe()"
   ]
  },
  {
   "cell_type": "code",
   "execution_count": 6,
   "metadata": {},
   "outputs": [
    {
     "data": {
      "text/html": [
       "<div>\n",
       "<style scoped>\n",
       "    .dataframe tbody tr th:only-of-type {\n",
       "        vertical-align: middle;\n",
       "    }\n",
       "\n",
       "    .dataframe tbody tr th {\n",
       "        vertical-align: top;\n",
       "    }\n",
       "\n",
       "    .dataframe thead th {\n",
       "        text-align: right;\n",
       "    }\n",
       "</style>\n",
       "<table border=\"1\" class=\"dataframe\">\n",
       "  <thead>\n",
       "    <tr style=\"text-align: right;\">\n",
       "      <th></th>\n",
       "      <th>event_timestamp</th>\n",
       "      <th>interaction_type</th>\n",
       "      <th>item_id</th>\n",
       "      <th>producer_id</th>\n",
       "      <th>producer_session_id</th>\n",
       "      <th>producer_device_info</th>\n",
       "      <th>producer_location</th>\n",
       "      <th>producer_country</th>\n",
       "      <th>item_type</th>\n",
       "      <th>item_url</th>\n",
       "      <th>title</th>\n",
       "      <th>text_description</th>\n",
       "      <th>language</th>\n",
       "    </tr>\n",
       "  </thead>\n",
       "  <tbody>\n",
       "    <tr>\n",
       "      <th>0</th>\n",
       "      <td>1459192779</td>\n",
       "      <td>content_pulled_out</td>\n",
       "      <td>-6451309518266745024</td>\n",
       "      <td>4340306774493623681</td>\n",
       "      <td>8940341205206233829</td>\n",
       "      <td>NaN</td>\n",
       "      <td>NaN</td>\n",
       "      <td>NaN</td>\n",
       "      <td>HTML</td>\n",
       "      <td>http://www.nytimes.com/2016/03/28/business/dea...</td>\n",
       "      <td>Ethereum, a Virtual Currency, Enables Transact...</td>\n",
       "      <td>All of this work is still very early. The firs...</td>\n",
       "      <td>en</td>\n",
       "    </tr>\n",
       "    <tr>\n",
       "      <th>1</th>\n",
       "      <td>1459193988</td>\n",
       "      <td>content_present</td>\n",
       "      <td>-4110354420726924665</td>\n",
       "      <td>4340306774493623681</td>\n",
       "      <td>8940341205206233829</td>\n",
       "      <td>NaN</td>\n",
       "      <td>NaN</td>\n",
       "      <td>NaN</td>\n",
       "      <td>HTML</td>\n",
       "      <td>http://www.nytimes.com/2016/03/28/business/dea...</td>\n",
       "      <td>Ethereum, a Virtual Currency, Enables Transact...</td>\n",
       "      <td>All of this work is still very early. The firs...</td>\n",
       "      <td>en</td>\n",
       "    </tr>\n",
       "    <tr>\n",
       "      <th>2</th>\n",
       "      <td>1459194146</td>\n",
       "      <td>content_present</td>\n",
       "      <td>-7292285110016212249</td>\n",
       "      <td>4340306774493623681</td>\n",
       "      <td>8940341205206233829</td>\n",
       "      <td>NaN</td>\n",
       "      <td>NaN</td>\n",
       "      <td>NaN</td>\n",
       "      <td>HTML</td>\n",
       "      <td>http://cointelegraph.com/news/bitcoin-future-w...</td>\n",
       "      <td>Bitcoin Future: When GBPcoin of Branson Wins O...</td>\n",
       "      <td>The alarm clock wakes me at 8:00 with stream o...</td>\n",
       "      <td>en</td>\n",
       "    </tr>\n",
       "    <tr>\n",
       "      <th>3</th>\n",
       "      <td>1459194474</td>\n",
       "      <td>content_present</td>\n",
       "      <td>-6151852268067518688</td>\n",
       "      <td>3891637997717104548</td>\n",
       "      <td>-1457532940883382585</td>\n",
       "      <td>NaN</td>\n",
       "      <td>NaN</td>\n",
       "      <td>NaN</td>\n",
       "      <td>HTML</td>\n",
       "      <td>https://cloudplatform.googleblog.com/2016/03/G...</td>\n",
       "      <td>Google Data Center 360° Tour</td>\n",
       "      <td>We're excited to share the Google Data Center ...</td>\n",
       "      <td>en</td>\n",
       "    </tr>\n",
       "    <tr>\n",
       "      <th>4</th>\n",
       "      <td>1459194497</td>\n",
       "      <td>content_present</td>\n",
       "      <td>2448026894306402386</td>\n",
       "      <td>4340306774493623681</td>\n",
       "      <td>8940341205206233829</td>\n",
       "      <td>NaN</td>\n",
       "      <td>NaN</td>\n",
       "      <td>NaN</td>\n",
       "      <td>HTML</td>\n",
       "      <td>https://bitcoinmagazine.com/articles/ibm-wants...</td>\n",
       "      <td>IBM Wants to \"Evolve the Internet\" With Blockc...</td>\n",
       "      <td>The Aite Group projects the blockchain market ...</td>\n",
       "      <td>en</td>\n",
       "    </tr>\n",
       "  </tbody>\n",
       "</table>\n",
       "</div>"
      ],
      "text/plain": [
       "   event_timestamp    interaction_type              item_id  \\\n",
       "0       1459192779  content_pulled_out -6451309518266745024   \n",
       "1       1459193988     content_present -4110354420726924665   \n",
       "2       1459194146     content_present -7292285110016212249   \n",
       "3       1459194474     content_present -6151852268067518688   \n",
       "4       1459194497     content_present  2448026894306402386   \n",
       "\n",
       "           producer_id  producer_session_id producer_device_info  \\\n",
       "0  4340306774493623681  8940341205206233829                  NaN   \n",
       "1  4340306774493623681  8940341205206233829                  NaN   \n",
       "2  4340306774493623681  8940341205206233829                  NaN   \n",
       "3  3891637997717104548 -1457532940883382585                  NaN   \n",
       "4  4340306774493623681  8940341205206233829                  NaN   \n",
       "\n",
       "  producer_location producer_country item_type  \\\n",
       "0               NaN              NaN      HTML   \n",
       "1               NaN              NaN      HTML   \n",
       "2               NaN              NaN      HTML   \n",
       "3               NaN              NaN      HTML   \n",
       "4               NaN              NaN      HTML   \n",
       "\n",
       "                                            item_url  \\\n",
       "0  http://www.nytimes.com/2016/03/28/business/dea...   \n",
       "1  http://www.nytimes.com/2016/03/28/business/dea...   \n",
       "2  http://cointelegraph.com/news/bitcoin-future-w...   \n",
       "3  https://cloudplatform.googleblog.com/2016/03/G...   \n",
       "4  https://bitcoinmagazine.com/articles/ibm-wants...   \n",
       "\n",
       "                                               title  \\\n",
       "0  Ethereum, a Virtual Currency, Enables Transact...   \n",
       "1  Ethereum, a Virtual Currency, Enables Transact...   \n",
       "2  Bitcoin Future: When GBPcoin of Branson Wins O...   \n",
       "3                       Google Data Center 360° Tour   \n",
       "4  IBM Wants to \"Evolve the Internet\" With Blockc...   \n",
       "\n",
       "                                    text_description language  \n",
       "0  All of this work is still very early. The firs...       en  \n",
       "1  All of this work is still very early. The firs...       en  \n",
       "2  The alarm clock wakes me at 8:00 with stream o...       en  \n",
       "3  We're excited to share the Google Data Center ...       en  \n",
       "4  The Aite Group projects the blockchain market ...       en  "
      ]
     },
     "execution_count": 6,
     "metadata": {},
     "output_type": "execute_result"
    }
   ],
   "source": [
    "platform_content.head()"
   ]
  },
  {
   "cell_type": "code",
   "execution_count": 7,
   "metadata": {},
   "outputs": [
    {
     "data": {
      "text/plain": [
       "content_present       3047\n",
       "content_pulled_out      75\n",
       "Name: interaction_type, dtype: int64"
      ]
     },
     "execution_count": 7,
     "metadata": {},
     "output_type": "execute_result"
    }
   ],
   "source": [
    "# lets check interaction type value counts\n",
    "\n",
    "platform_content.interaction_type.value_counts()"
   ]
  },
  {
   "cell_type": "code",
   "execution_count": 8,
   "metadata": {},
   "outputs": [],
   "source": [
    "# drop content that is pulled out from app\n",
    "\n",
    "platform_content = platform_content[platform_content.interaction_type != 'content_pulled_out']"
   ]
  },
  {
   "cell_type": "code",
   "execution_count": 9,
   "metadata": {},
   "outputs": [
    {
     "data": {
      "text/plain": [
       "event_timestamp         3046\n",
       "interaction_type           1\n",
       "item_id                 3047\n",
       "producer_id              252\n",
       "producer_session_id     2010\n",
       "producer_device_info     114\n",
       "producer_location         19\n",
       "producer_country           5\n",
       "item_type                  3\n",
       "item_url                3023\n",
       "title                   3003\n",
       "text_description        3013\n",
       "language                   5\n",
       "dtype: int64"
      ]
     },
     "execution_count": 9,
     "metadata": {},
     "output_type": "execute_result"
    }
   ],
   "source": [
    "# lets find unique values in each column\n",
    "\n",
    "platform_content.nunique()"
   ]
  },
  {
   "cell_type": "code",
   "execution_count": 10,
   "metadata": {},
   "outputs": [
    {
     "data": {
      "text/plain": [
       "en    2211\n",
       "pt     829\n",
       "la       3\n",
       "ja       2\n",
       "es       2\n",
       "Name: language, dtype: int64"
      ]
     },
     "execution_count": 10,
     "metadata": {},
     "output_type": "execute_result"
    }
   ],
   "source": [
    "# lets check language value counts\n",
    "\n",
    "platform_content.language.value_counts()"
   ]
  },
  {
   "cell_type": "code",
   "execution_count": 11,
   "metadata": {},
   "outputs": [],
   "source": [
    "# lets filter only english articles\n",
    "\n",
    "platform_content = platform_content[platform_content.language == 'en']"
   ]
  },
  {
   "cell_type": "code",
   "execution_count": 12,
   "metadata": {},
   "outputs": [
    {
     "data": {
      "text/plain": [
       "(2211, 13)"
      ]
     },
     "execution_count": 12,
     "metadata": {},
     "output_type": "execute_result"
    }
   ],
   "source": [
    "platform_content.shape"
   ]
  },
  {
   "cell_type": "code",
   "execution_count": 13,
   "metadata": {},
   "outputs": [
    {
     "data": {
      "text/plain": [
       "2211"
      ]
     },
     "execution_count": 13,
     "metadata": {},
     "output_type": "execute_result"
    }
   ],
   "source": [
    "# lets check if item_id are unique\n",
    "\n",
    "platform_content.item_id.nunique()"
   ]
  },
  {
   "cell_type": "code",
   "execution_count": 14,
   "metadata": {},
   "outputs": [],
   "source": [
    "# since record counts match, item_id are unique"
   ]
  },
  {
   "cell_type": "code",
   "execution_count": 15,
   "metadata": {},
   "outputs": [
    {
     "data": {
      "text/plain": [
       "0"
      ]
     },
     "execution_count": 15,
     "metadata": {},
     "output_type": "execute_result"
    }
   ],
   "source": [
    "# check if there are duplicate item_ids\n",
    "\n",
    "(platform_content.item_id.value_counts() > 1).sum()"
   ]
  },
  {
   "cell_type": "code",
   "execution_count": 16,
   "metadata": {},
   "outputs": [],
   "source": [
    "# since above output is 0, there are no duplicates"
   ]
  },
  {
   "cell_type": "code",
   "execution_count": null,
   "metadata": {},
   "outputs": [],
   "source": []
  },
  {
   "cell_type": "code",
   "execution_count": 17,
   "metadata": {},
   "outputs": [
    {
     "data": {
      "text/html": [
       "<div>\n",
       "<style scoped>\n",
       "    .dataframe tbody tr th:only-of-type {\n",
       "        vertical-align: middle;\n",
       "    }\n",
       "\n",
       "    .dataframe tbody tr th {\n",
       "        vertical-align: top;\n",
       "    }\n",
       "\n",
       "    .dataframe thead th {\n",
       "        text-align: right;\n",
       "    }\n",
       "</style>\n",
       "<table border=\"1\" class=\"dataframe\">\n",
       "  <thead>\n",
       "    <tr style=\"text-align: right;\">\n",
       "      <th></th>\n",
       "      <th>event_timestamp</th>\n",
       "      <th>interaction_type</th>\n",
       "      <th>item_id</th>\n",
       "      <th>producer_id</th>\n",
       "      <th>producer_session_id</th>\n",
       "      <th>producer_device_info</th>\n",
       "      <th>producer_location</th>\n",
       "      <th>producer_country</th>\n",
       "      <th>item_type</th>\n",
       "      <th>item_url</th>\n",
       "      <th>title</th>\n",
       "      <th>text_description</th>\n",
       "      <th>language</th>\n",
       "    </tr>\n",
       "  </thead>\n",
       "  <tbody>\n",
       "    <tr>\n",
       "      <th>1</th>\n",
       "      <td>1459193988</td>\n",
       "      <td>content_present</td>\n",
       "      <td>-4110354420726924665</td>\n",
       "      <td>4340306774493623681</td>\n",
       "      <td>8940341205206233829</td>\n",
       "      <td>NaN</td>\n",
       "      <td>NaN</td>\n",
       "      <td>NaN</td>\n",
       "      <td>HTML</td>\n",
       "      <td>http://www.nytimes.com/2016/03/28/business/dea...</td>\n",
       "      <td>Ethereum, a Virtual Currency, Enables Transact...</td>\n",
       "      <td>All of this work is still very early. The firs...</td>\n",
       "      <td>en</td>\n",
       "    </tr>\n",
       "    <tr>\n",
       "      <th>2</th>\n",
       "      <td>1459194146</td>\n",
       "      <td>content_present</td>\n",
       "      <td>-7292285110016212249</td>\n",
       "      <td>4340306774493623681</td>\n",
       "      <td>8940341205206233829</td>\n",
       "      <td>NaN</td>\n",
       "      <td>NaN</td>\n",
       "      <td>NaN</td>\n",
       "      <td>HTML</td>\n",
       "      <td>http://cointelegraph.com/news/bitcoin-future-w...</td>\n",
       "      <td>Bitcoin Future: When GBPcoin of Branson Wins O...</td>\n",
       "      <td>The alarm clock wakes me at 8:00 with stream o...</td>\n",
       "      <td>en</td>\n",
       "    </tr>\n",
       "    <tr>\n",
       "      <th>3</th>\n",
       "      <td>1459194474</td>\n",
       "      <td>content_present</td>\n",
       "      <td>-6151852268067518688</td>\n",
       "      <td>3891637997717104548</td>\n",
       "      <td>-1457532940883382585</td>\n",
       "      <td>NaN</td>\n",
       "      <td>NaN</td>\n",
       "      <td>NaN</td>\n",
       "      <td>HTML</td>\n",
       "      <td>https://cloudplatform.googleblog.com/2016/03/G...</td>\n",
       "      <td>Google Data Center 360° Tour</td>\n",
       "      <td>We're excited to share the Google Data Center ...</td>\n",
       "      <td>en</td>\n",
       "    </tr>\n",
       "    <tr>\n",
       "      <th>4</th>\n",
       "      <td>1459194497</td>\n",
       "      <td>content_present</td>\n",
       "      <td>2448026894306402386</td>\n",
       "      <td>4340306774493623681</td>\n",
       "      <td>8940341205206233829</td>\n",
       "      <td>NaN</td>\n",
       "      <td>NaN</td>\n",
       "      <td>NaN</td>\n",
       "      <td>HTML</td>\n",
       "      <td>https://bitcoinmagazine.com/articles/ibm-wants...</td>\n",
       "      <td>IBM Wants to \"Evolve the Internet\" With Blockc...</td>\n",
       "      <td>The Aite Group projects the blockchain market ...</td>\n",
       "      <td>en</td>\n",
       "    </tr>\n",
       "    <tr>\n",
       "      <th>5</th>\n",
       "      <td>1459194522</td>\n",
       "      <td>content_present</td>\n",
       "      <td>-2826566343807132236</td>\n",
       "      <td>4340306774493623681</td>\n",
       "      <td>8940341205206233829</td>\n",
       "      <td>NaN</td>\n",
       "      <td>NaN</td>\n",
       "      <td>NaN</td>\n",
       "      <td>HTML</td>\n",
       "      <td>http://www.coindesk.com/ieee-blockchain-oxford...</td>\n",
       "      <td>IEEE to Talk Blockchain at Cloud Computing Oxf...</td>\n",
       "      <td>One of the largest and oldest organizations fo...</td>\n",
       "      <td>en</td>\n",
       "    </tr>\n",
       "  </tbody>\n",
       "</table>\n",
       "</div>"
      ],
      "text/plain": [
       "   event_timestamp interaction_type              item_id          producer_id  \\\n",
       "1       1459193988  content_present -4110354420726924665  4340306774493623681   \n",
       "2       1459194146  content_present -7292285110016212249  4340306774493623681   \n",
       "3       1459194474  content_present -6151852268067518688  3891637997717104548   \n",
       "4       1459194497  content_present  2448026894306402386  4340306774493623681   \n",
       "5       1459194522  content_present -2826566343807132236  4340306774493623681   \n",
       "\n",
       "   producer_session_id producer_device_info producer_location  \\\n",
       "1  8940341205206233829                  NaN               NaN   \n",
       "2  8940341205206233829                  NaN               NaN   \n",
       "3 -1457532940883382585                  NaN               NaN   \n",
       "4  8940341205206233829                  NaN               NaN   \n",
       "5  8940341205206233829                  NaN               NaN   \n",
       "\n",
       "  producer_country item_type  \\\n",
       "1              NaN      HTML   \n",
       "2              NaN      HTML   \n",
       "3              NaN      HTML   \n",
       "4              NaN      HTML   \n",
       "5              NaN      HTML   \n",
       "\n",
       "                                            item_url  \\\n",
       "1  http://www.nytimes.com/2016/03/28/business/dea...   \n",
       "2  http://cointelegraph.com/news/bitcoin-future-w...   \n",
       "3  https://cloudplatform.googleblog.com/2016/03/G...   \n",
       "4  https://bitcoinmagazine.com/articles/ibm-wants...   \n",
       "5  http://www.coindesk.com/ieee-blockchain-oxford...   \n",
       "\n",
       "                                               title  \\\n",
       "1  Ethereum, a Virtual Currency, Enables Transact...   \n",
       "2  Bitcoin Future: When GBPcoin of Branson Wins O...   \n",
       "3                       Google Data Center 360° Tour   \n",
       "4  IBM Wants to \"Evolve the Internet\" With Blockc...   \n",
       "5  IEEE to Talk Blockchain at Cloud Computing Oxf...   \n",
       "\n",
       "                                    text_description language  \n",
       "1  All of this work is still very early. The firs...       en  \n",
       "2  The alarm clock wakes me at 8:00 with stream o...       en  \n",
       "3  We're excited to share the Google Data Center ...       en  \n",
       "4  The Aite Group projects the blockchain market ...       en  \n",
       "5  One of the largest and oldest organizations fo...       en  "
      ]
     },
     "execution_count": 17,
     "metadata": {},
     "output_type": "execute_result"
    }
   ],
   "source": [
    "platform_content.head()"
   ]
  },
  {
   "cell_type": "code",
   "execution_count": null,
   "metadata": {},
   "outputs": [],
   "source": []
  },
  {
   "cell_type": "code",
   "execution_count": 18,
   "metadata": {},
   "outputs": [],
   "source": [
    "# now item_ids are simplified, lets remove unrequired columns\n",
    "\n",
    "platform_content_df = platform_content[['item_id', 'title', 'text_description', 'item_url']]"
   ]
  },
  {
   "cell_type": "code",
   "execution_count": 19,
   "metadata": {},
   "outputs": [
    {
     "data": {
      "text/html": [
       "<div>\n",
       "<style scoped>\n",
       "    .dataframe tbody tr th:only-of-type {\n",
       "        vertical-align: middle;\n",
       "    }\n",
       "\n",
       "    .dataframe tbody tr th {\n",
       "        vertical-align: top;\n",
       "    }\n",
       "\n",
       "    .dataframe thead th {\n",
       "        text-align: right;\n",
       "    }\n",
       "</style>\n",
       "<table border=\"1\" class=\"dataframe\">\n",
       "  <thead>\n",
       "    <tr style=\"text-align: right;\">\n",
       "      <th></th>\n",
       "      <th>item_id</th>\n",
       "      <th>title</th>\n",
       "      <th>text_description</th>\n",
       "      <th>item_url</th>\n",
       "    </tr>\n",
       "  </thead>\n",
       "  <tbody>\n",
       "    <tr>\n",
       "      <th>1</th>\n",
       "      <td>-4110354420726924665</td>\n",
       "      <td>Ethereum, a Virtual Currency, Enables Transact...</td>\n",
       "      <td>All of this work is still very early. The firs...</td>\n",
       "      <td>http://www.nytimes.com/2016/03/28/business/dea...</td>\n",
       "    </tr>\n",
       "    <tr>\n",
       "      <th>2</th>\n",
       "      <td>-7292285110016212249</td>\n",
       "      <td>Bitcoin Future: When GBPcoin of Branson Wins O...</td>\n",
       "      <td>The alarm clock wakes me at 8:00 with stream o...</td>\n",
       "      <td>http://cointelegraph.com/news/bitcoin-future-w...</td>\n",
       "    </tr>\n",
       "    <tr>\n",
       "      <th>3</th>\n",
       "      <td>-6151852268067518688</td>\n",
       "      <td>Google Data Center 360° Tour</td>\n",
       "      <td>We're excited to share the Google Data Center ...</td>\n",
       "      <td>https://cloudplatform.googleblog.com/2016/03/G...</td>\n",
       "    </tr>\n",
       "    <tr>\n",
       "      <th>4</th>\n",
       "      <td>2448026894306402386</td>\n",
       "      <td>IBM Wants to \"Evolve the Internet\" With Blockc...</td>\n",
       "      <td>The Aite Group projects the blockchain market ...</td>\n",
       "      <td>https://bitcoinmagazine.com/articles/ibm-wants...</td>\n",
       "    </tr>\n",
       "    <tr>\n",
       "      <th>5</th>\n",
       "      <td>-2826566343807132236</td>\n",
       "      <td>IEEE to Talk Blockchain at Cloud Computing Oxf...</td>\n",
       "      <td>One of the largest and oldest organizations fo...</td>\n",
       "      <td>http://www.coindesk.com/ieee-blockchain-oxford...</td>\n",
       "    </tr>\n",
       "    <tr>\n",
       "      <th>...</th>\n",
       "      <td>...</td>\n",
       "      <td>...</td>\n",
       "      <td>...</td>\n",
       "      <td>...</td>\n",
       "    </tr>\n",
       "    <tr>\n",
       "      <th>3116</th>\n",
       "      <td>4675505028897335428</td>\n",
       "      <td>Swift Top 10 Articles For The Past Year (v.2017)</td>\n",
       "      <td>For the past year , we've ranked nearly 9,000 ...</td>\n",
       "      <td>https://medium.mybridge.co/swift-top-10-articl...</td>\n",
       "    </tr>\n",
       "    <tr>\n",
       "      <th>3118</th>\n",
       "      <td>-3295913657316686039</td>\n",
       "      <td>Amazon takes on Skype and GoToMeeting with its...</td>\n",
       "      <td>Amazon has launched Chime, a video conferencin...</td>\n",
       "      <td>https://thenextweb.com/apps/2017/02/14/amazon-...</td>\n",
       "    </tr>\n",
       "    <tr>\n",
       "      <th>3119</th>\n",
       "      <td>3618271604906293310</td>\n",
       "      <td>Code.org 2016 Annual Report</td>\n",
       "      <td>February 9, 2017 - We begin each year with a l...</td>\n",
       "      <td>https://code.org/about/2016</td>\n",
       "    </tr>\n",
       "    <tr>\n",
       "      <th>3120</th>\n",
       "      <td>6607431762270322325</td>\n",
       "      <td>JPMorgan Software Does in Seconds What Took La...</td>\n",
       "      <td>At JPMorgan Chase &amp; Co., a learning machine is...</td>\n",
       "      <td>https://www.bloomberg.com/news/articles/2017-0...</td>\n",
       "    </tr>\n",
       "    <tr>\n",
       "      <th>3121</th>\n",
       "      <td>4109618890343020064</td>\n",
       "      <td>The 2017 Acquia Partners of the Year</td>\n",
       "      <td>The Acquia Partner Awards Program is comprised...</td>\n",
       "      <td>https://www.acquia.com/blog/partner/2017-acqui...</td>\n",
       "    </tr>\n",
       "  </tbody>\n",
       "</table>\n",
       "<p>2211 rows × 4 columns</p>\n",
       "</div>"
      ],
      "text/plain": [
       "                  item_id                                              title  \\\n",
       "1    -4110354420726924665  Ethereum, a Virtual Currency, Enables Transact...   \n",
       "2    -7292285110016212249  Bitcoin Future: When GBPcoin of Branson Wins O...   \n",
       "3    -6151852268067518688                       Google Data Center 360° Tour   \n",
       "4     2448026894306402386  IBM Wants to \"Evolve the Internet\" With Blockc...   \n",
       "5    -2826566343807132236  IEEE to Talk Blockchain at Cloud Computing Oxf...   \n",
       "...                   ...                                                ...   \n",
       "3116  4675505028897335428   Swift Top 10 Articles For The Past Year (v.2017)   \n",
       "3118 -3295913657316686039  Amazon takes on Skype and GoToMeeting with its...   \n",
       "3119  3618271604906293310                        Code.org 2016 Annual Report   \n",
       "3120  6607431762270322325  JPMorgan Software Does in Seconds What Took La...   \n",
       "3121  4109618890343020064               The 2017 Acquia Partners of the Year   \n",
       "\n",
       "                                       text_description  \\\n",
       "1     All of this work is still very early. The firs...   \n",
       "2     The alarm clock wakes me at 8:00 with stream o...   \n",
       "3     We're excited to share the Google Data Center ...   \n",
       "4     The Aite Group projects the blockchain market ...   \n",
       "5     One of the largest and oldest organizations fo...   \n",
       "...                                                 ...   \n",
       "3116  For the past year , we've ranked nearly 9,000 ...   \n",
       "3118  Amazon has launched Chime, a video conferencin...   \n",
       "3119  February 9, 2017 - We begin each year with a l...   \n",
       "3120  At JPMorgan Chase & Co., a learning machine is...   \n",
       "3121  The Acquia Partner Awards Program is comprised...   \n",
       "\n",
       "                                               item_url  \n",
       "1     http://www.nytimes.com/2016/03/28/business/dea...  \n",
       "2     http://cointelegraph.com/news/bitcoin-future-w...  \n",
       "3     https://cloudplatform.googleblog.com/2016/03/G...  \n",
       "4     https://bitcoinmagazine.com/articles/ibm-wants...  \n",
       "5     http://www.coindesk.com/ieee-blockchain-oxford...  \n",
       "...                                                 ...  \n",
       "3116  https://medium.mybridge.co/swift-top-10-articl...  \n",
       "3118  https://thenextweb.com/apps/2017/02/14/amazon-...  \n",
       "3119                        https://code.org/about/2016  \n",
       "3120  https://www.bloomberg.com/news/articles/2017-0...  \n",
       "3121  https://www.acquia.com/blog/partner/2017-acqui...  \n",
       "\n",
       "[2211 rows x 4 columns]"
      ]
     },
     "execution_count": 19,
     "metadata": {},
     "output_type": "execute_result"
    }
   ],
   "source": [
    "platform_content_df"
   ]
  },
  {
   "cell_type": "code",
   "execution_count": 20,
   "metadata": {},
   "outputs": [],
   "source": [
    "# lets look at consumer_transactions data now"
   ]
  },
  {
   "cell_type": "code",
   "execution_count": 21,
   "metadata": {},
   "outputs": [
    {
     "data": {
      "text/html": [
       "<div>\n",
       "<style scoped>\n",
       "    .dataframe tbody tr th:only-of-type {\n",
       "        vertical-align: middle;\n",
       "    }\n",
       "\n",
       "    .dataframe tbody tr th {\n",
       "        vertical-align: top;\n",
       "    }\n",
       "\n",
       "    .dataframe thead th {\n",
       "        text-align: right;\n",
       "    }\n",
       "</style>\n",
       "<table border=\"1\" class=\"dataframe\">\n",
       "  <thead>\n",
       "    <tr style=\"text-align: right;\">\n",
       "      <th></th>\n",
       "      <th>event_timestamp</th>\n",
       "      <th>interaction_type</th>\n",
       "      <th>item_id</th>\n",
       "      <th>consumer_id</th>\n",
       "      <th>consumer_session_id</th>\n",
       "      <th>consumer_device_info</th>\n",
       "      <th>consumer_location</th>\n",
       "      <th>country</th>\n",
       "    </tr>\n",
       "  </thead>\n",
       "  <tbody>\n",
       "    <tr>\n",
       "      <th>0</th>\n",
       "      <td>1465413032</td>\n",
       "      <td>content_watched</td>\n",
       "      <td>-3499919498720038879</td>\n",
       "      <td>-8845298781299428018</td>\n",
       "      <td>1264196770339959068</td>\n",
       "      <td>NaN</td>\n",
       "      <td>NaN</td>\n",
       "      <td>NaN</td>\n",
       "    </tr>\n",
       "    <tr>\n",
       "      <th>1</th>\n",
       "      <td>1465412560</td>\n",
       "      <td>content_watched</td>\n",
       "      <td>8890720798209849691</td>\n",
       "      <td>-1032019229384696495</td>\n",
       "      <td>3621737643587579081</td>\n",
       "      <td>Mozilla/5.0 (Macintosh; Intel Mac OS X 10_11_2...</td>\n",
       "      <td>NY</td>\n",
       "      <td>US</td>\n",
       "    </tr>\n",
       "    <tr>\n",
       "      <th>2</th>\n",
       "      <td>1465416190</td>\n",
       "      <td>content_watched</td>\n",
       "      <td>310515487419366995</td>\n",
       "      <td>-1130272294246983140</td>\n",
       "      <td>2631864456530402479</td>\n",
       "      <td>NaN</td>\n",
       "      <td>NaN</td>\n",
       "      <td>NaN</td>\n",
       "    </tr>\n",
       "    <tr>\n",
       "      <th>3</th>\n",
       "      <td>1465413895</td>\n",
       "      <td>content_followed</td>\n",
       "      <td>310515487419366995</td>\n",
       "      <td>344280948527967603</td>\n",
       "      <td>-3167637573980064150</td>\n",
       "      <td>NaN</td>\n",
       "      <td>NaN</td>\n",
       "      <td>NaN</td>\n",
       "    </tr>\n",
       "    <tr>\n",
       "      <th>4</th>\n",
       "      <td>1465412290</td>\n",
       "      <td>content_watched</td>\n",
       "      <td>-7820640624231356730</td>\n",
       "      <td>-445337111692715325</td>\n",
       "      <td>561148 1178424124714</td>\n",
       "      <td>NaN</td>\n",
       "      <td>NaN</td>\n",
       "      <td>NaN</td>\n",
       "    </tr>\n",
       "  </tbody>\n",
       "</table>\n",
       "</div>"
      ],
      "text/plain": [
       "   event_timestamp  interaction_type              item_id  \\\n",
       "0       1465413032   content_watched -3499919498720038879   \n",
       "1       1465412560   content_watched  8890720798209849691   \n",
       "2       1465416190   content_watched   310515487419366995   \n",
       "3       1465413895  content_followed   310515487419366995   \n",
       "4       1465412290   content_watched -7820640624231356730   \n",
       "\n",
       "           consumer_id   consumer_session_id  \\\n",
       "0 -8845298781299428018   1264196770339959068   \n",
       "1 -1032019229384696495   3621737643587579081   \n",
       "2 -1130272294246983140   2631864456530402479   \n",
       "3   344280948527967603  -3167637573980064150   \n",
       "4  -445337111692715325  561148 1178424124714   \n",
       "\n",
       "                                consumer_device_info consumer_location country  \n",
       "0                                                NaN               NaN     NaN  \n",
       "1  Mozilla/5.0 (Macintosh; Intel Mac OS X 10_11_2...                NY      US  \n",
       "2                                                NaN               NaN     NaN  \n",
       "3                                                NaN               NaN     NaN  \n",
       "4                                                NaN               NaN     NaN  "
      ]
     },
     "execution_count": 21,
     "metadata": {},
     "output_type": "execute_result"
    }
   ],
   "source": [
    "consumer_transactions.head()"
   ]
  },
  {
   "cell_type": "code",
   "execution_count": null,
   "metadata": {},
   "outputs": [],
   "source": []
  },
  {
   "cell_type": "code",
   "execution_count": 22,
   "metadata": {},
   "outputs": [
    {
     "data": {
      "text/plain": [
       "2987"
      ]
     },
     "execution_count": 22,
     "metadata": {},
     "output_type": "execute_result"
    }
   ],
   "source": [
    "consumer_transactions.item_id.nunique()"
   ]
  },
  {
   "cell_type": "code",
   "execution_count": 23,
   "metadata": {},
   "outputs": [
    {
     "data": {
      "image/png": "[encoded data removed]",
      "text/plain": [
       "<Figure size 720x360 with 1 Axes>"
      ]
     },
     "metadata": {
      "needs_background": "light"
     },
     "output_type": "display_data"
    }
   ],
   "source": [
    "# lets see top 10 consumer locations\n",
    "\n",
    "plt.figure(figsize=(10,5))\n",
    "consumer_transactions.consumer_location.value_counts(dropna=False)[:10].plot(kind='bar')\n",
    "plt.show()"
   ]
  },
  {
   "cell_type": "code",
   "execution_count": 24,
   "metadata": {},
   "outputs": [
    {
     "data": {
      "image/png": "[encoded data removed]",
      "text/plain": [
       "<Figure size 720x360 with 1 Axes>"
      ]
     },
     "metadata": {
      "needs_background": "light"
     },
     "output_type": "display_data"
    }
   ],
   "source": [
    "# lets see top 10 countries\n",
    "\n",
    "plt.figure(figsize=(10,5))\n",
    "consumer_transactions.country.value_counts(dropna=False)[:10].plot(kind='bar')\n",
    "plt.show()"
   ]
  },
  {
   "cell_type": "code",
   "execution_count": 25,
   "metadata": {},
   "outputs": [],
   "source": [
    "# most of the users are from SP and MG location both belongs to Brazil. There are null values as well.\n",
    "\n",
    "# Most of the users are from Brazil followed by US. There are null values as well."
   ]
  },
  {
   "cell_type": "code",
   "execution_count": 26,
   "metadata": {},
   "outputs": [],
   "source": [
    "# most of the users have rated 1 which means they did not like the movie"
   ]
  },
  {
   "cell_type": "code",
   "execution_count": 27,
   "metadata": {},
   "outputs": [
    {
     "data": {
      "text/html": [
       "<div>\n",
       "<style scoped>\n",
       "    .dataframe tbody tr th:only-of-type {\n",
       "        vertical-align: middle;\n",
       "    }\n",
       "\n",
       "    .dataframe tbody tr th {\n",
       "        vertical-align: top;\n",
       "    }\n",
       "\n",
       "    .dataframe thead th {\n",
       "        text-align: right;\n",
       "    }\n",
       "</style>\n",
       "<table border=\"1\" class=\"dataframe\">\n",
       "  <thead>\n",
       "    <tr style=\"text-align: right;\">\n",
       "      <th></th>\n",
       "      <th>event_timestamp</th>\n",
       "      <th>interaction_type</th>\n",
       "      <th>item_id</th>\n",
       "      <th>consumer_id</th>\n",
       "      <th>consumer_session_id</th>\n",
       "      <th>consumer_device_info</th>\n",
       "      <th>consumer_location</th>\n",
       "      <th>country</th>\n",
       "    </tr>\n",
       "  </thead>\n",
       "  <tbody>\n",
       "    <tr>\n",
       "      <th>0</th>\n",
       "      <td>1465413032</td>\n",
       "      <td>content_watched</td>\n",
       "      <td>-3499919498720038879</td>\n",
       "      <td>-8845298781299428018</td>\n",
       "      <td>1264196770339959068</td>\n",
       "      <td>NaN</td>\n",
       "      <td>NaN</td>\n",
       "      <td>NaN</td>\n",
       "    </tr>\n",
       "    <tr>\n",
       "      <th>1</th>\n",
       "      <td>1465412560</td>\n",
       "      <td>content_watched</td>\n",
       "      <td>8890720798209849691</td>\n",
       "      <td>-1032019229384696495</td>\n",
       "      <td>3621737643587579081</td>\n",
       "      <td>Mozilla/5.0 (Macintosh; Intel Mac OS X 10_11_2...</td>\n",
       "      <td>NY</td>\n",
       "      <td>US</td>\n",
       "    </tr>\n",
       "    <tr>\n",
       "      <th>2</th>\n",
       "      <td>1465416190</td>\n",
       "      <td>content_watched</td>\n",
       "      <td>310515487419366995</td>\n",
       "      <td>-1130272294246983140</td>\n",
       "      <td>2631864456530402479</td>\n",
       "      <td>NaN</td>\n",
       "      <td>NaN</td>\n",
       "      <td>NaN</td>\n",
       "    </tr>\n",
       "    <tr>\n",
       "      <th>3</th>\n",
       "      <td>1465413895</td>\n",
       "      <td>content_followed</td>\n",
       "      <td>310515487419366995</td>\n",
       "      <td>344280948527967603</td>\n",
       "      <td>-3167637573980064150</td>\n",
       "      <td>NaN</td>\n",
       "      <td>NaN</td>\n",
       "      <td>NaN</td>\n",
       "    </tr>\n",
       "    <tr>\n",
       "      <th>4</th>\n",
       "      <td>1465412290</td>\n",
       "      <td>content_watched</td>\n",
       "      <td>-7820640624231356730</td>\n",
       "      <td>-445337111692715325</td>\n",
       "      <td>561148 1178424124714</td>\n",
       "      <td>NaN</td>\n",
       "      <td>NaN</td>\n",
       "      <td>NaN</td>\n",
       "    </tr>\n",
       "  </tbody>\n",
       "</table>\n",
       "</div>"
      ],
      "text/plain": [
       "   event_timestamp  interaction_type              item_id  \\\n",
       "0       1465413032   content_watched -3499919498720038879   \n",
       "1       1465412560   content_watched  8890720798209849691   \n",
       "2       1465416190   content_watched   310515487419366995   \n",
       "3       1465413895  content_followed   310515487419366995   \n",
       "4       1465412290   content_watched -7820640624231356730   \n",
       "\n",
       "           consumer_id   consumer_session_id  \\\n",
       "0 -8845298781299428018   1264196770339959068   \n",
       "1 -1032019229384696495   3621737643587579081   \n",
       "2 -1130272294246983140   2631864456530402479   \n",
       "3   344280948527967603  -3167637573980064150   \n",
       "4  -445337111692715325  561148 1178424124714   \n",
       "\n",
       "                                consumer_device_info consumer_location country  \n",
       "0                                                NaN               NaN     NaN  \n",
       "1  Mozilla/5.0 (Macintosh; Intel Mac OS X 10_11_2...                NY      US  \n",
       "2                                                NaN               NaN     NaN  \n",
       "3                                                NaN               NaN     NaN  \n",
       "4                                                NaN               NaN     NaN  "
      ]
     },
     "execution_count": 27,
     "metadata": {},
     "output_type": "execute_result"
    }
   ],
   "source": [
    "# lets check if there are any duplicate records with item_id, consumer_id\n",
    "\n",
    "consumer_transactions.head()"
   ]
  },
  {
   "cell_type": "code",
   "execution_count": 28,
   "metadata": {},
   "outputs": [
    {
     "data": {
      "text/plain": [
       "item_id        2987\n",
       "consumer_id    1895\n",
       "dtype: int64"
      ]
     },
     "execution_count": 28,
     "metadata": {},
     "output_type": "execute_result"
    }
   ],
   "source": [
    "consumer_transactions[['item_id','consumer_id']].nunique()"
   ]
  },
  {
   "cell_type": "code",
   "execution_count": 29,
   "metadata": {},
   "outputs": [
    {
     "data": {
      "text/plain": [
       "event_timestamp             0\n",
       "interaction_type            0\n",
       "item_id                     0\n",
       "consumer_id                 0\n",
       "consumer_session_id         0\n",
       "consumer_device_info    15394\n",
       "consumer_location       15405\n",
       "country                 15394\n",
       "dtype: int64"
      ]
     },
     "execution_count": 29,
     "metadata": {},
     "output_type": "execute_result"
    }
   ],
   "source": [
    "# check if there are any nulls in columns of interest\n",
    "\n",
    "consumer_transactions.isna().sum()"
   ]
  },
  {
   "cell_type": "code",
   "execution_count": 30,
   "metadata": {},
   "outputs": [
    {
     "data": {
      "text/plain": [
       "(72312, 8)"
      ]
     },
     "execution_count": 30,
     "metadata": {},
     "output_type": "execute_result"
    }
   ],
   "source": [
    "consumer_transactions.shape"
   ]
  },
  {
   "cell_type": "code",
   "execution_count": 31,
   "metadata": {},
   "outputs": [
    {
     "data": {
      "text/plain": [
       "(72312,)"
      ]
     },
     "execution_count": 31,
     "metadata": {},
     "output_type": "execute_result"
    }
   ],
   "source": [
    "# append item_id and consumer_id and check if those are unique\n",
    "\n",
    "(consumer_transactions.item_id.apply(str) + consumer_transactions.consumer_id.apply(str)).shape"
   ]
  },
  {
   "cell_type": "code",
   "execution_count": 32,
   "metadata": {},
   "outputs": [
    {
     "data": {
      "text/plain": [
       "40710"
      ]
     },
     "execution_count": 32,
     "metadata": {},
     "output_type": "execute_result"
    }
   ],
   "source": [
    "(consumer_transactions.item_id.apply(str) + consumer_transactions.consumer_id.apply(str)).nunique()"
   ]
  },
  {
   "cell_type": "code",
   "execution_count": 33,
   "metadata": {},
   "outputs": [
    {
     "data": {
      "text/plain": [
       "31602"
      ]
     },
     "execution_count": 33,
     "metadata": {},
     "output_type": "execute_result"
    }
   ],
   "source": [
    "# so there are 72312 - 40710 = 31602 duplicate records\n",
    "\n",
    "72312 - 40710"
   ]
  },
  {
   "cell_type": "code",
   "execution_count": 34,
   "metadata": {},
   "outputs": [
    {
     "data": {
      "text/plain": [
       "-330801551666885085-709287718034731589     96\n",
       "-66427511596200640552947963873628556360    46\n",
       "37399264971769945248676130229735483748     44\n",
       "-133139342397538859983095443598229476      44\n",
       "-16339849907709811612195040187466632600    40\n",
       "                                           ..\n",
       "4164212115654350513-6611967527589759673     1\n",
       "667643281369196267-1578287561410088674      1\n",
       "-52893866359266295884313045637915476309     1\n",
       "14695801510361429033948719927571797789      1\n",
       "26722385318129651811842102772860934554      1\n",
       "Length: 40710, dtype: int64"
      ]
     },
     "execution_count": 34,
     "metadata": {},
     "output_type": "execute_result"
    }
   ],
   "source": [
    "# lets check value counts\n",
    "\n",
    "(consumer_transactions.item_id.apply(str) + consumer_transactions.consumer_id.apply(str)).value_counts()"
   ]
  },
  {
   "cell_type": "code",
   "execution_count": 35,
   "metadata": {},
   "outputs": [
    {
     "data": {
      "text/plain": [
       "False    24070\n",
       "True     16640\n",
       "dtype: int64"
      ]
     },
     "execution_count": 35,
     "metadata": {},
     "output_type": "execute_result"
    }
   ],
   "source": [
    "# ???? TODO: Do we need this ? lets check how many such items are duplicate\n",
    "\n",
    "((consumer_transactions.item_id.apply(str) + consumer_transactions.consumer_id.apply(str)).value_counts() > 1).value_counts()"
   ]
  },
  {
   "cell_type": "code",
   "execution_count": 36,
   "metadata": {},
   "outputs": [
    {
     "data": {
      "text/html": [
       "<div>\n",
       "<style scoped>\n",
       "    .dataframe tbody tr th:only-of-type {\n",
       "        vertical-align: middle;\n",
       "    }\n",
       "\n",
       "    .dataframe tbody tr th {\n",
       "        vertical-align: top;\n",
       "    }\n",
       "\n",
       "    .dataframe thead th {\n",
       "        text-align: right;\n",
       "    }\n",
       "</style>\n",
       "<table border=\"1\" class=\"dataframe\">\n",
       "  <thead>\n",
       "    <tr style=\"text-align: right;\">\n",
       "      <th></th>\n",
       "      <th>event_timestamp</th>\n",
       "      <th>interaction_type</th>\n",
       "      <th>item_id</th>\n",
       "      <th>consumer_id</th>\n",
       "      <th>consumer_session_id</th>\n",
       "      <th>consumer_device_info</th>\n",
       "      <th>consumer_location</th>\n",
       "      <th>country</th>\n",
       "    </tr>\n",
       "  </thead>\n",
       "  <tbody>\n",
       "    <tr>\n",
       "      <th>60508</th>\n",
       "      <td>1478488027</td>\n",
       "      <td>content_watched</td>\n",
       "      <td>-6642751159620064055</td>\n",
       "      <td>2947963873628556360</td>\n",
       "      <td>-4966095428048230102</td>\n",
       "      <td>Mozilla/5.0 (X11; Linux x86_64) AppleWebKit/53...</td>\n",
       "      <td>SP</td>\n",
       "      <td>BR</td>\n",
       "    </tr>\n",
       "    <tr>\n",
       "      <th>60539</th>\n",
       "      <td>1478528717</td>\n",
       "      <td>content_watched</td>\n",
       "      <td>-6642751159620064055</td>\n",
       "      <td>2947963873628556360</td>\n",
       "      <td>-4966095428048230102</td>\n",
       "      <td>Mozilla/5.0 (X11; Linux x86_64) AppleWebKit/53...</td>\n",
       "      <td>SP</td>\n",
       "      <td>BR</td>\n",
       "    </tr>\n",
       "    <tr>\n",
       "      <th>60744</th>\n",
       "      <td>1478606716</td>\n",
       "      <td>content_watched</td>\n",
       "      <td>-6642751159620064055</td>\n",
       "      <td>2947963873628556360</td>\n",
       "      <td>5048855244552968148</td>\n",
       "      <td>Mozilla/5.0 (X11; Linux x86_64) AppleWebKit/53...</td>\n",
       "      <td>SP</td>\n",
       "      <td>BR</td>\n",
       "    </tr>\n",
       "    <tr>\n",
       "      <th>60746</th>\n",
       "      <td>1478608608</td>\n",
       "      <td>content_watched</td>\n",
       "      <td>-6642751159620064055</td>\n",
       "      <td>2947963873628556360</td>\n",
       "      <td>5048855244552968148</td>\n",
       "      <td>Mozilla/5.0 (X11; Linux x86_64) AppleWebKit/53...</td>\n",
       "      <td>SP</td>\n",
       "      <td>BR</td>\n",
       "    </tr>\n",
       "    <tr>\n",
       "      <th>60790</th>\n",
       "      <td>1478633346</td>\n",
       "      <td>content_watched</td>\n",
       "      <td>-6642751159620064055</td>\n",
       "      <td>2947963873628556360</td>\n",
       "      <td>5048855244552968148</td>\n",
       "      <td>Mozilla/5.0 (X11; Linux x86_64) AppleWebKit/53...</td>\n",
       "      <td>SP</td>\n",
       "      <td>BR</td>\n",
       "    </tr>\n",
       "    <tr>\n",
       "      <th>60793</th>\n",
       "      <td>1478630716</td>\n",
       "      <td>content_watched</td>\n",
       "      <td>-6642751159620064055</td>\n",
       "      <td>2947963873628556360</td>\n",
       "      <td>5048855244552968148</td>\n",
       "      <td>Mozilla/5.0 (X11; Linux x86_64) AppleWebKit/53...</td>\n",
       "      <td>SP</td>\n",
       "      <td>BR</td>\n",
       "    </tr>\n",
       "    <tr>\n",
       "      <th>60860</th>\n",
       "      <td>1478627810</td>\n",
       "      <td>content_watched</td>\n",
       "      <td>-6642751159620064055</td>\n",
       "      <td>2947963873628556360</td>\n",
       "      <td>5048855244552968148</td>\n",
       "      <td>Mozilla/5.0 (X11; Linux x86_64) AppleWebKit/53...</td>\n",
       "      <td>SP</td>\n",
       "      <td>BR</td>\n",
       "    </tr>\n",
       "    <tr>\n",
       "      <th>61283</th>\n",
       "      <td>1479246851</td>\n",
       "      <td>content_watched</td>\n",
       "      <td>-6642751159620064055</td>\n",
       "      <td>2947963873628556360</td>\n",
       "      <td>5819084728106131297</td>\n",
       "      <td>Mozilla/5.0 (X11; Linux x86_64) AppleWebKit/53...</td>\n",
       "      <td>SP</td>\n",
       "      <td>BR</td>\n",
       "    </tr>\n",
       "    <tr>\n",
       "      <th>61487</th>\n",
       "      <td>1478535273</td>\n",
       "      <td>content_watched</td>\n",
       "      <td>-6642751159620064055</td>\n",
       "      <td>2947963873628556360</td>\n",
       "      <td>-4966095428048230102</td>\n",
       "      <td>Mozilla/5.0 (X11; Linux x86_64) AppleWebKit/53...</td>\n",
       "      <td>SP</td>\n",
       "      <td>BR</td>\n",
       "    </tr>\n",
       "    <tr>\n",
       "      <th>61494</th>\n",
       "      <td>1479259847</td>\n",
       "      <td>content_watched</td>\n",
       "      <td>-6642751159620064055</td>\n",
       "      <td>2947963873628556360</td>\n",
       "      <td>2282099478532957085</td>\n",
       "      <td>Mozilla/5.0 (X11; Linux x86_64) AppleWebKit/53...</td>\n",
       "      <td>SP</td>\n",
       "      <td>BR</td>\n",
       "    </tr>\n",
       "    <tr>\n",
       "      <th>61596</th>\n",
       "      <td>1478181686</td>\n",
       "      <td>content_watched</td>\n",
       "      <td>-6642751159620064055</td>\n",
       "      <td>2947963873628556360</td>\n",
       "      <td>-7839787841901240253</td>\n",
       "      <td>Mozilla/5.0 (X11; Linux x86_64) AppleWebKit/53...</td>\n",
       "      <td>SP</td>\n",
       "      <td>BR</td>\n",
       "    </tr>\n",
       "    <tr>\n",
       "      <th>61669</th>\n",
       "      <td>1479089506</td>\n",
       "      <td>content_watched</td>\n",
       "      <td>-6642751159620064055</td>\n",
       "      <td>2947963873628556360</td>\n",
       "      <td>118802412562368081</td>\n",
       "      <td>Mozilla/5.0 (X11; Linux x86_64) AppleWebKit/53...</td>\n",
       "      <td>SP</td>\n",
       "      <td>BR</td>\n",
       "    </tr>\n",
       "    <tr>\n",
       "      <th>61720</th>\n",
       "      <td>1478646532</td>\n",
       "      <td>content_watched</td>\n",
       "      <td>-6642751159620064055</td>\n",
       "      <td>2947963873628556360</td>\n",
       "      <td>5048855244552968148</td>\n",
       "      <td>Mozilla/5.0 (X11; Linux x86_64) AppleWebKit/53...</td>\n",
       "      <td>SP</td>\n",
       "      <td>BR</td>\n",
       "    </tr>\n",
       "    <tr>\n",
       "      <th>61781</th>\n",
       "      <td>1479390088</td>\n",
       "      <td>content_watched</td>\n",
       "      <td>-6642751159620064055</td>\n",
       "      <td>2947963873628556360</td>\n",
       "      <td>5512966545062218168</td>\n",
       "      <td>Mozilla/5.0 (X11; Linux x86_64) AppleWebKit/53...</td>\n",
       "      <td>SP</td>\n",
       "      <td>BR</td>\n",
       "    </tr>\n",
       "    <tr>\n",
       "      <th>61893</th>\n",
       "      <td>1478256828</td>\n",
       "      <td>content_watched</td>\n",
       "      <td>-6642751159620064055</td>\n",
       "      <td>2947963873628556360</td>\n",
       "      <td>-4204923610073866585</td>\n",
       "      <td>Mozilla/5.0 (X11; Linux x86_64) AppleWebKit/53...</td>\n",
       "      <td>SP</td>\n",
       "      <td>BR</td>\n",
       "    </tr>\n",
       "    <tr>\n",
       "      <th>61949</th>\n",
       "      <td>1478179402</td>\n",
       "      <td>content_watched</td>\n",
       "      <td>-6642751159620064055</td>\n",
       "      <td>2947963873628556360</td>\n",
       "      <td>-7839787841901240253</td>\n",
       "      <td>Mozilla/5.0 (X11; Linux x86_64) AppleWebKit/53...</td>\n",
       "      <td>SP</td>\n",
       "      <td>BR</td>\n",
       "    </tr>\n",
       "    <tr>\n",
       "      <th>62154</th>\n",
       "      <td>1479391681</td>\n",
       "      <td>content_watched</td>\n",
       "      <td>-6642751159620064055</td>\n",
       "      <td>2947963873628556360</td>\n",
       "      <td>5512966545062218168</td>\n",
       "      <td>Mozilla/5.0 (X11; Linux x86_64) AppleWebKit/53...</td>\n",
       "      <td>SP</td>\n",
       "      <td>BR</td>\n",
       "    </tr>\n",
       "    <tr>\n",
       "      <th>62259</th>\n",
       "      <td>1479294318</td>\n",
       "      <td>content_watched</td>\n",
       "      <td>-6642751159620064055</td>\n",
       "      <td>2947963873628556360</td>\n",
       "      <td>2282099478532957085</td>\n",
       "      <td>Mozilla/5.0 (X11; Linux x86_64) AppleWebKit/53...</td>\n",
       "      <td>SP</td>\n",
       "      <td>BR</td>\n",
       "    </tr>\n",
       "    <tr>\n",
       "      <th>62450</th>\n",
       "      <td>1479813494</td>\n",
       "      <td>content_watched</td>\n",
       "      <td>-6642751159620064055</td>\n",
       "      <td>2947963873628556360</td>\n",
       "      <td>3869282511569899469</td>\n",
       "      <td>Mozilla/5.0 (X11; Linux x86_64) AppleWebKit/53...</td>\n",
       "      <td>SP</td>\n",
       "      <td>BR</td>\n",
       "    </tr>\n",
       "    <tr>\n",
       "      <th>62480</th>\n",
       "      <td>1479465594</td>\n",
       "      <td>content_watched</td>\n",
       "      <td>-6642751159620064055</td>\n",
       "      <td>2947963873628556360</td>\n",
       "      <td>955992512102035463</td>\n",
       "      <td>Mozilla/5.0 (X11; Linux x86_64) AppleWebKit/53...</td>\n",
       "      <td>SP</td>\n",
       "      <td>BR</td>\n",
       "    </tr>\n",
       "    <tr>\n",
       "      <th>62543</th>\n",
       "      <td>1479727552</td>\n",
       "      <td>content_watched</td>\n",
       "      <td>-6642751159620064055</td>\n",
       "      <td>2947963873628556360</td>\n",
       "      <td>3542206689690921683</td>\n",
       "      <td>Mozilla/5.0 (X11; Linux x86_64) AppleWebKit/53...</td>\n",
       "      <td>SP</td>\n",
       "      <td>BR</td>\n",
       "    </tr>\n",
       "    <tr>\n",
       "      <th>62551</th>\n",
       "      <td>1479726177</td>\n",
       "      <td>content_watched</td>\n",
       "      <td>-6642751159620064055</td>\n",
       "      <td>2947963873628556360</td>\n",
       "      <td>3542206689690921683</td>\n",
       "      <td>Mozilla/5.0 (X11; Linux x86_64) AppleWebKit/53...</td>\n",
       "      <td>SP</td>\n",
       "      <td>BR</td>\n",
       "    </tr>\n",
       "    <tr>\n",
       "      <th>62601</th>\n",
       "      <td>1478517769</td>\n",
       "      <td>content_watched</td>\n",
       "      <td>-6642751159620064055</td>\n",
       "      <td>2947963873628556360</td>\n",
       "      <td>-4966095428048230102</td>\n",
       "      <td>Mozilla/5.0 (X11; Linux x86_64) AppleWebKit/53...</td>\n",
       "      <td>SP</td>\n",
       "      <td>BR</td>\n",
       "    </tr>\n",
       "    <tr>\n",
       "      <th>62677</th>\n",
       "      <td>1480068506</td>\n",
       "      <td>content_watched</td>\n",
       "      <td>-6642751159620064055</td>\n",
       "      <td>2947963873628556360</td>\n",
       "      <td>1725473434526430995</td>\n",
       "      <td>Mozilla/5.0 (X11; Linux x86_64) AppleWebKit/53...</td>\n",
       "      <td>SP</td>\n",
       "      <td>BR</td>\n",
       "    </tr>\n",
       "    <tr>\n",
       "      <th>62685</th>\n",
       "      <td>1479396261</td>\n",
       "      <td>content_watched</td>\n",
       "      <td>-6642751159620064055</td>\n",
       "      <td>2947963873628556360</td>\n",
       "      <td>5512966545062218168</td>\n",
       "      <td>Mozilla/5.0 (X11; Linux x86_64) AppleWebKit/53...</td>\n",
       "      <td>SP</td>\n",
       "      <td>BR</td>\n",
       "    </tr>\n",
       "    <tr>\n",
       "      <th>62690</th>\n",
       "      <td>1479419459</td>\n",
       "      <td>content_watched</td>\n",
       "      <td>-6642751159620064055</td>\n",
       "      <td>2947963873628556360</td>\n",
       "      <td>5512966545062218168</td>\n",
       "      <td>Mozilla/5.0 (X11; Linux x86_64) AppleWebKit/53...</td>\n",
       "      <td>SP</td>\n",
       "      <td>BR</td>\n",
       "    </tr>\n",
       "    <tr>\n",
       "      <th>62763</th>\n",
       "      <td>1479402689</td>\n",
       "      <td>content_watched</td>\n",
       "      <td>-6642751159620064055</td>\n",
       "      <td>2947963873628556360</td>\n",
       "      <td>5512966545062218168</td>\n",
       "      <td>Mozilla/5.0 (X11; Linux x86_64) AppleWebKit/53...</td>\n",
       "      <td>SP</td>\n",
       "      <td>BR</td>\n",
       "    </tr>\n",
       "    <tr>\n",
       "      <th>62887</th>\n",
       "      <td>1479552809</td>\n",
       "      <td>content_watched</td>\n",
       "      <td>-6642751159620064055</td>\n",
       "      <td>2947963873628556360</td>\n",
       "      <td>-270605156709426007</td>\n",
       "      <td>Mozilla/5.0 (X11; Linux x86_64) AppleWebKit/53...</td>\n",
       "      <td>SP</td>\n",
       "      <td>BR</td>\n",
       "    </tr>\n",
       "    <tr>\n",
       "      <th>63018</th>\n",
       "      <td>1478805656</td>\n",
       "      <td>content_watched</td>\n",
       "      <td>-6642751159620064055</td>\n",
       "      <td>2947963873628556360</td>\n",
       "      <td>3228336044269006202</td>\n",
       "      <td>Mozilla/5.0 (X11; Linux x86_64) AppleWebKit/53...</td>\n",
       "      <td>SP</td>\n",
       "      <td>BR</td>\n",
       "    </tr>\n",
       "    <tr>\n",
       "      <th>63029</th>\n",
       "      <td>1479906183</td>\n",
       "      <td>content_watched</td>\n",
       "      <td>-6642751159620064055</td>\n",
       "      <td>2947963873628556360</td>\n",
       "      <td>8989020090436083679</td>\n",
       "      <td>Mozilla/5.0 (X11; Linux x86_64) AppleWebKit/53...</td>\n",
       "      <td>SP</td>\n",
       "      <td>BR</td>\n",
       "    </tr>\n",
       "    <tr>\n",
       "      <th>63172</th>\n",
       "      <td>1478860380</td>\n",
       "      <td>content_watched</td>\n",
       "      <td>-6642751159620064055</td>\n",
       "      <td>2947963873628556360</td>\n",
       "      <td>2101632156189843087</td>\n",
       "      <td>Mozilla/5.0 (X11; Linux x86_64) AppleWebKit/53...</td>\n",
       "      <td>SP</td>\n",
       "      <td>BR</td>\n",
       "    </tr>\n",
       "    <tr>\n",
       "      <th>63245</th>\n",
       "      <td>1479942539</td>\n",
       "      <td>content_watched</td>\n",
       "      <td>-6642751159620064055</td>\n",
       "      <td>2947963873628556360</td>\n",
       "      <td>8989020090436083679</td>\n",
       "      <td>Mozilla/5.0 (X11; Linux x86_64) AppleWebKit/53...</td>\n",
       "      <td>SP</td>\n",
       "      <td>BR</td>\n",
       "    </tr>\n",
       "    <tr>\n",
       "      <th>63254</th>\n",
       "      <td>1479986323</td>\n",
       "      <td>content_watched</td>\n",
       "      <td>-6642751159620064055</td>\n",
       "      <td>2947963873628556360</td>\n",
       "      <td>2319767276852256311</td>\n",
       "      <td>Mozilla/5.0 (X11; Linux x86_64) AppleWebKit/53...</td>\n",
       "      <td>SP</td>\n",
       "      <td>BR</td>\n",
       "    </tr>\n",
       "    <tr>\n",
       "      <th>63430</th>\n",
       "      <td>1478776987</td>\n",
       "      <td>content_watched</td>\n",
       "      <td>-6642751159620064055</td>\n",
       "      <td>2947963873628556360</td>\n",
       "      <td>3228336044269006202</td>\n",
       "      <td>Mozilla/5.0 (X11; Linux x86_64) AppleWebKit/53...</td>\n",
       "      <td>SP</td>\n",
       "      <td>BR</td>\n",
       "    </tr>\n",
       "    <tr>\n",
       "      <th>63826</th>\n",
       "      <td>1479379104</td>\n",
       "      <td>content_watched</td>\n",
       "      <td>-6642751159620064055</td>\n",
       "      <td>2947963873628556360</td>\n",
       "      <td>5512966545062218168</td>\n",
       "      <td>Mozilla/5.0 (X11; Linux x86_64) AppleWebKit/53...</td>\n",
       "      <td>SP</td>\n",
       "      <td>BR</td>\n",
       "    </tr>\n",
       "    <tr>\n",
       "      <th>63846</th>\n",
       "      <td>1478616541</td>\n",
       "      <td>content_watched</td>\n",
       "      <td>-6642751159620064055</td>\n",
       "      <td>2947963873628556360</td>\n",
       "      <td>5048855244552968148</td>\n",
       "      <td>Mozilla/5.0 (X11; Linux x86_64) AppleWebKit/53...</td>\n",
       "      <td>SP</td>\n",
       "      <td>BR</td>\n",
       "    </tr>\n",
       "    <tr>\n",
       "      <th>63993</th>\n",
       "      <td>1478603685</td>\n",
       "      <td>content_watched</td>\n",
       "      <td>-6642751159620064055</td>\n",
       "      <td>2947963873628556360</td>\n",
       "      <td>5048855244552968148</td>\n",
       "      <td>Mozilla/5.0 (X11; Linux x86_64) AppleWebKit/53...</td>\n",
       "      <td>SP</td>\n",
       "      <td>BR</td>\n",
       "    </tr>\n",
       "    <tr>\n",
       "      <th>64318</th>\n",
       "      <td>1478688651</td>\n",
       "      <td>content_watched</td>\n",
       "      <td>-6642751159620064055</td>\n",
       "      <td>2947963873628556360</td>\n",
       "      <td>-2380786779398326114</td>\n",
       "      <td>Mozilla/5.0 (X11; Linux x86_64) AppleWebKit/53...</td>\n",
       "      <td>SP</td>\n",
       "      <td>BR</td>\n",
       "    </tr>\n",
       "    <tr>\n",
       "      <th>64607</th>\n",
       "      <td>1480000668</td>\n",
       "      <td>content_watched</td>\n",
       "      <td>-6642751159620064055</td>\n",
       "      <td>2947963873628556360</td>\n",
       "      <td>2319767276852256311</td>\n",
       "      <td>Mozilla/5.0 (X11; Linux x86_64) AppleWebKit/53...</td>\n",
       "      <td>SP</td>\n",
       "      <td>BR</td>\n",
       "    </tr>\n",
       "    <tr>\n",
       "      <th>64687</th>\n",
       "      <td>1479121302</td>\n",
       "      <td>content_watched</td>\n",
       "      <td>-6642751159620064055</td>\n",
       "      <td>2947963873628556360</td>\n",
       "      <td>118802412562368081</td>\n",
       "      <td>Mozilla/5.0 (X11; Linux x86_64) AppleWebKit/53...</td>\n",
       "      <td>SP</td>\n",
       "      <td>BR</td>\n",
       "    </tr>\n",
       "    <tr>\n",
       "      <th>64896</th>\n",
       "      <td>1479306425</td>\n",
       "      <td>content_watched</td>\n",
       "      <td>-6642751159620064055</td>\n",
       "      <td>2947963873628556360</td>\n",
       "      <td>2282099478532957085</td>\n",
       "      <td>Mozilla/5.0 (X11; Linux x86_64) AppleWebKit/53...</td>\n",
       "      <td>SP</td>\n",
       "      <td>BR</td>\n",
       "    </tr>\n",
       "    <tr>\n",
       "      <th>64958</th>\n",
       "      <td>1479381359</td>\n",
       "      <td>content_watched</td>\n",
       "      <td>-6642751159620064055</td>\n",
       "      <td>2947963873628556360</td>\n",
       "      <td>5512966545062218168</td>\n",
       "      <td>Mozilla/5.0 (X11; Linux x86_64) AppleWebKit/53...</td>\n",
       "      <td>SP</td>\n",
       "      <td>BR</td>\n",
       "    </tr>\n",
       "    <tr>\n",
       "      <th>65255</th>\n",
       "      <td>1479428548</td>\n",
       "      <td>content_watched</td>\n",
       "      <td>-6642751159620064055</td>\n",
       "      <td>2947963873628556360</td>\n",
       "      <td>955992512102035463</td>\n",
       "      <td>Mozilla/5.0 (X11; Linux x86_64) AppleWebKit/53...</td>\n",
       "      <td>SP</td>\n",
       "      <td>BR</td>\n",
       "    </tr>\n",
       "    <tr>\n",
       "      <th>65262</th>\n",
       "      <td>1479406842</td>\n",
       "      <td>content_watched</td>\n",
       "      <td>-6642751159620064055</td>\n",
       "      <td>2947963873628556360</td>\n",
       "      <td>5512966545062218168</td>\n",
       "      <td>Mozilla/5.0 (X11; Linux x86_64) AppleWebKit/53...</td>\n",
       "      <td>SP</td>\n",
       "      <td>BR</td>\n",
       "    </tr>\n",
       "    <tr>\n",
       "      <th>70623</th>\n",
       "      <td>1479762877</td>\n",
       "      <td>content_watched</td>\n",
       "      <td>-6642751159620064055</td>\n",
       "      <td>2947963873628556360</td>\n",
       "      <td>3542206689690921683</td>\n",
       "      <td>Mozilla/5.0 (X11; Linux x86_64) AppleWebKit/53...</td>\n",
       "      <td>SP</td>\n",
       "      <td>BR</td>\n",
       "    </tr>\n",
       "    <tr>\n",
       "      <th>70627</th>\n",
       "      <td>1479762894</td>\n",
       "      <td>content_watched</td>\n",
       "      <td>-6642751159620064055</td>\n",
       "      <td>2947963873628556360</td>\n",
       "      <td>3542206689690921683</td>\n",
       "      <td>Mozilla/5.0 (X11; Linux x86_64) AppleWebKit/53...</td>\n",
       "      <td>SP</td>\n",
       "      <td>BR</td>\n",
       "    </tr>\n",
       "  </tbody>\n",
       "</table>\n",
       "</div>"
      ],
      "text/plain": [
       "       event_timestamp interaction_type              item_id  \\\n",
       "60508       1478488027  content_watched -6642751159620064055   \n",
       "60539       1478528717  content_watched -6642751159620064055   \n",
       "60744       1478606716  content_watched -6642751159620064055   \n",
       "60746       1478608608  content_watched -6642751159620064055   \n",
       "60790       1478633346  content_watched -6642751159620064055   \n",
       "60793       1478630716  content_watched -6642751159620064055   \n",
       "60860       1478627810  content_watched -6642751159620064055   \n",
       "61283       1479246851  content_watched -6642751159620064055   \n",
       "61487       1478535273  content_watched -6642751159620064055   \n",
       "61494       1479259847  content_watched -6642751159620064055   \n",
       "61596       1478181686  content_watched -6642751159620064055   \n",
       "61669       1479089506  content_watched -6642751159620064055   \n",
       "61720       1478646532  content_watched -6642751159620064055   \n",
       "61781       1479390088  content_watched -6642751159620064055   \n",
       "61893       1478256828  content_watched -6642751159620064055   \n",
       "61949       1478179402  content_watched -6642751159620064055   \n",
       "62154       1479391681  content_watched -6642751159620064055   \n",
       "62259       1479294318  content_watched -6642751159620064055   \n",
       "62450       1479813494  content_watched -6642751159620064055   \n",
       "62480       1479465594  content_watched -6642751159620064055   \n",
       "62543       1479727552  content_watched -6642751159620064055   \n",
       "62551       1479726177  content_watched -6642751159620064055   \n",
       "62601       1478517769  content_watched -6642751159620064055   \n",
       "62677       1480068506  content_watched -6642751159620064055   \n",
       "62685       1479396261  content_watched -6642751159620064055   \n",
       "62690       1479419459  content_watched -6642751159620064055   \n",
       "62763       1479402689  content_watched -6642751159620064055   \n",
       "62887       1479552809  content_watched -6642751159620064055   \n",
       "63018       1478805656  content_watched -6642751159620064055   \n",
       "63029       1479906183  content_watched -6642751159620064055   \n",
       "63172       1478860380  content_watched -6642751159620064055   \n",
       "63245       1479942539  content_watched -6642751159620064055   \n",
       "63254       1479986323  content_watched -6642751159620064055   \n",
       "63430       1478776987  content_watched -6642751159620064055   \n",
       "63826       1479379104  content_watched -6642751159620064055   \n",
       "63846       1478616541  content_watched -6642751159620064055   \n",
       "63993       1478603685  content_watched -6642751159620064055   \n",
       "64318       1478688651  content_watched -6642751159620064055   \n",
       "64607       1480000668  content_watched -6642751159620064055   \n",
       "64687       1479121302  content_watched -6642751159620064055   \n",
       "64896       1479306425  content_watched -6642751159620064055   \n",
       "64958       1479381359  content_watched -6642751159620064055   \n",
       "65255       1479428548  content_watched -6642751159620064055   \n",
       "65262       1479406842  content_watched -6642751159620064055   \n",
       "70623       1479762877  content_watched -6642751159620064055   \n",
       "70627       1479762894  content_watched -6642751159620064055   \n",
       "\n",
       "               consumer_id   consumer_session_id  \\\n",
       "60508  2947963873628556360  -4966095428048230102   \n",
       "60539  2947963873628556360  -4966095428048230102   \n",
       "60744  2947963873628556360   5048855244552968148   \n",
       "60746  2947963873628556360   5048855244552968148   \n",
       "60790  2947963873628556360   5048855244552968148   \n",
       "60793  2947963873628556360   5048855244552968148   \n",
       "60860  2947963873628556360   5048855244552968148   \n",
       "61283  2947963873628556360   5819084728106131297   \n",
       "61487  2947963873628556360  -4966095428048230102   \n",
       "61494  2947963873628556360   2282099478532957085   \n",
       "61596  2947963873628556360  -7839787841901240253   \n",
       "61669  2947963873628556360    118802412562368081   \n",
       "61720  2947963873628556360   5048855244552968148   \n",
       "61781  2947963873628556360   5512966545062218168   \n",
       "61893  2947963873628556360  -4204923610073866585   \n",
       "61949  2947963873628556360  -7839787841901240253   \n",
       "62154  2947963873628556360   5512966545062218168   \n",
       "62259  2947963873628556360   2282099478532957085   \n",
       "62450  2947963873628556360   3869282511569899469   \n",
       "62480  2947963873628556360    955992512102035463   \n",
       "62543  2947963873628556360   3542206689690921683   \n",
       "62551  2947963873628556360   3542206689690921683   \n",
       "62601  2947963873628556360  -4966095428048230102   \n",
       "62677  2947963873628556360   1725473434526430995   \n",
       "62685  2947963873628556360   5512966545062218168   \n",
       "62690  2947963873628556360   5512966545062218168   \n",
       "62763  2947963873628556360   5512966545062218168   \n",
       "62887  2947963873628556360   -270605156709426007   \n",
       "63018  2947963873628556360   3228336044269006202   \n",
       "63029  2947963873628556360   8989020090436083679   \n",
       "63172  2947963873628556360   2101632156189843087   \n",
       "63245  2947963873628556360   8989020090436083679   \n",
       "63254  2947963873628556360   2319767276852256311   \n",
       "63430  2947963873628556360   3228336044269006202   \n",
       "63826  2947963873628556360   5512966545062218168   \n",
       "63846  2947963873628556360   5048855244552968148   \n",
       "63993  2947963873628556360   5048855244552968148   \n",
       "64318  2947963873628556360  -2380786779398326114   \n",
       "64607  2947963873628556360   2319767276852256311   \n",
       "64687  2947963873628556360    118802412562368081   \n",
       "64896  2947963873628556360   2282099478532957085   \n",
       "64958  2947963873628556360   5512966545062218168   \n",
       "65255  2947963873628556360    955992512102035463   \n",
       "65262  2947963873628556360   5512966545062218168   \n",
       "70623  2947963873628556360   3542206689690921683   \n",
       "70627  2947963873628556360   3542206689690921683   \n",
       "\n",
       "                                    consumer_device_info consumer_location  \\\n",
       "60508  Mozilla/5.0 (X11; Linux x86_64) AppleWebKit/53...                SP   \n",
       "60539  Mozilla/5.0 (X11; Linux x86_64) AppleWebKit/53...                SP   \n",
       "60744  Mozilla/5.0 (X11; Linux x86_64) AppleWebKit/53...                SP   \n",
       "60746  Mozilla/5.0 (X11; Linux x86_64) AppleWebKit/53...                SP   \n",
       "60790  Mozilla/5.0 (X11; Linux x86_64) AppleWebKit/53...                SP   \n",
       "60793  Mozilla/5.0 (X11; Linux x86_64) AppleWebKit/53...                SP   \n",
       "60860  Mozilla/5.0 (X11; Linux x86_64) AppleWebKit/53...                SP   \n",
       "61283  Mozilla/5.0 (X11; Linux x86_64) AppleWebKit/53...                SP   \n",
       "61487  Mozilla/5.0 (X11; Linux x86_64) AppleWebKit/53...                SP   \n",
       "61494  Mozilla/5.0 (X11; Linux x86_64) AppleWebKit/53...                SP   \n",
       "61596  Mozilla/5.0 (X11; Linux x86_64) AppleWebKit/53...                SP   \n",
       "61669  Mozilla/5.0 (X11; Linux x86_64) AppleWebKit/53...                SP   \n",
       "61720  Mozilla/5.0 (X11; Linux x86_64) AppleWebKit/53...                SP   \n",
       "61781  Mozilla/5.0 (X11; Linux x86_64) AppleWebKit/53...                SP   \n",
       "61893  Mozilla/5.0 (X11; Linux x86_64) AppleWebKit/53...                SP   \n",
       "61949  Mozilla/5.0 (X11; Linux x86_64) AppleWebKit/53...                SP   \n",
       "62154  Mozilla/5.0 (X11; Linux x86_64) AppleWebKit/53...                SP   \n",
       "62259  Mozilla/5.0 (X11; Linux x86_64) AppleWebKit/53...                SP   \n",
       "62450  Mozilla/5.0 (X11; Linux x86_64) AppleWebKit/53...                SP   \n",
       "62480  Mozilla/5.0 (X11; Linux x86_64) AppleWebKit/53...                SP   \n",
       "62543  Mozilla/5.0 (X11; Linux x86_64) AppleWebKit/53...                SP   \n",
       "62551  Mozilla/5.0 (X11; Linux x86_64) AppleWebKit/53...                SP   \n",
       "62601  Mozilla/5.0 (X11; Linux x86_64) AppleWebKit/53...                SP   \n",
       "62677  Mozilla/5.0 (X11; Linux x86_64) AppleWebKit/53...                SP   \n",
       "62685  Mozilla/5.0 (X11; Linux x86_64) AppleWebKit/53...                SP   \n",
       "62690  Mozilla/5.0 (X11; Linux x86_64) AppleWebKit/53...                SP   \n",
       "62763  Mozilla/5.0 (X11; Linux x86_64) AppleWebKit/53...                SP   \n",
       "62887  Mozilla/5.0 (X11; Linux x86_64) AppleWebKit/53...                SP   \n",
       "63018  Mozilla/5.0 (X11; Linux x86_64) AppleWebKit/53...                SP   \n",
       "63029  Mozilla/5.0 (X11; Linux x86_64) AppleWebKit/53...                SP   \n",
       "63172  Mozilla/5.0 (X11; Linux x86_64) AppleWebKit/53...                SP   \n",
       "63245  Mozilla/5.0 (X11; Linux x86_64) AppleWebKit/53...                SP   \n",
       "63254  Mozilla/5.0 (X11; Linux x86_64) AppleWebKit/53...                SP   \n",
       "63430  Mozilla/5.0 (X11; Linux x86_64) AppleWebKit/53...                SP   \n",
       "63826  Mozilla/5.0 (X11; Linux x86_64) AppleWebKit/53...                SP   \n",
       "63846  Mozilla/5.0 (X11; Linux x86_64) AppleWebKit/53...                SP   \n",
       "63993  Mozilla/5.0 (X11; Linux x86_64) AppleWebKit/53...                SP   \n",
       "64318  Mozilla/5.0 (X11; Linux x86_64) AppleWebKit/53...                SP   \n",
       "64607  Mozilla/5.0 (X11; Linux x86_64) AppleWebKit/53...                SP   \n",
       "64687  Mozilla/5.0 (X11; Linux x86_64) AppleWebKit/53...                SP   \n",
       "64896  Mozilla/5.0 (X11; Linux x86_64) AppleWebKit/53...                SP   \n",
       "64958  Mozilla/5.0 (X11; Linux x86_64) AppleWebKit/53...                SP   \n",
       "65255  Mozilla/5.0 (X11; Linux x86_64) AppleWebKit/53...                SP   \n",
       "65262  Mozilla/5.0 (X11; Linux x86_64) AppleWebKit/53...                SP   \n",
       "70623  Mozilla/5.0 (X11; Linux x86_64) AppleWebKit/53...                SP   \n",
       "70627  Mozilla/5.0 (X11; Linux x86_64) AppleWebKit/53...                SP   \n",
       "\n",
       "      country  \n",
       "60508      BR  \n",
       "60539      BR  \n",
       "60744      BR  \n",
       "60746      BR  \n",
       "60790      BR  \n",
       "60793      BR  \n",
       "60860      BR  \n",
       "61283      BR  \n",
       "61487      BR  \n",
       "61494      BR  \n",
       "61596      BR  \n",
       "61669      BR  \n",
       "61720      BR  \n",
       "61781      BR  \n",
       "61893      BR  \n",
       "61949      BR  \n",
       "62154      BR  \n",
       "62259      BR  \n",
       "62450      BR  \n",
       "62480      BR  \n",
       "62543      BR  \n",
       "62551      BR  \n",
       "62601      BR  \n",
       "62677      BR  \n",
       "62685      BR  \n",
       "62690      BR  \n",
       "62763      BR  \n",
       "62887      BR  \n",
       "63018      BR  \n",
       "63029      BR  \n",
       "63172      BR  \n",
       "63245      BR  \n",
       "63254      BR  \n",
       "63430      BR  \n",
       "63826      BR  \n",
       "63846      BR  \n",
       "63993      BR  \n",
       "64318      BR  \n",
       "64607      BR  \n",
       "64687      BR  \n",
       "64896      BR  \n",
       "64958      BR  \n",
       "65255      BR  \n",
       "65262      BR  \n",
       "70623      BR  \n",
       "70627      BR  "
      ]
     },
     "execution_count": 36,
     "metadata": {},
     "output_type": "execute_result"
    }
   ],
   "source": [
    "# lets check one of such duplicate set\n",
    "\n",
    "consumer_transactions[(consumer_transactions.item_id == -6642751159620064055) & (consumer_transactions.consumer_id == 2947963873628556360)]"
   ]
  },
  {
   "cell_type": "code",
   "execution_count": 37,
   "metadata": {},
   "outputs": [],
   "source": [
    "# lets remove duplicate records\n",
    "\n",
    "consumer_transactions = consumer_transactions.drop_duplicates(subset=['item_id', 'consumer_id'], keep='last')"
   ]
  },
  {
   "cell_type": "code",
   "execution_count": 38,
   "metadata": {},
   "outputs": [],
   "source": [
    "# reusable function to plot barplot\n",
    "\n",
    "def barplot(data, figsize=(5,5)):\n",
    "    plt.figure(figsize=figsize)    \n",
    "    return sns.barplot(x=data.index, y=data.values)"
   ]
  },
  {
   "cell_type": "code",
   "execution_count": 39,
   "metadata": {},
   "outputs": [
    {
     "data": {
      "text/plain": [
       "<AxesSubplot:>"
      ]
     },
     "execution_count": 39,
     "metadata": {},
     "output_type": "execute_result"
    },
    {
     "data": {
      "image/png": "[encoded data removed]",
      "text/plain": [
       "<Figure size 720x288 with 1 Axes>"
      ]
     },
     "metadata": {
      "needs_background": "light"
     },
     "output_type": "display_data"
    }
   ],
   "source": [
    "#  visualize interaction_type\n",
    "\n",
    "barplot(consumer_transactions.interaction_type.value_counts(), (10,4))"
   ]
  },
  {
   "cell_type": "code",
   "execution_count": 40,
   "metadata": {},
   "outputs": [],
   "source": [
    "# defined ratings dictionary\n",
    "\n",
    "total_count = len(consumer_transactions)\n",
    "value_counts = consumer_transactions.interaction_type.value_counts()\n",
    "\n",
    "# ratings_dict = {\n",
    "#     'content_followed': (1 - (value_counts['content_followed']/total_count)) * 5,\n",
    "#     'content_commented_on': (1 - (value_counts['content_commented_on']/total_count)) * 4,\n",
    "#     'content_saved': (1 - (value_counts['content_saved']/total_count)) * 3,\n",
    "#     'content_liked': (1 - (value_counts['content_liked']/total_count)) * 2,\n",
    "#     'content_watched': (1 - (value_counts['content_watched']/total_count)) * 1\n",
    "# }\n",
    "\n",
    "ratings_dict = {\n",
    "    'content_followed': 5,\n",
    "    'content_commented_on': 4,\n",
    "    'content_saved': 3,\n",
    "    'content_liked': 2,\n",
    "    'content_watched': 1\n",
    "}"
   ]
  },
  {
   "cell_type": "code",
   "execution_count": 41,
   "metadata": {},
   "outputs": [
    {
     "data": {
      "text/plain": [
       "{'content_followed': 5,\n",
       " 'content_commented_on': 4,\n",
       " 'content_saved': 3,\n",
       " 'content_liked': 2,\n",
       " 'content_watched': 1}"
      ]
     },
     "execution_count": 41,
     "metadata": {},
     "output_type": "execute_result"
    }
   ],
   "source": [
    "ratings_dict"
   ]
  },
  {
   "cell_type": "code",
   "execution_count": 42,
   "metadata": {},
   "outputs": [],
   "source": [
    "# create ratings column\n",
    "\n",
    "consumer_transactions['ratings'] = consumer_transactions.interaction_type.map(ratings_dict)"
   ]
  },
  {
   "cell_type": "code",
   "execution_count": 43,
   "metadata": {},
   "outputs": [
    {
     "data": {
      "text/html": [
       "<div>\n",
       "<style scoped>\n",
       "    .dataframe tbody tr th:only-of-type {\n",
       "        vertical-align: middle;\n",
       "    }\n",
       "\n",
       "    .dataframe tbody tr th {\n",
       "        vertical-align: top;\n",
       "    }\n",
       "\n",
       "    .dataframe thead th {\n",
       "        text-align: right;\n",
       "    }\n",
       "</style>\n",
       "<table border=\"1\" class=\"dataframe\">\n",
       "  <thead>\n",
       "    <tr style=\"text-align: right;\">\n",
       "      <th></th>\n",
       "      <th>event_timestamp</th>\n",
       "      <th>interaction_type</th>\n",
       "      <th>item_id</th>\n",
       "      <th>consumer_id</th>\n",
       "      <th>consumer_session_id</th>\n",
       "      <th>consumer_device_info</th>\n",
       "      <th>consumer_location</th>\n",
       "      <th>country</th>\n",
       "      <th>ratings</th>\n",
       "    </tr>\n",
       "  </thead>\n",
       "  <tbody>\n",
       "    <tr>\n",
       "      <th>12</th>\n",
       "      <td>1465415228</td>\n",
       "      <td>content_watched</td>\n",
       "      <td>3460026829794173084</td>\n",
       "      <td>1908339160857512799</td>\n",
       "      <td>9121879357144259163</td>\n",
       "      <td>Mozilla/5.0 (Windows NT 6.1; WOW64) AppleWebKi...</td>\n",
       "      <td>SP</td>\n",
       "      <td>BR</td>\n",
       "      <td>1</td>\n",
       "    </tr>\n",
       "    <tr>\n",
       "      <th>17</th>\n",
       "      <td>1465412288</td>\n",
       "      <td>content_watched</td>\n",
       "      <td>-7820640624231356730</td>\n",
       "      <td>-445337111692715325</td>\n",
       "      <td>5611481178424124714</td>\n",
       "      <td>Mozilla/5.0 (Windows NT 10.0; WOW64) AppleWebK...</td>\n",
       "      <td>MG</td>\n",
       "      <td>BR</td>\n",
       "      <td>1</td>\n",
       "    </tr>\n",
       "  </tbody>\n",
       "</table>\n",
       "</div>"
      ],
      "text/plain": [
       "    event_timestamp interaction_type              item_id  \\\n",
       "12       1465415228  content_watched  3460026829794173084   \n",
       "17       1465412288  content_watched -7820640624231356730   \n",
       "\n",
       "            consumer_id  consumer_session_id  \\\n",
       "12  1908339160857512799  9121879357144259163   \n",
       "17  -445337111692715325  5611481178424124714   \n",
       "\n",
       "                                 consumer_device_info consumer_location  \\\n",
       "12  Mozilla/5.0 (Windows NT 6.1; WOW64) AppleWebKi...                SP   \n",
       "17  Mozilla/5.0 (Windows NT 10.0; WOW64) AppleWebK...                MG   \n",
       "\n",
       "   country  ratings  \n",
       "12      BR        1  \n",
       "17      BR        1  "
      ]
     },
     "execution_count": 43,
     "metadata": {},
     "output_type": "execute_result"
    }
   ],
   "source": [
    "consumer_transactions.head(2)"
   ]
  },
  {
   "cell_type": "code",
   "execution_count": 44,
   "metadata": {},
   "outputs": [
    {
     "data": {
      "text/plain": [
       "1    37106\n",
       "2     2131\n",
       "3      913\n",
       "4      301\n",
       "5      259\n",
       "Name: ratings, dtype: int64"
      ]
     },
     "execution_count": 44,
     "metadata": {},
     "output_type": "execute_result"
    }
   ],
   "source": [
    "consumer_transactions['ratings'].value_counts()"
   ]
  },
  {
   "cell_type": "code",
   "execution_count": 45,
   "metadata": {},
   "outputs": [
    {
     "data": {
      "image/png": "[encoded data removed]",
      "text/plain": [
       "<Figure size 432x288 with 1 Axes>"
      ]
     },
     "metadata": {
      "needs_background": "light"
     },
     "output_type": "display_data"
    }
   ],
   "source": [
    "# lets plot ratings to find trends\n",
    "\n",
    "consumer_transactions.ratings.plot(kind='hist')\n",
    "plt.show()"
   ]
  },
  {
   "cell_type": "code",
   "execution_count": 46,
   "metadata": {
    "scrolled": true
   },
   "outputs": [
    {
     "data": {
      "text/html": [
       "<div>\n",
       "<style scoped>\n",
       "    .dataframe tbody tr th:only-of-type {\n",
       "        vertical-align: middle;\n",
       "    }\n",
       "\n",
       "    .dataframe tbody tr th {\n",
       "        vertical-align: top;\n",
       "    }\n",
       "\n",
       "    .dataframe thead th {\n",
       "        text-align: right;\n",
       "    }\n",
       "</style>\n",
       "<table border=\"1\" class=\"dataframe\">\n",
       "  <thead>\n",
       "    <tr style=\"text-align: right;\">\n",
       "      <th></th>\n",
       "      <th>event_timestamp</th>\n",
       "      <th>interaction_type</th>\n",
       "      <th>item_id</th>\n",
       "      <th>producer_id</th>\n",
       "      <th>producer_session_id</th>\n",
       "      <th>producer_device_info</th>\n",
       "      <th>producer_location</th>\n",
       "      <th>producer_country</th>\n",
       "      <th>item_type</th>\n",
       "      <th>item_url</th>\n",
       "      <th>title</th>\n",
       "      <th>text_description</th>\n",
       "      <th>language</th>\n",
       "    </tr>\n",
       "  </thead>\n",
       "  <tbody>\n",
       "    <tr>\n",
       "      <th>1</th>\n",
       "      <td>1459193988</td>\n",
       "      <td>content_present</td>\n",
       "      <td>-4110354420726924665</td>\n",
       "      <td>4340306774493623681</td>\n",
       "      <td>8940341205206233829</td>\n",
       "      <td>NaN</td>\n",
       "      <td>NaN</td>\n",
       "      <td>NaN</td>\n",
       "      <td>HTML</td>\n",
       "      <td>http://www.nytimes.com/2016/03/28/business/dea...</td>\n",
       "      <td>Ethereum, a Virtual Currency, Enables Transact...</td>\n",
       "      <td>All of this work is still very early. The firs...</td>\n",
       "      <td>en</td>\n",
       "    </tr>\n",
       "    <tr>\n",
       "      <th>2</th>\n",
       "      <td>1459194146</td>\n",
       "      <td>content_present</td>\n",
       "      <td>-7292285110016212249</td>\n",
       "      <td>4340306774493623681</td>\n",
       "      <td>8940341205206233829</td>\n",
       "      <td>NaN</td>\n",
       "      <td>NaN</td>\n",
       "      <td>NaN</td>\n",
       "      <td>HTML</td>\n",
       "      <td>http://cointelegraph.com/news/bitcoin-future-w...</td>\n",
       "      <td>Bitcoin Future: When GBPcoin of Branson Wins O...</td>\n",
       "      <td>The alarm clock wakes me at 8:00 with stream o...</td>\n",
       "      <td>en</td>\n",
       "    </tr>\n",
       "    <tr>\n",
       "      <th>3</th>\n",
       "      <td>1459194474</td>\n",
       "      <td>content_present</td>\n",
       "      <td>-6151852268067518688</td>\n",
       "      <td>3891637997717104548</td>\n",
       "      <td>-1457532940883382585</td>\n",
       "      <td>NaN</td>\n",
       "      <td>NaN</td>\n",
       "      <td>NaN</td>\n",
       "      <td>HTML</td>\n",
       "      <td>https://cloudplatform.googleblog.com/2016/03/G...</td>\n",
       "      <td>Google Data Center 360° Tour</td>\n",
       "      <td>We're excited to share the Google Data Center ...</td>\n",
       "      <td>en</td>\n",
       "    </tr>\n",
       "    <tr>\n",
       "      <th>4</th>\n",
       "      <td>1459194497</td>\n",
       "      <td>content_present</td>\n",
       "      <td>2448026894306402386</td>\n",
       "      <td>4340306774493623681</td>\n",
       "      <td>8940341205206233829</td>\n",
       "      <td>NaN</td>\n",
       "      <td>NaN</td>\n",
       "      <td>NaN</td>\n",
       "      <td>HTML</td>\n",
       "      <td>https://bitcoinmagazine.com/articles/ibm-wants...</td>\n",
       "      <td>IBM Wants to \"Evolve the Internet\" With Blockc...</td>\n",
       "      <td>The Aite Group projects the blockchain market ...</td>\n",
       "      <td>en</td>\n",
       "    </tr>\n",
       "    <tr>\n",
       "      <th>5</th>\n",
       "      <td>1459194522</td>\n",
       "      <td>content_present</td>\n",
       "      <td>-2826566343807132236</td>\n",
       "      <td>4340306774493623681</td>\n",
       "      <td>8940341205206233829</td>\n",
       "      <td>NaN</td>\n",
       "      <td>NaN</td>\n",
       "      <td>NaN</td>\n",
       "      <td>HTML</td>\n",
       "      <td>http://www.coindesk.com/ieee-blockchain-oxford...</td>\n",
       "      <td>IEEE to Talk Blockchain at Cloud Computing Oxf...</td>\n",
       "      <td>One of the largest and oldest organizations fo...</td>\n",
       "      <td>en</td>\n",
       "    </tr>\n",
       "  </tbody>\n",
       "</table>\n",
       "</div>"
      ],
      "text/plain": [
       "   event_timestamp interaction_type              item_id          producer_id  \\\n",
       "1       1459193988  content_present -4110354420726924665  4340306774493623681   \n",
       "2       1459194146  content_present -7292285110016212249  4340306774493623681   \n",
       "3       1459194474  content_present -6151852268067518688  3891637997717104548   \n",
       "4       1459194497  content_present  2448026894306402386  4340306774493623681   \n",
       "5       1459194522  content_present -2826566343807132236  4340306774493623681   \n",
       "\n",
       "   producer_session_id producer_device_info producer_location  \\\n",
       "1  8940341205206233829                  NaN               NaN   \n",
       "2  8940341205206233829                  NaN               NaN   \n",
       "3 -1457532940883382585                  NaN               NaN   \n",
       "4  8940341205206233829                  NaN               NaN   \n",
       "5  8940341205206233829                  NaN               NaN   \n",
       "\n",
       "  producer_country item_type  \\\n",
       "1              NaN      HTML   \n",
       "2              NaN      HTML   \n",
       "3              NaN      HTML   \n",
       "4              NaN      HTML   \n",
       "5              NaN      HTML   \n",
       "\n",
       "                                            item_url  \\\n",
       "1  http://www.nytimes.com/2016/03/28/business/dea...   \n",
       "2  http://cointelegraph.com/news/bitcoin-future-w...   \n",
       "3  https://cloudplatform.googleblog.com/2016/03/G...   \n",
       "4  https://bitcoinmagazine.com/articles/ibm-wants...   \n",
       "5  http://www.coindesk.com/ieee-blockchain-oxford...   \n",
       "\n",
       "                                               title  \\\n",
       "1  Ethereum, a Virtual Currency, Enables Transact...   \n",
       "2  Bitcoin Future: When GBPcoin of Branson Wins O...   \n",
       "3                       Google Data Center 360° Tour   \n",
       "4  IBM Wants to \"Evolve the Internet\" With Blockc...   \n",
       "5  IEEE to Talk Blockchain at Cloud Computing Oxf...   \n",
       "\n",
       "                                    text_description language  \n",
       "1  All of this work is still very early. The firs...       en  \n",
       "2  The alarm clock wakes me at 8:00 with stream o...       en  \n",
       "3  We're excited to share the Google Data Center ...       en  \n",
       "4  The Aite Group projects the blockchain market ...       en  \n",
       "5  One of the largest and oldest organizations fo...       en  "
      ]
     },
     "execution_count": 46,
     "metadata": {},
     "output_type": "execute_result"
    }
   ],
   "source": [
    "platform_content.head()"
   ]
  },
  {
   "cell_type": "code",
   "execution_count": 47,
   "metadata": {},
   "outputs": [
    {
     "data": {
      "text/plain": [
       "(2211, 13)"
      ]
     },
     "execution_count": 47,
     "metadata": {},
     "output_type": "execute_result"
    }
   ],
   "source": [
    "# lets see shape of platform_content\n",
    "\n",
    "platform_content.shape"
   ]
  },
  {
   "cell_type": "code",
   "execution_count": 48,
   "metadata": {},
   "outputs": [
    {
     "data": {
      "text/plain": [
       "2211"
      ]
     },
     "execution_count": 48,
     "metadata": {},
     "output_type": "execute_result"
    }
   ],
   "source": [
    "# lets check unique item ids\n",
    "\n",
    "platform_content.item_id.nunique()"
   ]
  },
  {
   "cell_type": "code",
   "execution_count": 49,
   "metadata": {},
   "outputs": [
    {
     "data": {
      "text/plain": [
       "BR    402\n",
       "US     57\n",
       "CA      5\n",
       "AU      2\n",
       "PT      1\n",
       "Name: producer_country, dtype: int64"
      ]
     },
     "execution_count": 49,
     "metadata": {},
     "output_type": "execute_result"
    }
   ],
   "source": [
    "# lets check country counts in platform_content\n",
    "\n",
    "platform_content.producer_country.value_counts()"
   ]
  },
  {
   "cell_type": "code",
   "execution_count": 50,
   "metadata": {},
   "outputs": [
    {
     "data": {
      "text/plain": [
       "<AxesSubplot:>"
      ]
     },
     "execution_count": 50,
     "metadata": {},
     "output_type": "execute_result"
    },
    {
     "data": {
      "image/png": "[encoded data removed]",
      "text/plain": [
       "<Figure size 360x360 with 1 Axes>"
      ]
     },
     "metadata": {
      "needs_background": "light"
     },
     "output_type": "display_data"
    }
   ],
   "source": [
    "# lets plot barplot\n",
    "\n",
    "barplot(platform_content.producer_country.value_counts(dropna=False))"
   ]
  },
  {
   "cell_type": "code",
   "execution_count": 51,
   "metadata": {},
   "outputs": [],
   "source": [
    "# again we see that the content produced is also in Brazil"
   ]
  },
  {
   "cell_type": "code",
   "execution_count": 52,
   "metadata": {},
   "outputs": [
    {
     "data": {
      "text/plain": [
       "HTML     2199\n",
       "VIDEO       7\n",
       "RICH        5\n",
       "Name: item_type, dtype: int64"
      ]
     },
     "execution_count": 52,
     "metadata": {},
     "output_type": "execute_result"
    }
   ],
   "source": [
    "# lets check item_types\n",
    "\n",
    "platform_content.item_type.value_counts()"
   ]
  },
  {
   "cell_type": "code",
   "execution_count": 53,
   "metadata": {},
   "outputs": [],
   "source": [
    "# most of item_type is HTML"
   ]
  },
  {
   "cell_type": "code",
   "execution_count": 54,
   "metadata": {},
   "outputs": [
    {
     "data": {
      "text/plain": [
       "en    2211\n",
       "Name: language, dtype: int64"
      ]
     },
     "execution_count": 54,
     "metadata": {},
     "output_type": "execute_result"
    }
   ],
   "source": [
    "# lets check language\n",
    "\n",
    "platform_content.language.value_counts()"
   ]
  },
  {
   "cell_type": "code",
   "execution_count": 55,
   "metadata": {},
   "outputs": [],
   "source": [
    "# all content belongs to english language"
   ]
  },
  {
   "cell_type": "code",
   "execution_count": 56,
   "metadata": {},
   "outputs": [
    {
     "data": {
      "image/png": "[encoded data removed]",
      "text/plain": [
       "<Figure size 1080x360 with 1 Axes>"
      ]
     },
     "metadata": {
      "needs_background": "light"
     },
     "output_type": "display_data"
    }
   ],
   "source": [
    "# lets check title\n",
    "\n",
    "plt.figure(figsize=(15,5))\n",
    "platform_content.title.str.len().plot(kind='hist')\n",
    "plt.show()"
   ]
  },
  {
   "cell_type": "code",
   "execution_count": 57,
   "metadata": {},
   "outputs": [],
   "source": [
    "# most of the titles are 600 chars long"
   ]
  },
  {
   "cell_type": "code",
   "execution_count": 58,
   "metadata": {},
   "outputs": [
    {
     "data": {
      "image/png": "[encoded data removed]",
      "text/plain": [
       "<Figure size 1080x360 with 1 Axes>"
      ]
     },
     "metadata": {
      "needs_background": "light"
     },
     "output_type": "display_data"
    }
   ],
   "source": [
    "# lets check text_description\n",
    "\n",
    "plt.figure(figsize=(15,5))\n",
    "platform_content.text_description.str.len().plot(kind='hist')\n",
    "plt.show()"
   ]
  },
  {
   "cell_type": "code",
   "execution_count": 59,
   "metadata": {},
   "outputs": [],
   "source": [
    "# most of the text_description are 2000 chars long"
   ]
  },
  {
   "cell_type": "code",
   "execution_count": 60,
   "metadata": {},
   "outputs": [
    {
     "data": {
      "text/plain": [
       "event_timestamp            0\n",
       "interaction_type           0\n",
       "item_id                    0\n",
       "producer_id                0\n",
       "producer_session_id        0\n",
       "producer_device_info    1744\n",
       "producer_location       1744\n",
       "producer_country        1744\n",
       "item_type                  0\n",
       "item_url                   0\n",
       "title                      0\n",
       "text_description           0\n",
       "language                   0\n",
       "dtype: int64"
      ]
     },
     "execution_count": 60,
     "metadata": {},
     "output_type": "execute_result"
    }
   ],
   "source": [
    "platform_content.isna().sum()"
   ]
  },
  {
   "cell_type": "markdown",
   "metadata": {},
   "source": [
    "# Collaborative Filtering (User)"
   ]
  },
  {
   "cell_type": "code",
   "execution_count": 61,
   "metadata": {},
   "outputs": [],
   "source": [
    "# Creating user-item matrix from consumer_transactions"
   ]
  },
  {
   "cell_type": "code",
   "execution_count": 62,
   "metadata": {
    "scrolled": true
   },
   "outputs": [
    {
     "data": {
      "text/html": [
       "<div>\n",
       "<style scoped>\n",
       "    .dataframe tbody tr th:only-of-type {\n",
       "        vertical-align: middle;\n",
       "    }\n",
       "\n",
       "    .dataframe tbody tr th {\n",
       "        vertical-align: top;\n",
       "    }\n",
       "\n",
       "    .dataframe thead th {\n",
       "        text-align: right;\n",
       "    }\n",
       "</style>\n",
       "<table border=\"1\" class=\"dataframe\">\n",
       "  <thead>\n",
       "    <tr style=\"text-align: right;\">\n",
       "      <th></th>\n",
       "      <th>event_timestamp</th>\n",
       "      <th>interaction_type</th>\n",
       "      <th>item_id</th>\n",
       "      <th>consumer_id</th>\n",
       "      <th>consumer_session_id</th>\n",
       "      <th>consumer_device_info</th>\n",
       "      <th>consumer_location</th>\n",
       "      <th>country</th>\n",
       "      <th>ratings</th>\n",
       "    </tr>\n",
       "  </thead>\n",
       "  <tbody>\n",
       "    <tr>\n",
       "      <th>12</th>\n",
       "      <td>1465415228</td>\n",
       "      <td>content_watched</td>\n",
       "      <td>3460026829794173084</td>\n",
       "      <td>1908339160857512799</td>\n",
       "      <td>9121879357144259163</td>\n",
       "      <td>Mozilla/5.0 (Windows NT 6.1; WOW64) AppleWebKi...</td>\n",
       "      <td>SP</td>\n",
       "      <td>BR</td>\n",
       "      <td>1</td>\n",
       "    </tr>\n",
       "    <tr>\n",
       "      <th>17</th>\n",
       "      <td>1465412288</td>\n",
       "      <td>content_watched</td>\n",
       "      <td>-7820640624231356730</td>\n",
       "      <td>-445337111692715325</td>\n",
       "      <td>5611481178424124714</td>\n",
       "      <td>Mozilla/5.0 (Windows NT 10.0; WOW64) AppleWebK...</td>\n",
       "      <td>MG</td>\n",
       "      <td>BR</td>\n",
       "      <td>1</td>\n",
       "    </tr>\n",
       "    <tr>\n",
       "      <th>22</th>\n",
       "      <td>1465415060</td>\n",
       "      <td>content_watched</td>\n",
       "      <td>-1492913151930215984</td>\n",
       "      <td>4254153380739593270</td>\n",
       "      <td>8743229464706506141</td>\n",
       "      <td>NaN</td>\n",
       "      <td>NaN</td>\n",
       "      <td>NaN</td>\n",
       "      <td>1</td>\n",
       "    </tr>\n",
       "    <tr>\n",
       "      <th>26</th>\n",
       "      <td>1465415695</td>\n",
       "      <td>content_watched</td>\n",
       "      <td>7763750328910542816</td>\n",
       "      <td>1908339160857512799</td>\n",
       "      <td>9121879357144259163</td>\n",
       "      <td>NaN</td>\n",
       "      <td>NaN</td>\n",
       "      <td>NaN</td>\n",
       "      <td>1</td>\n",
       "    </tr>\n",
       "    <tr>\n",
       "      <th>30</th>\n",
       "      <td>1465413771</td>\n",
       "      <td>content_watched</td>\n",
       "      <td>3064370296170038610</td>\n",
       "      <td>3609194402293569455</td>\n",
       "      <td>1143207167886864524</td>\n",
       "      <td>Mozilla/5.0 (Windows NT 10.0; Win64; x64) Appl...</td>\n",
       "      <td>SP</td>\n",
       "      <td>BR</td>\n",
       "      <td>1</td>\n",
       "    </tr>\n",
       "  </tbody>\n",
       "</table>\n",
       "</div>"
      ],
      "text/plain": [
       "    event_timestamp interaction_type              item_id  \\\n",
       "12       1465415228  content_watched  3460026829794173084   \n",
       "17       1465412288  content_watched -7820640624231356730   \n",
       "22       1465415060  content_watched -1492913151930215984   \n",
       "26       1465415695  content_watched  7763750328910542816   \n",
       "30       1465413771  content_watched  3064370296170038610   \n",
       "\n",
       "            consumer_id  consumer_session_id  \\\n",
       "12  1908339160857512799  9121879357144259163   \n",
       "17  -445337111692715325  5611481178424124714   \n",
       "22  4254153380739593270  8743229464706506141   \n",
       "26  1908339160857512799  9121879357144259163   \n",
       "30  3609194402293569455  1143207167886864524   \n",
       "\n",
       "                                 consumer_device_info consumer_location  \\\n",
       "12  Mozilla/5.0 (Windows NT 6.1; WOW64) AppleWebKi...                SP   \n",
       "17  Mozilla/5.0 (Windows NT 10.0; WOW64) AppleWebK...                MG   \n",
       "22                                                NaN               NaN   \n",
       "26                                                NaN               NaN   \n",
       "30  Mozilla/5.0 (Windows NT 10.0; Win64; x64) Appl...                SP   \n",
       "\n",
       "   country  ratings  \n",
       "12      BR        1  \n",
       "17      BR        1  \n",
       "22     NaN        1  \n",
       "26     NaN        1  \n",
       "30      BR        1  "
      ]
     },
     "execution_count": 62,
     "metadata": {},
     "output_type": "execute_result"
    }
   ],
   "source": [
    "consumer_transactions.head()"
   ]
  },
  {
   "cell_type": "code",
   "execution_count": 63,
   "metadata": {},
   "outputs": [],
   "source": [
    "consumer_transactions_df = consumer_transactions[['item_id', 'consumer_id', 'ratings']]"
   ]
  },
  {
   "cell_type": "code",
   "execution_count": 64,
   "metadata": {},
   "outputs": [
    {
     "data": {
      "text/html": [
       "<div>\n",
       "<style scoped>\n",
       "    .dataframe tbody tr th:only-of-type {\n",
       "        vertical-align: middle;\n",
       "    }\n",
       "\n",
       "    .dataframe tbody tr th {\n",
       "        vertical-align: top;\n",
       "    }\n",
       "\n",
       "    .dataframe thead th {\n",
       "        text-align: right;\n",
       "    }\n",
       "</style>\n",
       "<table border=\"1\" class=\"dataframe\">\n",
       "  <thead>\n",
       "    <tr style=\"text-align: right;\">\n",
       "      <th></th>\n",
       "      <th>item_id</th>\n",
       "      <th>consumer_id</th>\n",
       "      <th>ratings</th>\n",
       "    </tr>\n",
       "  </thead>\n",
       "  <tbody>\n",
       "    <tr>\n",
       "      <th>12</th>\n",
       "      <td>3460026829794173084</td>\n",
       "      <td>1908339160857512799</td>\n",
       "      <td>1</td>\n",
       "    </tr>\n",
       "    <tr>\n",
       "      <th>17</th>\n",
       "      <td>-7820640624231356730</td>\n",
       "      <td>-445337111692715325</td>\n",
       "      <td>1</td>\n",
       "    </tr>\n",
       "    <tr>\n",
       "      <th>22</th>\n",
       "      <td>-1492913151930215984</td>\n",
       "      <td>4254153380739593270</td>\n",
       "      <td>1</td>\n",
       "    </tr>\n",
       "    <tr>\n",
       "      <th>26</th>\n",
       "      <td>7763750328910542816</td>\n",
       "      <td>1908339160857512799</td>\n",
       "      <td>1</td>\n",
       "    </tr>\n",
       "    <tr>\n",
       "      <th>30</th>\n",
       "      <td>3064370296170038610</td>\n",
       "      <td>3609194402293569455</td>\n",
       "      <td>1</td>\n",
       "    </tr>\n",
       "  </tbody>\n",
       "</table>\n",
       "</div>"
      ],
      "text/plain": [
       "                item_id          consumer_id  ratings\n",
       "12  3460026829794173084  1908339160857512799        1\n",
       "17 -7820640624231356730  -445337111692715325        1\n",
       "22 -1492913151930215984  4254153380739593270        1\n",
       "26  7763750328910542816  1908339160857512799        1\n",
       "30  3064370296170038610  3609194402293569455        1"
      ]
     },
     "execution_count": 64,
     "metadata": {},
     "output_type": "execute_result"
    }
   ],
   "source": [
    "consumer_transactions_df.head()"
   ]
  },
  {
   "cell_type": "code",
   "execution_count": 65,
   "metadata": {},
   "outputs": [
    {
     "data": {
      "text/plain": [
       "item_id        2987\n",
       "consumer_id    1895\n",
       "ratings           5\n",
       "dtype: int64"
      ]
     },
     "execution_count": 65,
     "metadata": {},
     "output_type": "execute_result"
    }
   ],
   "source": [
    "consumer_transactions_df.nunique()"
   ]
  },
  {
   "cell_type": "code",
   "execution_count": 66,
   "metadata": {},
   "outputs": [
    {
     "data": {
      "text/plain": [
       "item_id        0\n",
       "consumer_id    0\n",
       "ratings        0\n",
       "dtype: int64"
      ]
     },
     "execution_count": 66,
     "metadata": {},
     "output_type": "execute_result"
    }
   ],
   "source": [
    "consumer_transactions_df.isna().sum()"
   ]
  },
  {
   "cell_type": "code",
   "execution_count": 67,
   "metadata": {},
   "outputs": [],
   "source": [
    "# split in train and test\n",
    "train, test = train_test_split(consumer_transactions_df, test_size=0.20, random_state=31)"
   ]
  },
  {
   "cell_type": "code",
   "execution_count": 68,
   "metadata": {},
   "outputs": [
    {
     "name": "stdout",
     "output_type": "stream",
     "text": [
      "(32568, 3)\n",
      "(8142, 3)\n"
     ]
    }
   ],
   "source": [
    "print(train.shape)\n",
    "print(test.shape)"
   ]
  },
  {
   "cell_type": "code",
   "execution_count": 69,
   "metadata": {},
   "outputs": [],
   "source": [
    "# lets create pivot\n",
    "\n",
    "data_matrix_train = train.pivot(index='consumer_id', columns='item_id', values='ratings').fillna(0)"
   ]
  },
  {
   "cell_type": "code",
   "execution_count": 70,
   "metadata": {
    "scrolled": true
   },
   "outputs": [
    {
     "data": {
      "text/html": [
       "<div>\n",
       "<style scoped>\n",
       "    .dataframe tbody tr th:only-of-type {\n",
       "        vertical-align: middle;\n",
       "    }\n",
       "\n",
       "    .dataframe tbody tr th {\n",
       "        vertical-align: top;\n",
       "    }\n",
       "\n",
       "    .dataframe thead th {\n",
       "        text-align: right;\n",
       "    }\n",
       "</style>\n",
       "<table border=\"1\" class=\"dataframe\">\n",
       "  <thead>\n",
       "    <tr style=\"text-align: right;\">\n",
       "      <th>item_id</th>\n",
       "      <th>-9222795471790223670</th>\n",
       "      <th>-9216926795620865886</th>\n",
       "      <th>-9194572880052200111</th>\n",
       "      <th>-9192549002213406534</th>\n",
       "      <th>-9190737901804729417</th>\n",
       "      <th>-9189659052158407108</th>\n",
       "      <th>-9176143510534135851</th>\n",
       "      <th>-9172673334835262304</th>\n",
       "      <th>-9171475473795142532</th>\n",
       "      <th>-9166778629773133902</th>\n",
       "      <th>...</th>\n",
       "      <th>9191014301634017491</th>\n",
       "      <th>9207286802575546269</th>\n",
       "      <th>9208127165664287660</th>\n",
       "      <th>9209629151177723638</th>\n",
       "      <th>9209886322932807692</th>\n",
       "      <th>9213260650272029784</th>\n",
       "      <th>9215261273565326920</th>\n",
       "      <th>9217155070834564627</th>\n",
       "      <th>9220445660318725468</th>\n",
       "      <th>9222265156747237864</th>\n",
       "    </tr>\n",
       "    <tr>\n",
       "      <th>consumer_id</th>\n",
       "      <th></th>\n",
       "      <th></th>\n",
       "      <th></th>\n",
       "      <th></th>\n",
       "      <th></th>\n",
       "      <th></th>\n",
       "      <th></th>\n",
       "      <th></th>\n",
       "      <th></th>\n",
       "      <th></th>\n",
       "      <th></th>\n",
       "      <th></th>\n",
       "      <th></th>\n",
       "      <th></th>\n",
       "      <th></th>\n",
       "      <th></th>\n",
       "      <th></th>\n",
       "      <th></th>\n",
       "      <th></th>\n",
       "      <th></th>\n",
       "      <th></th>\n",
       "    </tr>\n",
       "  </thead>\n",
       "  <tbody>\n",
       "    <tr>\n",
       "      <th>-9223121837663643404</th>\n",
       "      <td>0.0</td>\n",
       "      <td>0.0</td>\n",
       "      <td>0.0</td>\n",
       "      <td>0.0</td>\n",
       "      <td>0.0</td>\n",
       "      <td>0.0</td>\n",
       "      <td>0.0</td>\n",
       "      <td>0.0</td>\n",
       "      <td>0.0</td>\n",
       "      <td>0.0</td>\n",
       "      <td>...</td>\n",
       "      <td>0.0</td>\n",
       "      <td>0.0</td>\n",
       "      <td>0.0</td>\n",
       "      <td>0.0</td>\n",
       "      <td>0.0</td>\n",
       "      <td>0.0</td>\n",
       "      <td>0.0</td>\n",
       "      <td>0.0</td>\n",
       "      <td>0.0</td>\n",
       "      <td>0.0</td>\n",
       "    </tr>\n",
       "    <tr>\n",
       "      <th>-9212075797126931087</th>\n",
       "      <td>0.0</td>\n",
       "      <td>0.0</td>\n",
       "      <td>0.0</td>\n",
       "      <td>0.0</td>\n",
       "      <td>0.0</td>\n",
       "      <td>0.0</td>\n",
       "      <td>0.0</td>\n",
       "      <td>0.0</td>\n",
       "      <td>0.0</td>\n",
       "      <td>0.0</td>\n",
       "      <td>...</td>\n",
       "      <td>0.0</td>\n",
       "      <td>0.0</td>\n",
       "      <td>0.0</td>\n",
       "      <td>0.0</td>\n",
       "      <td>0.0</td>\n",
       "      <td>0.0</td>\n",
       "      <td>0.0</td>\n",
       "      <td>0.0</td>\n",
       "      <td>0.0</td>\n",
       "      <td>0.0</td>\n",
       "    </tr>\n",
       "    <tr>\n",
       "      <th>-9207251133131336884</th>\n",
       "      <td>0.0</td>\n",
       "      <td>1.0</td>\n",
       "      <td>0.0</td>\n",
       "      <td>0.0</td>\n",
       "      <td>0.0</td>\n",
       "      <td>0.0</td>\n",
       "      <td>0.0</td>\n",
       "      <td>0.0</td>\n",
       "      <td>0.0</td>\n",
       "      <td>0.0</td>\n",
       "      <td>...</td>\n",
       "      <td>0.0</td>\n",
       "      <td>0.0</td>\n",
       "      <td>0.0</td>\n",
       "      <td>0.0</td>\n",
       "      <td>0.0</td>\n",
       "      <td>0.0</td>\n",
       "      <td>0.0</td>\n",
       "      <td>0.0</td>\n",
       "      <td>0.0</td>\n",
       "      <td>0.0</td>\n",
       "    </tr>\n",
       "    <tr>\n",
       "      <th>-9199575329909162940</th>\n",
       "      <td>0.0</td>\n",
       "      <td>0.0</td>\n",
       "      <td>0.0</td>\n",
       "      <td>0.0</td>\n",
       "      <td>0.0</td>\n",
       "      <td>0.0</td>\n",
       "      <td>0.0</td>\n",
       "      <td>0.0</td>\n",
       "      <td>0.0</td>\n",
       "      <td>0.0</td>\n",
       "      <td>...</td>\n",
       "      <td>0.0</td>\n",
       "      <td>0.0</td>\n",
       "      <td>0.0</td>\n",
       "      <td>0.0</td>\n",
       "      <td>0.0</td>\n",
       "      <td>0.0</td>\n",
       "      <td>0.0</td>\n",
       "      <td>0.0</td>\n",
       "      <td>0.0</td>\n",
       "      <td>0.0</td>\n",
       "    </tr>\n",
       "    <tr>\n",
       "      <th>-9196668942822132778</th>\n",
       "      <td>0.0</td>\n",
       "      <td>0.0</td>\n",
       "      <td>0.0</td>\n",
       "      <td>0.0</td>\n",
       "      <td>0.0</td>\n",
       "      <td>0.0</td>\n",
       "      <td>0.0</td>\n",
       "      <td>0.0</td>\n",
       "      <td>0.0</td>\n",
       "      <td>0.0</td>\n",
       "      <td>...</td>\n",
       "      <td>0.0</td>\n",
       "      <td>0.0</td>\n",
       "      <td>0.0</td>\n",
       "      <td>0.0</td>\n",
       "      <td>0.0</td>\n",
       "      <td>0.0</td>\n",
       "      <td>0.0</td>\n",
       "      <td>0.0</td>\n",
       "      <td>0.0</td>\n",
       "      <td>0.0</td>\n",
       "    </tr>\n",
       "  </tbody>\n",
       "</table>\n",
       "<p>5 rows × 2916 columns</p>\n",
       "</div>"
      ],
      "text/plain": [
       "item_id               -9222795471790223670  -9216926795620865886  \\\n",
       "consumer_id                                                        \n",
       "-9223121837663643404                   0.0                   0.0   \n",
       "-9212075797126931087                   0.0                   0.0   \n",
       "-9207251133131336884                   0.0                   1.0   \n",
       "-9199575329909162940                   0.0                   0.0   \n",
       "-9196668942822132778                   0.0                   0.0   \n",
       "\n",
       "item_id               -9194572880052200111  -9192549002213406534  \\\n",
       "consumer_id                                                        \n",
       "-9223121837663643404                   0.0                   0.0   \n",
       "-9212075797126931087                   0.0                   0.0   \n",
       "-9207251133131336884                   0.0                   0.0   \n",
       "-9199575329909162940                   0.0                   0.0   \n",
       "-9196668942822132778                   0.0                   0.0   \n",
       "\n",
       "item_id               -9190737901804729417  -9189659052158407108  \\\n",
       "consumer_id                                                        \n",
       "-9223121837663643404                   0.0                   0.0   \n",
       "-9212075797126931087                   0.0                   0.0   \n",
       "-9207251133131336884                   0.0                   0.0   \n",
       "-9199575329909162940                   0.0                   0.0   \n",
       "-9196668942822132778                   0.0                   0.0   \n",
       "\n",
       "item_id               -9176143510534135851  -9172673334835262304  \\\n",
       "consumer_id                                                        \n",
       "-9223121837663643404                   0.0                   0.0   \n",
       "-9212075797126931087                   0.0                   0.0   \n",
       "-9207251133131336884                   0.0                   0.0   \n",
       "-9199575329909162940                   0.0                   0.0   \n",
       "-9196668942822132778                   0.0                   0.0   \n",
       "\n",
       "item_id               -9171475473795142532  -9166778629773133902  ...  \\\n",
       "consumer_id                                                       ...   \n",
       "-9223121837663643404                   0.0                   0.0  ...   \n",
       "-9212075797126931087                   0.0                   0.0  ...   \n",
       "-9207251133131336884                   0.0                   0.0  ...   \n",
       "-9199575329909162940                   0.0                   0.0  ...   \n",
       "-9196668942822132778                   0.0                   0.0  ...   \n",
       "\n",
       "item_id                9191014301634017491   9207286802575546269  \\\n",
       "consumer_id                                                        \n",
       "-9223121837663643404                   0.0                   0.0   \n",
       "-9212075797126931087                   0.0                   0.0   \n",
       "-9207251133131336884                   0.0                   0.0   \n",
       "-9199575329909162940                   0.0                   0.0   \n",
       "-9196668942822132778                   0.0                   0.0   \n",
       "\n",
       "item_id                9208127165664287660   9209629151177723638  \\\n",
       "consumer_id                                                        \n",
       "-9223121837663643404                   0.0                   0.0   \n",
       "-9212075797126931087                   0.0                   0.0   \n",
       "-9207251133131336884                   0.0                   0.0   \n",
       "-9199575329909162940                   0.0                   0.0   \n",
       "-9196668942822132778                   0.0                   0.0   \n",
       "\n",
       "item_id                9209886322932807692   9213260650272029784  \\\n",
       "consumer_id                                                        \n",
       "-9223121837663643404                   0.0                   0.0   \n",
       "-9212075797126931087                   0.0                   0.0   \n",
       "-9207251133131336884                   0.0                   0.0   \n",
       "-9199575329909162940                   0.0                   0.0   \n",
       "-9196668942822132778                   0.0                   0.0   \n",
       "\n",
       "item_id                9215261273565326920   9217155070834564627  \\\n",
       "consumer_id                                                        \n",
       "-9223121837663643404                   0.0                   0.0   \n",
       "-9212075797126931087                   0.0                   0.0   \n",
       "-9207251133131336884                   0.0                   0.0   \n",
       "-9199575329909162940                   0.0                   0.0   \n",
       "-9196668942822132778                   0.0                   0.0   \n",
       "\n",
       "item_id                9220445660318725468   9222265156747237864  \n",
       "consumer_id                                                       \n",
       "-9223121837663643404                   0.0                   0.0  \n",
       "-9212075797126931087                   0.0                   0.0  \n",
       "-9207251133131336884                   0.0                   0.0  \n",
       "-9199575329909162940                   0.0                   0.0  \n",
       "-9196668942822132778                   0.0                   0.0  \n",
       "\n",
       "[5 rows x 2916 columns]"
      ]
     },
     "execution_count": 70,
     "metadata": {},
     "output_type": "execute_result"
    }
   ],
   "source": [
    "data_matrix_train.head()"
   ]
  },
  {
   "cell_type": "code",
   "execution_count": 71,
   "metadata": {},
   "outputs": [
    {
     "data": {
      "text/plain": [
       "(1831, 2916)"
      ]
     },
     "execution_count": 71,
     "metadata": {},
     "output_type": "execute_result"
    }
   ],
   "source": [
    "data_matrix_train.shape"
   ]
  },
  {
   "cell_type": "code",
   "execution_count": 72,
   "metadata": {},
   "outputs": [],
   "source": [
    "user_similarity = 1 - pairwise_distances(data_matrix_train, metric='cosine')"
   ]
  },
  {
   "cell_type": "code",
   "execution_count": 73,
   "metadata": {},
   "outputs": [],
   "source": [
    "# user_similarity"
   ]
  },
  {
   "cell_type": "code",
   "execution_count": 74,
   "metadata": {},
   "outputs": [],
   "source": [
    "user_similarity_df = pd.DataFrame(user_similarity, index=data_matrix_train.index, columns=data_matrix_train.index)"
   ]
  },
  {
   "cell_type": "code",
   "execution_count": 75,
   "metadata": {
    "scrolled": true
   },
   "outputs": [
    {
     "data": {
      "text/plain": [
       "array([[0.38163813, 0.29310894, 0.36884105, ..., 0.30110289, 0.6356083 ,\n",
       "        0.22227561],\n",
       "       [0.        , 1.00443322, 0.04006029, ..., 0.03316753, 0.32639223,\n",
       "        0.02364919],\n",
       "       [0.09788176, 2.82286513, 0.09285797, ..., 0.07657057, 0.22808735,\n",
       "        0.13974236],\n",
       "       ...,\n",
       "       [0.09664266, 0.16611203, 0.36184034, ..., 0.092029  , 0.37679661,\n",
       "        0.0441001 ],\n",
       "       [0.11159929, 0.36392918, 0.35066452, ..., 0.18553409, 0.50904576,\n",
       "        0.07865066],\n",
       "       [0.03908231, 0.07426989, 0.82108926, ..., 0.12694348, 0.71775029,\n",
       "        0.10465749]])"
      ]
     },
     "execution_count": 75,
     "metadata": {},
     "output_type": "execute_result"
    }
   ],
   "source": [
    "user_predicted_ratings_train = np.dot(user_similarity, data_matrix_train.fillna(0))\n",
    "user_predicted_ratings_train"
   ]
  },
  {
   "cell_type": "code",
   "execution_count": 76,
   "metadata": {},
   "outputs": [],
   "source": [
    "user_predicted_ratings_train_df = pd.DataFrame(user_predicted_ratings_train, index=data_matrix_train.index, columns=data_matrix_train.columns)"
   ]
  },
  {
   "cell_type": "code",
   "execution_count": 77,
   "metadata": {},
   "outputs": [
    {
     "data": {
      "text/html": [
       "<div>\n",
       "<style scoped>\n",
       "    .dataframe tbody tr th:only-of-type {\n",
       "        vertical-align: middle;\n",
       "    }\n",
       "\n",
       "    .dataframe tbody tr th {\n",
       "        vertical-align: top;\n",
       "    }\n",
       "\n",
       "    .dataframe thead th {\n",
       "        text-align: right;\n",
       "    }\n",
       "</style>\n",
       "<table border=\"1\" class=\"dataframe\">\n",
       "  <thead>\n",
       "    <tr style=\"text-align: right;\">\n",
       "      <th>item_id</th>\n",
       "      <th>-9222795471790223670</th>\n",
       "      <th>-9216926795620865886</th>\n",
       "      <th>-9194572880052200111</th>\n",
       "      <th>-9192549002213406534</th>\n",
       "      <th>-9190737901804729417</th>\n",
       "      <th>-9189659052158407108</th>\n",
       "      <th>-9176143510534135851</th>\n",
       "      <th>-9172673334835262304</th>\n",
       "      <th>-9171475473795142532</th>\n",
       "      <th>-9166778629773133902</th>\n",
       "      <th>...</th>\n",
       "      <th>9191014301634017491</th>\n",
       "      <th>9207286802575546269</th>\n",
       "      <th>9208127165664287660</th>\n",
       "      <th>9209629151177723638</th>\n",
       "      <th>9209886322932807692</th>\n",
       "      <th>9213260650272029784</th>\n",
       "      <th>9215261273565326920</th>\n",
       "      <th>9217155070834564627</th>\n",
       "      <th>9220445660318725468</th>\n",
       "      <th>9222265156747237864</th>\n",
       "    </tr>\n",
       "    <tr>\n",
       "      <th>consumer_id</th>\n",
       "      <th></th>\n",
       "      <th></th>\n",
       "      <th></th>\n",
       "      <th></th>\n",
       "      <th></th>\n",
       "      <th></th>\n",
       "      <th></th>\n",
       "      <th></th>\n",
       "      <th></th>\n",
       "      <th></th>\n",
       "      <th></th>\n",
       "      <th></th>\n",
       "      <th></th>\n",
       "      <th></th>\n",
       "      <th></th>\n",
       "      <th></th>\n",
       "      <th></th>\n",
       "      <th></th>\n",
       "      <th></th>\n",
       "      <th></th>\n",
       "      <th></th>\n",
       "    </tr>\n",
       "  </thead>\n",
       "  <tbody>\n",
       "    <tr>\n",
       "      <th>-9223121837663643404</th>\n",
       "      <td>0.381638</td>\n",
       "      <td>0.293109</td>\n",
       "      <td>0.368841</td>\n",
       "      <td>1.769129</td>\n",
       "      <td>0.103816</td>\n",
       "      <td>0.817845</td>\n",
       "      <td>0.869343</td>\n",
       "      <td>0.053973</td>\n",
       "      <td>0.265140</td>\n",
       "      <td>0.101278</td>\n",
       "      <td>...</td>\n",
       "      <td>0.611257</td>\n",
       "      <td>0.547322</td>\n",
       "      <td>0.389073</td>\n",
       "      <td>0.157633</td>\n",
       "      <td>0.186734</td>\n",
       "      <td>0.292284</td>\n",
       "      <td>0.614553</td>\n",
       "      <td>0.301103</td>\n",
       "      <td>0.635608</td>\n",
       "      <td>0.222276</td>\n",
       "    </tr>\n",
       "    <tr>\n",
       "      <th>-9212075797126931087</th>\n",
       "      <td>0.000000</td>\n",
       "      <td>1.004433</td>\n",
       "      <td>0.040060</td>\n",
       "      <td>0.203621</td>\n",
       "      <td>0.000000</td>\n",
       "      <td>0.255062</td>\n",
       "      <td>0.080845</td>\n",
       "      <td>0.082076</td>\n",
       "      <td>0.000000</td>\n",
       "      <td>0.023864</td>\n",
       "      <td>...</td>\n",
       "      <td>0.000000</td>\n",
       "      <td>0.090790</td>\n",
       "      <td>0.056323</td>\n",
       "      <td>0.013705</td>\n",
       "      <td>0.105940</td>\n",
       "      <td>0.052858</td>\n",
       "      <td>0.167410</td>\n",
       "      <td>0.033168</td>\n",
       "      <td>0.326392</td>\n",
       "      <td>0.023649</td>\n",
       "    </tr>\n",
       "    <tr>\n",
       "      <th>-9207251133131336884</th>\n",
       "      <td>0.097882</td>\n",
       "      <td>2.822865</td>\n",
       "      <td>0.092858</td>\n",
       "      <td>0.789346</td>\n",
       "      <td>0.105777</td>\n",
       "      <td>0.484105</td>\n",
       "      <td>0.858334</td>\n",
       "      <td>0.034606</td>\n",
       "      <td>0.033014</td>\n",
       "      <td>0.178324</td>\n",
       "      <td>...</td>\n",
       "      <td>0.369293</td>\n",
       "      <td>0.443275</td>\n",
       "      <td>0.112289</td>\n",
       "      <td>0.017336</td>\n",
       "      <td>0.094977</td>\n",
       "      <td>0.200000</td>\n",
       "      <td>0.246790</td>\n",
       "      <td>0.076571</td>\n",
       "      <td>0.228087</td>\n",
       "      <td>0.139742</td>\n",
       "    </tr>\n",
       "    <tr>\n",
       "      <th>-9199575329909162940</th>\n",
       "      <td>0.421159</td>\n",
       "      <td>0.000000</td>\n",
       "      <td>0.012243</td>\n",
       "      <td>0.114348</td>\n",
       "      <td>0.070186</td>\n",
       "      <td>0.053044</td>\n",
       "      <td>0.332540</td>\n",
       "      <td>0.000000</td>\n",
       "      <td>0.000000</td>\n",
       "      <td>0.000000</td>\n",
       "      <td>...</td>\n",
       "      <td>0.072924</td>\n",
       "      <td>0.145055</td>\n",
       "      <td>0.029424</td>\n",
       "      <td>0.000000</td>\n",
       "      <td>0.000000</td>\n",
       "      <td>0.012243</td>\n",
       "      <td>0.029424</td>\n",
       "      <td>0.029424</td>\n",
       "      <td>0.080353</td>\n",
       "      <td>0.000000</td>\n",
       "    </tr>\n",
       "    <tr>\n",
       "      <th>-9196668942822132778</th>\n",
       "      <td>0.000000</td>\n",
       "      <td>0.000000</td>\n",
       "      <td>0.803730</td>\n",
       "      <td>0.504698</td>\n",
       "      <td>0.034139</td>\n",
       "      <td>0.379629</td>\n",
       "      <td>0.044346</td>\n",
       "      <td>0.022338</td>\n",
       "      <td>0.021310</td>\n",
       "      <td>0.077939</td>\n",
       "      <td>...</td>\n",
       "      <td>0.043710</td>\n",
       "      <td>0.044346</td>\n",
       "      <td>0.083189</td>\n",
       "      <td>0.000000</td>\n",
       "      <td>0.344982</td>\n",
       "      <td>0.191593</td>\n",
       "      <td>0.069364</td>\n",
       "      <td>0.031782</td>\n",
       "      <td>0.129402</td>\n",
       "      <td>0.000000</td>\n",
       "    </tr>\n",
       "  </tbody>\n",
       "</table>\n",
       "<p>5 rows × 2916 columns</p>\n",
       "</div>"
      ],
      "text/plain": [
       "item_id               -9222795471790223670  -9216926795620865886  \\\n",
       "consumer_id                                                        \n",
       "-9223121837663643404              0.381638              0.293109   \n",
       "-9212075797126931087              0.000000              1.004433   \n",
       "-9207251133131336884              0.097882              2.822865   \n",
       "-9199575329909162940              0.421159              0.000000   \n",
       "-9196668942822132778              0.000000              0.000000   \n",
       "\n",
       "item_id               -9194572880052200111  -9192549002213406534  \\\n",
       "consumer_id                                                        \n",
       "-9223121837663643404              0.368841              1.769129   \n",
       "-9212075797126931087              0.040060              0.203621   \n",
       "-9207251133131336884              0.092858              0.789346   \n",
       "-9199575329909162940              0.012243              0.114348   \n",
       "-9196668942822132778              0.803730              0.504698   \n",
       "\n",
       "item_id               -9190737901804729417  -9189659052158407108  \\\n",
       "consumer_id                                                        \n",
       "-9223121837663643404              0.103816              0.817845   \n",
       "-9212075797126931087              0.000000              0.255062   \n",
       "-9207251133131336884              0.105777              0.484105   \n",
       "-9199575329909162940              0.070186              0.053044   \n",
       "-9196668942822132778              0.034139              0.379629   \n",
       "\n",
       "item_id               -9176143510534135851  -9172673334835262304  \\\n",
       "consumer_id                                                        \n",
       "-9223121837663643404              0.869343              0.053973   \n",
       "-9212075797126931087              0.080845              0.082076   \n",
       "-9207251133131336884              0.858334              0.034606   \n",
       "-9199575329909162940              0.332540              0.000000   \n",
       "-9196668942822132778              0.044346              0.022338   \n",
       "\n",
       "item_id               -9171475473795142532  -9166778629773133902  ...  \\\n",
       "consumer_id                                                       ...   \n",
       "-9223121837663643404              0.265140              0.101278  ...   \n",
       "-9212075797126931087              0.000000              0.023864  ...   \n",
       "-9207251133131336884              0.033014              0.178324  ...   \n",
       "-9199575329909162940              0.000000              0.000000  ...   \n",
       "-9196668942822132778              0.021310              0.077939  ...   \n",
       "\n",
       "item_id                9191014301634017491   9207286802575546269  \\\n",
       "consumer_id                                                        \n",
       "-9223121837663643404              0.611257              0.547322   \n",
       "-9212075797126931087              0.000000              0.090790   \n",
       "-9207251133131336884              0.369293              0.443275   \n",
       "-9199575329909162940              0.072924              0.145055   \n",
       "-9196668942822132778              0.043710              0.044346   \n",
       "\n",
       "item_id                9208127165664287660   9209629151177723638  \\\n",
       "consumer_id                                                        \n",
       "-9223121837663643404              0.389073              0.157633   \n",
       "-9212075797126931087              0.056323              0.013705   \n",
       "-9207251133131336884              0.112289              0.017336   \n",
       "-9199575329909162940              0.029424              0.000000   \n",
       "-9196668942822132778              0.083189              0.000000   \n",
       "\n",
       "item_id                9209886322932807692   9213260650272029784  \\\n",
       "consumer_id                                                        \n",
       "-9223121837663643404              0.186734              0.292284   \n",
       "-9212075797126931087              0.105940              0.052858   \n",
       "-9207251133131336884              0.094977              0.200000   \n",
       "-9199575329909162940              0.000000              0.012243   \n",
       "-9196668942822132778              0.344982              0.191593   \n",
       "\n",
       "item_id                9215261273565326920   9217155070834564627  \\\n",
       "consumer_id                                                        \n",
       "-9223121837663643404              0.614553              0.301103   \n",
       "-9212075797126931087              0.167410              0.033168   \n",
       "-9207251133131336884              0.246790              0.076571   \n",
       "-9199575329909162940              0.029424              0.029424   \n",
       "-9196668942822132778              0.069364              0.031782   \n",
       "\n",
       "item_id                9220445660318725468   9222265156747237864  \n",
       "consumer_id                                                       \n",
       "-9223121837663643404              0.635608              0.222276  \n",
       "-9212075797126931087              0.326392              0.023649  \n",
       "-9207251133131336884              0.228087              0.139742  \n",
       "-9199575329909162940              0.080353              0.000000  \n",
       "-9196668942822132778              0.129402              0.000000  \n",
       "\n",
       "[5 rows x 2916 columns]"
      ]
     },
     "execution_count": 77,
     "metadata": {},
     "output_type": "execute_result"
    }
   ],
   "source": [
    "user_predicted_ratings_train_df.head()"
   ]
  },
  {
   "cell_type": "code",
   "execution_count": 78,
   "metadata": {},
   "outputs": [
    {
     "data": {
      "text/plain": [
       "(1831, 2916)"
      ]
     },
     "execution_count": 78,
     "metadata": {},
     "output_type": "execute_result"
    }
   ],
   "source": [
    "user_predicted_ratings_train_df.shape"
   ]
  },
  {
   "cell_type": "code",
   "execution_count": 79,
   "metadata": {},
   "outputs": [],
   "source": [
    "# we need to filter records from test which are present in train. \n",
    "# lets create a copy of test set\n",
    "\n",
    "test_copy = test.copy()"
   ]
  },
  {
   "cell_type": "code",
   "execution_count": 80,
   "metadata": {},
   "outputs": [
    {
     "data": {
      "text/plain": [
       "(8142, 3)"
      ]
     },
     "execution_count": 80,
     "metadata": {},
     "output_type": "execute_result"
    }
   ],
   "source": [
    "test.shape"
   ]
  },
  {
   "cell_type": "code",
   "execution_count": 81,
   "metadata": {},
   "outputs": [
    {
     "data": {
      "text/plain": [
       "(7982, 3)"
      ]
     },
     "execution_count": 81,
     "metadata": {},
     "output_type": "execute_result"
    }
   ],
   "source": [
    "test = test[test.consumer_id.isin(train.consumer_id) & test.item_id.isin(train.item_id)]\n",
    "test.shape"
   ]
  },
  {
   "cell_type": "code",
   "execution_count": 82,
   "metadata": {},
   "outputs": [
    {
     "data": {
      "text/html": [
       "<div>\n",
       "<style scoped>\n",
       "    .dataframe tbody tr th:only-of-type {\n",
       "        vertical-align: middle;\n",
       "    }\n",
       "\n",
       "    .dataframe tbody tr th {\n",
       "        vertical-align: top;\n",
       "    }\n",
       "\n",
       "    .dataframe thead th {\n",
       "        text-align: right;\n",
       "    }\n",
       "</style>\n",
       "<table border=\"1\" class=\"dataframe\">\n",
       "  <thead>\n",
       "    <tr style=\"text-align: right;\">\n",
       "      <th></th>\n",
       "      <th>item_id</th>\n",
       "      <th>consumer_id</th>\n",
       "      <th>ratings</th>\n",
       "    </tr>\n",
       "  </thead>\n",
       "  <tbody>\n",
       "    <tr>\n",
       "      <th>59671</th>\n",
       "      <td>7506614456429888492</td>\n",
       "      <td>-6944500707172804068</td>\n",
       "      <td>1</td>\n",
       "    </tr>\n",
       "    <tr>\n",
       "      <th>59351</th>\n",
       "      <td>-8954346068661072425</td>\n",
       "      <td>434517017614495946</td>\n",
       "      <td>1</td>\n",
       "    </tr>\n",
       "    <tr>\n",
       "      <th>53682</th>\n",
       "      <td>886450434856305025</td>\n",
       "      <td>599868086167624974</td>\n",
       "      <td>1</td>\n",
       "    </tr>\n",
       "    <tr>\n",
       "      <th>9672</th>\n",
       "      <td>8589361101754366293</td>\n",
       "      <td>3622641762376806537</td>\n",
       "      <td>1</td>\n",
       "    </tr>\n",
       "    <tr>\n",
       "      <th>22501</th>\n",
       "      <td>-3027055440570405664</td>\n",
       "      <td>1908339160857512799</td>\n",
       "      <td>1</td>\n",
       "    </tr>\n",
       "  </tbody>\n",
       "</table>\n",
       "</div>"
      ],
      "text/plain": [
       "                   item_id          consumer_id  ratings\n",
       "59671  7506614456429888492 -6944500707172804068        1\n",
       "59351 -8954346068661072425   434517017614495946        1\n",
       "53682   886450434856305025   599868086167624974        1\n",
       "9672   8589361101754366293  3622641762376806537        1\n",
       "22501 -3027055440570405664  1908339160857512799        1"
      ]
     },
     "execution_count": 82,
     "metadata": {},
     "output_type": "execute_result"
    }
   ],
   "source": [
    "test.head()"
   ]
  },
  {
   "cell_type": "code",
   "execution_count": 83,
   "metadata": {},
   "outputs": [
    {
     "data": {
      "text/plain": [
       "item_id        2184\n",
       "consumer_id    1216\n",
       "ratings           5\n",
       "dtype: int64"
      ]
     },
     "execution_count": 83,
     "metadata": {},
     "output_type": "execute_result"
    }
   ],
   "source": [
    "test.nunique()"
   ]
  },
  {
   "cell_type": "code",
   "execution_count": 84,
   "metadata": {},
   "outputs": [],
   "source": [
    "data_matrix_test = test.pivot(index='consumer_id', columns='item_id', values='ratings').fillna(0)"
   ]
  },
  {
   "cell_type": "code",
   "execution_count": 85,
   "metadata": {},
   "outputs": [
    {
     "data": {
      "text/html": [
       "<div>\n",
       "<style scoped>\n",
       "    .dataframe tbody tr th:only-of-type {\n",
       "        vertical-align: middle;\n",
       "    }\n",
       "\n",
       "    .dataframe tbody tr th {\n",
       "        vertical-align: top;\n",
       "    }\n",
       "\n",
       "    .dataframe thead th {\n",
       "        text-align: right;\n",
       "    }\n",
       "</style>\n",
       "<table border=\"1\" class=\"dataframe\">\n",
       "  <thead>\n",
       "    <tr style=\"text-align: right;\">\n",
       "      <th>item_id</th>\n",
       "      <th>-9222795471790223670</th>\n",
       "      <th>-9216926795620865886</th>\n",
       "      <th>-9194572880052200111</th>\n",
       "      <th>-9192549002213406534</th>\n",
       "      <th>-9190737901804729417</th>\n",
       "      <th>-9189659052158407108</th>\n",
       "      <th>-9176143510534135851</th>\n",
       "      <th>-9166778629773133902</th>\n",
       "      <th>-9161596996229760398</th>\n",
       "      <th>-9160910454530522563</th>\n",
       "      <th>...</th>\n",
       "      <th>9191014301634017491</th>\n",
       "      <th>9207286802575546269</th>\n",
       "      <th>9208127165664287660</th>\n",
       "      <th>9209629151177723638</th>\n",
       "      <th>9209886322932807692</th>\n",
       "      <th>9213260650272029784</th>\n",
       "      <th>9215261273565326920</th>\n",
       "      <th>9217155070834564627</th>\n",
       "      <th>9220445660318725468</th>\n",
       "      <th>9222265156747237864</th>\n",
       "    </tr>\n",
       "    <tr>\n",
       "      <th>consumer_id</th>\n",
       "      <th></th>\n",
       "      <th></th>\n",
       "      <th></th>\n",
       "      <th></th>\n",
       "      <th></th>\n",
       "      <th></th>\n",
       "      <th></th>\n",
       "      <th></th>\n",
       "      <th></th>\n",
       "      <th></th>\n",
       "      <th></th>\n",
       "      <th></th>\n",
       "      <th></th>\n",
       "      <th></th>\n",
       "      <th></th>\n",
       "      <th></th>\n",
       "      <th></th>\n",
       "      <th></th>\n",
       "      <th></th>\n",
       "      <th></th>\n",
       "      <th></th>\n",
       "    </tr>\n",
       "  </thead>\n",
       "  <tbody>\n",
       "    <tr>\n",
       "      <th>-9223121837663643404</th>\n",
       "      <td>0.0</td>\n",
       "      <td>0.0</td>\n",
       "      <td>0.0</td>\n",
       "      <td>0.0</td>\n",
       "      <td>0.0</td>\n",
       "      <td>0.0</td>\n",
       "      <td>0.0</td>\n",
       "      <td>0.0</td>\n",
       "      <td>0.0</td>\n",
       "      <td>0.0</td>\n",
       "      <td>...</td>\n",
       "      <td>0.0</td>\n",
       "      <td>0.0</td>\n",
       "      <td>0.0</td>\n",
       "      <td>0.0</td>\n",
       "      <td>0.0</td>\n",
       "      <td>0.0</td>\n",
       "      <td>0.0</td>\n",
       "      <td>0.0</td>\n",
       "      <td>0.0</td>\n",
       "      <td>0.0</td>\n",
       "    </tr>\n",
       "    <tr>\n",
       "      <th>-9212075797126931087</th>\n",
       "      <td>0.0</td>\n",
       "      <td>0.0</td>\n",
       "      <td>0.0</td>\n",
       "      <td>0.0</td>\n",
       "      <td>0.0</td>\n",
       "      <td>0.0</td>\n",
       "      <td>0.0</td>\n",
       "      <td>0.0</td>\n",
       "      <td>0.0</td>\n",
       "      <td>0.0</td>\n",
       "      <td>...</td>\n",
       "      <td>0.0</td>\n",
       "      <td>0.0</td>\n",
       "      <td>0.0</td>\n",
       "      <td>0.0</td>\n",
       "      <td>0.0</td>\n",
       "      <td>0.0</td>\n",
       "      <td>0.0</td>\n",
       "      <td>0.0</td>\n",
       "      <td>0.0</td>\n",
       "      <td>0.0</td>\n",
       "    </tr>\n",
       "    <tr>\n",
       "      <th>-9207251133131336884</th>\n",
       "      <td>0.0</td>\n",
       "      <td>0.0</td>\n",
       "      <td>0.0</td>\n",
       "      <td>0.0</td>\n",
       "      <td>0.0</td>\n",
       "      <td>0.0</td>\n",
       "      <td>0.0</td>\n",
       "      <td>0.0</td>\n",
       "      <td>0.0</td>\n",
       "      <td>0.0</td>\n",
       "      <td>...</td>\n",
       "      <td>0.0</td>\n",
       "      <td>0.0</td>\n",
       "      <td>0.0</td>\n",
       "      <td>0.0</td>\n",
       "      <td>0.0</td>\n",
       "      <td>0.0</td>\n",
       "      <td>0.0</td>\n",
       "      <td>0.0</td>\n",
       "      <td>0.0</td>\n",
       "      <td>0.0</td>\n",
       "    </tr>\n",
       "    <tr>\n",
       "      <th>-9199575329909162940</th>\n",
       "      <td>0.0</td>\n",
       "      <td>0.0</td>\n",
       "      <td>0.0</td>\n",
       "      <td>0.0</td>\n",
       "      <td>0.0</td>\n",
       "      <td>0.0</td>\n",
       "      <td>0.0</td>\n",
       "      <td>0.0</td>\n",
       "      <td>0.0</td>\n",
       "      <td>0.0</td>\n",
       "      <td>...</td>\n",
       "      <td>0.0</td>\n",
       "      <td>0.0</td>\n",
       "      <td>0.0</td>\n",
       "      <td>0.0</td>\n",
       "      <td>0.0</td>\n",
       "      <td>0.0</td>\n",
       "      <td>0.0</td>\n",
       "      <td>0.0</td>\n",
       "      <td>0.0</td>\n",
       "      <td>0.0</td>\n",
       "    </tr>\n",
       "    <tr>\n",
       "      <th>-9196668942822132778</th>\n",
       "      <td>0.0</td>\n",
       "      <td>0.0</td>\n",
       "      <td>0.0</td>\n",
       "      <td>0.0</td>\n",
       "      <td>0.0</td>\n",
       "      <td>0.0</td>\n",
       "      <td>0.0</td>\n",
       "      <td>0.0</td>\n",
       "      <td>0.0</td>\n",
       "      <td>0.0</td>\n",
       "      <td>...</td>\n",
       "      <td>0.0</td>\n",
       "      <td>0.0</td>\n",
       "      <td>0.0</td>\n",
       "      <td>0.0</td>\n",
       "      <td>0.0</td>\n",
       "      <td>0.0</td>\n",
       "      <td>0.0</td>\n",
       "      <td>0.0</td>\n",
       "      <td>0.0</td>\n",
       "      <td>0.0</td>\n",
       "    </tr>\n",
       "  </tbody>\n",
       "</table>\n",
       "<p>5 rows × 2184 columns</p>\n",
       "</div>"
      ],
      "text/plain": [
       "item_id               -9222795471790223670  -9216926795620865886  \\\n",
       "consumer_id                                                        \n",
       "-9223121837663643404                   0.0                   0.0   \n",
       "-9212075797126931087                   0.0                   0.0   \n",
       "-9207251133131336884                   0.0                   0.0   \n",
       "-9199575329909162940                   0.0                   0.0   \n",
       "-9196668942822132778                   0.0                   0.0   \n",
       "\n",
       "item_id               -9194572880052200111  -9192549002213406534  \\\n",
       "consumer_id                                                        \n",
       "-9223121837663643404                   0.0                   0.0   \n",
       "-9212075797126931087                   0.0                   0.0   \n",
       "-9207251133131336884                   0.0                   0.0   \n",
       "-9199575329909162940                   0.0                   0.0   \n",
       "-9196668942822132778                   0.0                   0.0   \n",
       "\n",
       "item_id               -9190737901804729417  -9189659052158407108  \\\n",
       "consumer_id                                                        \n",
       "-9223121837663643404                   0.0                   0.0   \n",
       "-9212075797126931087                   0.0                   0.0   \n",
       "-9207251133131336884                   0.0                   0.0   \n",
       "-9199575329909162940                   0.0                   0.0   \n",
       "-9196668942822132778                   0.0                   0.0   \n",
       "\n",
       "item_id               -9176143510534135851  -9166778629773133902  \\\n",
       "consumer_id                                                        \n",
       "-9223121837663643404                   0.0                   0.0   \n",
       "-9212075797126931087                   0.0                   0.0   \n",
       "-9207251133131336884                   0.0                   0.0   \n",
       "-9199575329909162940                   0.0                   0.0   \n",
       "-9196668942822132778                   0.0                   0.0   \n",
       "\n",
       "item_id               -9161596996229760398  -9160910454530522563  ...  \\\n",
       "consumer_id                                                       ...   \n",
       "-9223121837663643404                   0.0                   0.0  ...   \n",
       "-9212075797126931087                   0.0                   0.0  ...   \n",
       "-9207251133131336884                   0.0                   0.0  ...   \n",
       "-9199575329909162940                   0.0                   0.0  ...   \n",
       "-9196668942822132778                   0.0                   0.0  ...   \n",
       "\n",
       "item_id                9191014301634017491   9207286802575546269  \\\n",
       "consumer_id                                                        \n",
       "-9223121837663643404                   0.0                   0.0   \n",
       "-9212075797126931087                   0.0                   0.0   \n",
       "-9207251133131336884                   0.0                   0.0   \n",
       "-9199575329909162940                   0.0                   0.0   \n",
       "-9196668942822132778                   0.0                   0.0   \n",
       "\n",
       "item_id                9208127165664287660   9209629151177723638  \\\n",
       "consumer_id                                                        \n",
       "-9223121837663643404                   0.0                   0.0   \n",
       "-9212075797126931087                   0.0                   0.0   \n",
       "-9207251133131336884                   0.0                   0.0   \n",
       "-9199575329909162940                   0.0                   0.0   \n",
       "-9196668942822132778                   0.0                   0.0   \n",
       "\n",
       "item_id                9209886322932807692   9213260650272029784  \\\n",
       "consumer_id                                                        \n",
       "-9223121837663643404                   0.0                   0.0   \n",
       "-9212075797126931087                   0.0                   0.0   \n",
       "-9207251133131336884                   0.0                   0.0   \n",
       "-9199575329909162940                   0.0                   0.0   \n",
       "-9196668942822132778                   0.0                   0.0   \n",
       "\n",
       "item_id                9215261273565326920   9217155070834564627  \\\n",
       "consumer_id                                                        \n",
       "-9223121837663643404                   0.0                   0.0   \n",
       "-9212075797126931087                   0.0                   0.0   \n",
       "-9207251133131336884                   0.0                   0.0   \n",
       "-9199575329909162940                   0.0                   0.0   \n",
       "-9196668942822132778                   0.0                   0.0   \n",
       "\n",
       "item_id                9220445660318725468   9222265156747237864  \n",
       "consumer_id                                                       \n",
       "-9223121837663643404                   0.0                   0.0  \n",
       "-9212075797126931087                   0.0                   0.0  \n",
       "-9207251133131336884                   0.0                   0.0  \n",
       "-9199575329909162940                   0.0                   0.0  \n",
       "-9196668942822132778                   0.0                   0.0  \n",
       "\n",
       "[5 rows x 2184 columns]"
      ]
     },
     "execution_count": 85,
     "metadata": {},
     "output_type": "execute_result"
    }
   ],
   "source": [
    "data_matrix_test.head()"
   ]
  },
  {
   "cell_type": "code",
   "execution_count": 86,
   "metadata": {},
   "outputs": [
    {
     "data": {
      "text/plain": [
       "(1216, 2184)"
      ]
     },
     "execution_count": 86,
     "metadata": {},
     "output_type": "execute_result"
    }
   ],
   "source": [
    "data_matrix_test.shape"
   ]
  },
  {
   "cell_type": "code",
   "execution_count": null,
   "metadata": {},
   "outputs": [],
   "source": []
  },
  {
   "cell_type": "code",
   "execution_count": 87,
   "metadata": {},
   "outputs": [],
   "source": [
    "test_user_similarity_df = user_similarity_df[user_similarity_df.index.isin(data_matrix_test.index)]"
   ]
  },
  {
   "cell_type": "code",
   "execution_count": 88,
   "metadata": {},
   "outputs": [],
   "source": [
    "test_user_similarity_df = test_user_similarity_df[test_user_similarity_df.index]"
   ]
  },
  {
   "cell_type": "code",
   "execution_count": 89,
   "metadata": {},
   "outputs": [
    {
     "data": {
      "text/plain": [
       "array([[0.69608772, 0.        , 0.14933299, ..., 0.03899064, 0.31359507,\n",
       "        0.02533383],\n",
       "       [0.06852531, 0.25      , 0.        , ..., 0.        , 0.09114976,\n",
       "        0.        ],\n",
       "       [0.08667842, 0.        , 0.2177782 , ..., 0.05      , 0.17841921,\n",
       "        0.03248706],\n",
       "       ...,\n",
       "       [0.08182269, 0.        , 0.0133786 , ..., 0.01299688, 0.14804579,\n",
       "        0.00844461],\n",
       "       [0.21406137, 0.        , 0.1355341 , ..., 0.        , 0.23304627,\n",
       "        0.01424652],\n",
       "       [0.22384382, 0.        , 0.29927107, ..., 0.00767869, 0.18883383,\n",
       "        0.04490244]])"
      ]
     },
     "execution_count": 89,
     "metadata": {},
     "output_type": "execute_result"
    }
   ],
   "source": [
    "test_user_predicted_ratings = np.dot(test_user_similarity_df, data_matrix_test)\n",
    "test_user_predicted_ratings"
   ]
  },
  {
   "cell_type": "markdown",
   "metadata": {},
   "source": [
    "# Evaluation User-User"
   ]
  },
  {
   "cell_type": "code",
   "execution_count": 90,
   "metadata": {},
   "outputs": [],
   "source": [
    "# lets find actual ratings given by user"
   ]
  },
  {
   "cell_type": "code",
   "execution_count": 91,
   "metadata": {},
   "outputs": [
    {
     "data": {
      "text/html": [
       "<div>\n",
       "<style scoped>\n",
       "    .dataframe tbody tr th:only-of-type {\n",
       "        vertical-align: middle;\n",
       "    }\n",
       "\n",
       "    .dataframe tbody tr th {\n",
       "        vertical-align: top;\n",
       "    }\n",
       "\n",
       "    .dataframe thead th {\n",
       "        text-align: right;\n",
       "    }\n",
       "</style>\n",
       "<table border=\"1\" class=\"dataframe\">\n",
       "  <thead>\n",
       "    <tr style=\"text-align: right;\">\n",
       "      <th></th>\n",
       "      <th>item_id</th>\n",
       "      <th>consumer_id</th>\n",
       "      <th>ratings</th>\n",
       "    </tr>\n",
       "  </thead>\n",
       "  <tbody>\n",
       "    <tr>\n",
       "      <th>59671</th>\n",
       "      <td>7506614456429888492</td>\n",
       "      <td>-6944500707172804068</td>\n",
       "      <td>1</td>\n",
       "    </tr>\n",
       "    <tr>\n",
       "      <th>59351</th>\n",
       "      <td>-8954346068661072425</td>\n",
       "      <td>434517017614495946</td>\n",
       "      <td>1</td>\n",
       "    </tr>\n",
       "    <tr>\n",
       "      <th>53682</th>\n",
       "      <td>886450434856305025</td>\n",
       "      <td>599868086167624974</td>\n",
       "      <td>1</td>\n",
       "    </tr>\n",
       "    <tr>\n",
       "      <th>9672</th>\n",
       "      <td>8589361101754366293</td>\n",
       "      <td>3622641762376806537</td>\n",
       "      <td>1</td>\n",
       "    </tr>\n",
       "    <tr>\n",
       "      <th>22501</th>\n",
       "      <td>-3027055440570405664</td>\n",
       "      <td>1908339160857512799</td>\n",
       "      <td>1</td>\n",
       "    </tr>\n",
       "    <tr>\n",
       "      <th>...</th>\n",
       "      <td>...</td>\n",
       "      <td>...</td>\n",
       "      <td>...</td>\n",
       "    </tr>\n",
       "    <tr>\n",
       "      <th>71346</th>\n",
       "      <td>-4029704725707465084</td>\n",
       "      <td>-7487897518634781969</td>\n",
       "      <td>1</td>\n",
       "    </tr>\n",
       "    <tr>\n",
       "      <th>57716</th>\n",
       "      <td>3467834993860080188</td>\n",
       "      <td>1097401149118884075</td>\n",
       "      <td>1</td>\n",
       "    </tr>\n",
       "    <tr>\n",
       "      <th>40685</th>\n",
       "      <td>-6504694273023533189</td>\n",
       "      <td>-4092545774372727680</td>\n",
       "      <td>1</td>\n",
       "    </tr>\n",
       "    <tr>\n",
       "      <th>35843</th>\n",
       "      <td>5827857898404399503</td>\n",
       "      <td>-1443636648652872475</td>\n",
       "      <td>1</td>\n",
       "    </tr>\n",
       "    <tr>\n",
       "      <th>49942</th>\n",
       "      <td>1432311799980176241</td>\n",
       "      <td>-1684566741313744330</td>\n",
       "      <td>1</td>\n",
       "    </tr>\n",
       "  </tbody>\n",
       "</table>\n",
       "<p>8142 rows × 3 columns</p>\n",
       "</div>"
      ],
      "text/plain": [
       "                   item_id          consumer_id  ratings\n",
       "59671  7506614456429888492 -6944500707172804068        1\n",
       "59351 -8954346068661072425   434517017614495946        1\n",
       "53682   886450434856305025   599868086167624974        1\n",
       "9672   8589361101754366293  3622641762376806537        1\n",
       "22501 -3027055440570405664  1908339160857512799        1\n",
       "...                    ...                  ...      ...\n",
       "71346 -4029704725707465084 -7487897518634781969        1\n",
       "57716  3467834993860080188  1097401149118884075        1\n",
       "40685 -6504694273023533189 -4092545774372727680        1\n",
       "35843  5827857898404399503 -1443636648652872475        1\n",
       "49942  1432311799980176241 -1684566741313744330        1\n",
       "\n",
       "[8142 rows x 3 columns]"
      ]
     },
     "execution_count": 91,
     "metadata": {},
     "output_type": "execute_result"
    }
   ],
   "source": [
    "test_copy"
   ]
  },
  {
   "cell_type": "code",
   "execution_count": 92,
   "metadata": {},
   "outputs": [],
   "source": [
    "dummy_test = test.copy()\n",
    "\n",
    "dummy_test['ratings'] = dummy_test['ratings'].apply(lambda x: 1 if x>=1 else 0)\n",
    "\n",
    "dummy_test = dummy_test.pivot(index='consumer_id', columns='item_id', values='ratings').fillna(0)"
   ]
  },
  {
   "cell_type": "code",
   "execution_count": 93,
   "metadata": {},
   "outputs": [],
   "source": [
    "# test_user_predicted_ratings.loc[434517017614495946][-8954346068661072425]"
   ]
  },
  {
   "cell_type": "code",
   "execution_count": 94,
   "metadata": {},
   "outputs": [],
   "source": [
    "# test_user_predicted_ratings.loc[-9223121837663643404][7506614456429888492]"
   ]
  },
  {
   "cell_type": "code",
   "execution_count": 95,
   "metadata": {},
   "outputs": [],
   "source": [
    "# test[test.item_id == 7506614456429888492]"
   ]
  },
  {
   "cell_type": "code",
   "execution_count": 96,
   "metadata": {},
   "outputs": [
    {
     "data": {
      "text/html": [
       "<div>\n",
       "<style scoped>\n",
       "    .dataframe tbody tr th:only-of-type {\n",
       "        vertical-align: middle;\n",
       "    }\n",
       "\n",
       "    .dataframe tbody tr th {\n",
       "        vertical-align: top;\n",
       "    }\n",
       "\n",
       "    .dataframe thead th {\n",
       "        text-align: right;\n",
       "    }\n",
       "</style>\n",
       "<table border=\"1\" class=\"dataframe\">\n",
       "  <thead>\n",
       "    <tr style=\"text-align: right;\">\n",
       "      <th>item_id</th>\n",
       "      <th>-9222795471790223670</th>\n",
       "      <th>-9216926795620865886</th>\n",
       "      <th>-9194572880052200111</th>\n",
       "      <th>-9192549002213406534</th>\n",
       "      <th>-9190737901804729417</th>\n",
       "      <th>-9189659052158407108</th>\n",
       "      <th>-9176143510534135851</th>\n",
       "      <th>-9166778629773133902</th>\n",
       "      <th>-9161596996229760398</th>\n",
       "      <th>-9160910454530522563</th>\n",
       "      <th>...</th>\n",
       "      <th>9191014301634017491</th>\n",
       "      <th>9207286802575546269</th>\n",
       "      <th>9208127165664287660</th>\n",
       "      <th>9209629151177723638</th>\n",
       "      <th>9209886322932807692</th>\n",
       "      <th>9213260650272029784</th>\n",
       "      <th>9215261273565326920</th>\n",
       "      <th>9217155070834564627</th>\n",
       "      <th>9220445660318725468</th>\n",
       "      <th>9222265156747237864</th>\n",
       "    </tr>\n",
       "    <tr>\n",
       "      <th>consumer_id</th>\n",
       "      <th></th>\n",
       "      <th></th>\n",
       "      <th></th>\n",
       "      <th></th>\n",
       "      <th></th>\n",
       "      <th></th>\n",
       "      <th></th>\n",
       "      <th></th>\n",
       "      <th></th>\n",
       "      <th></th>\n",
       "      <th></th>\n",
       "      <th></th>\n",
       "      <th></th>\n",
       "      <th></th>\n",
       "      <th></th>\n",
       "      <th></th>\n",
       "      <th></th>\n",
       "      <th></th>\n",
       "      <th></th>\n",
       "      <th></th>\n",
       "      <th></th>\n",
       "    </tr>\n",
       "  </thead>\n",
       "  <tbody>\n",
       "    <tr>\n",
       "      <th>-9223121837663643404</th>\n",
       "      <td>0.0</td>\n",
       "      <td>0.0</td>\n",
       "      <td>0.0</td>\n",
       "      <td>0.0</td>\n",
       "      <td>0.0</td>\n",
       "      <td>0.0</td>\n",
       "      <td>0.0</td>\n",
       "      <td>0.0</td>\n",
       "      <td>0.0</td>\n",
       "      <td>0.0</td>\n",
       "      <td>...</td>\n",
       "      <td>0.0</td>\n",
       "      <td>0.0</td>\n",
       "      <td>0.0</td>\n",
       "      <td>0.0</td>\n",
       "      <td>0.0</td>\n",
       "      <td>0.0</td>\n",
       "      <td>0.0</td>\n",
       "      <td>0.0</td>\n",
       "      <td>0.0</td>\n",
       "      <td>0.0</td>\n",
       "    </tr>\n",
       "    <tr>\n",
       "      <th>-9212075797126931087</th>\n",
       "      <td>0.0</td>\n",
       "      <td>0.0</td>\n",
       "      <td>0.0</td>\n",
       "      <td>0.0</td>\n",
       "      <td>0.0</td>\n",
       "      <td>0.0</td>\n",
       "      <td>0.0</td>\n",
       "      <td>0.0</td>\n",
       "      <td>0.0</td>\n",
       "      <td>0.0</td>\n",
       "      <td>...</td>\n",
       "      <td>0.0</td>\n",
       "      <td>0.0</td>\n",
       "      <td>0.0</td>\n",
       "      <td>0.0</td>\n",
       "      <td>0.0</td>\n",
       "      <td>0.0</td>\n",
       "      <td>0.0</td>\n",
       "      <td>0.0</td>\n",
       "      <td>0.0</td>\n",
       "      <td>0.0</td>\n",
       "    </tr>\n",
       "    <tr>\n",
       "      <th>-9207251133131336884</th>\n",
       "      <td>0.0</td>\n",
       "      <td>0.0</td>\n",
       "      <td>0.0</td>\n",
       "      <td>0.0</td>\n",
       "      <td>0.0</td>\n",
       "      <td>0.0</td>\n",
       "      <td>0.0</td>\n",
       "      <td>0.0</td>\n",
       "      <td>0.0</td>\n",
       "      <td>0.0</td>\n",
       "      <td>...</td>\n",
       "      <td>0.0</td>\n",
       "      <td>0.0</td>\n",
       "      <td>0.0</td>\n",
       "      <td>0.0</td>\n",
       "      <td>0.0</td>\n",
       "      <td>0.0</td>\n",
       "      <td>0.0</td>\n",
       "      <td>0.0</td>\n",
       "      <td>0.0</td>\n",
       "      <td>0.0</td>\n",
       "    </tr>\n",
       "    <tr>\n",
       "      <th>-9199575329909162940</th>\n",
       "      <td>0.0</td>\n",
       "      <td>0.0</td>\n",
       "      <td>0.0</td>\n",
       "      <td>0.0</td>\n",
       "      <td>0.0</td>\n",
       "      <td>0.0</td>\n",
       "      <td>0.0</td>\n",
       "      <td>0.0</td>\n",
       "      <td>0.0</td>\n",
       "      <td>0.0</td>\n",
       "      <td>...</td>\n",
       "      <td>0.0</td>\n",
       "      <td>0.0</td>\n",
       "      <td>0.0</td>\n",
       "      <td>0.0</td>\n",
       "      <td>0.0</td>\n",
       "      <td>0.0</td>\n",
       "      <td>0.0</td>\n",
       "      <td>0.0</td>\n",
       "      <td>0.0</td>\n",
       "      <td>0.0</td>\n",
       "    </tr>\n",
       "    <tr>\n",
       "      <th>-9196668942822132778</th>\n",
       "      <td>0.0</td>\n",
       "      <td>0.0</td>\n",
       "      <td>0.0</td>\n",
       "      <td>0.0</td>\n",
       "      <td>0.0</td>\n",
       "      <td>0.0</td>\n",
       "      <td>0.0</td>\n",
       "      <td>0.0</td>\n",
       "      <td>0.0</td>\n",
       "      <td>0.0</td>\n",
       "      <td>...</td>\n",
       "      <td>0.0</td>\n",
       "      <td>0.0</td>\n",
       "      <td>0.0</td>\n",
       "      <td>0.0</td>\n",
       "      <td>0.0</td>\n",
       "      <td>0.0</td>\n",
       "      <td>0.0</td>\n",
       "      <td>0.0</td>\n",
       "      <td>0.0</td>\n",
       "      <td>0.0</td>\n",
       "    </tr>\n",
       "    <tr>\n",
       "      <th>...</th>\n",
       "      <td>...</td>\n",
       "      <td>...</td>\n",
       "      <td>...</td>\n",
       "      <td>...</td>\n",
       "      <td>...</td>\n",
       "      <td>...</td>\n",
       "      <td>...</td>\n",
       "      <td>...</td>\n",
       "      <td>...</td>\n",
       "      <td>...</td>\n",
       "      <td>...</td>\n",
       "      <td>...</td>\n",
       "      <td>...</td>\n",
       "      <td>...</td>\n",
       "      <td>...</td>\n",
       "      <td>...</td>\n",
       "      <td>...</td>\n",
       "      <td>...</td>\n",
       "      <td>...</td>\n",
       "      <td>...</td>\n",
       "      <td>...</td>\n",
       "    </tr>\n",
       "    <tr>\n",
       "      <th>9165571805999894845</th>\n",
       "      <td>0.0</td>\n",
       "      <td>0.0</td>\n",
       "      <td>0.0</td>\n",
       "      <td>0.0</td>\n",
       "      <td>0.0</td>\n",
       "      <td>0.0</td>\n",
       "      <td>0.0</td>\n",
       "      <td>0.0</td>\n",
       "      <td>0.0</td>\n",
       "      <td>0.0</td>\n",
       "      <td>...</td>\n",
       "      <td>0.0</td>\n",
       "      <td>0.0</td>\n",
       "      <td>0.0</td>\n",
       "      <td>0.0</td>\n",
       "      <td>0.0</td>\n",
       "      <td>0.0</td>\n",
       "      <td>0.0</td>\n",
       "      <td>0.0</td>\n",
       "      <td>0.0</td>\n",
       "      <td>0.0</td>\n",
       "    </tr>\n",
       "    <tr>\n",
       "      <th>9187866633451383747</th>\n",
       "      <td>0.0</td>\n",
       "      <td>0.0</td>\n",
       "      <td>0.0</td>\n",
       "      <td>0.0</td>\n",
       "      <td>0.0</td>\n",
       "      <td>0.0</td>\n",
       "      <td>0.0</td>\n",
       "      <td>0.0</td>\n",
       "      <td>0.0</td>\n",
       "      <td>0.0</td>\n",
       "      <td>...</td>\n",
       "      <td>0.0</td>\n",
       "      <td>0.0</td>\n",
       "      <td>0.0</td>\n",
       "      <td>0.0</td>\n",
       "      <td>0.0</td>\n",
       "      <td>0.0</td>\n",
       "      <td>0.0</td>\n",
       "      <td>0.0</td>\n",
       "      <td>0.0</td>\n",
       "      <td>0.0</td>\n",
       "    </tr>\n",
       "    <tr>\n",
       "      <th>9191849144618614467</th>\n",
       "      <td>0.0</td>\n",
       "      <td>0.0</td>\n",
       "      <td>0.0</td>\n",
       "      <td>0.0</td>\n",
       "      <td>0.0</td>\n",
       "      <td>0.0</td>\n",
       "      <td>0.0</td>\n",
       "      <td>0.0</td>\n",
       "      <td>0.0</td>\n",
       "      <td>0.0</td>\n",
       "      <td>...</td>\n",
       "      <td>0.0</td>\n",
       "      <td>0.0</td>\n",
       "      <td>0.0</td>\n",
       "      <td>0.0</td>\n",
       "      <td>0.0</td>\n",
       "      <td>0.0</td>\n",
       "      <td>0.0</td>\n",
       "      <td>0.0</td>\n",
       "      <td>0.0</td>\n",
       "      <td>0.0</td>\n",
       "    </tr>\n",
       "    <tr>\n",
       "      <th>9199170757466086545</th>\n",
       "      <td>0.0</td>\n",
       "      <td>0.0</td>\n",
       "      <td>0.0</td>\n",
       "      <td>0.0</td>\n",
       "      <td>0.0</td>\n",
       "      <td>0.0</td>\n",
       "      <td>0.0</td>\n",
       "      <td>0.0</td>\n",
       "      <td>0.0</td>\n",
       "      <td>0.0</td>\n",
       "      <td>...</td>\n",
       "      <td>0.0</td>\n",
       "      <td>0.0</td>\n",
       "      <td>0.0</td>\n",
       "      <td>0.0</td>\n",
       "      <td>0.0</td>\n",
       "      <td>0.0</td>\n",
       "      <td>0.0</td>\n",
       "      <td>0.0</td>\n",
       "      <td>0.0</td>\n",
       "      <td>0.0</td>\n",
       "    </tr>\n",
       "    <tr>\n",
       "      <th>9210530975708218054</th>\n",
       "      <td>0.0</td>\n",
       "      <td>0.0</td>\n",
       "      <td>0.0</td>\n",
       "      <td>0.0</td>\n",
       "      <td>0.0</td>\n",
       "      <td>0.0</td>\n",
       "      <td>0.0</td>\n",
       "      <td>0.0</td>\n",
       "      <td>0.0</td>\n",
       "      <td>0.0</td>\n",
       "      <td>...</td>\n",
       "      <td>0.0</td>\n",
       "      <td>0.0</td>\n",
       "      <td>0.0</td>\n",
       "      <td>0.0</td>\n",
       "      <td>0.0</td>\n",
       "      <td>0.0</td>\n",
       "      <td>0.0</td>\n",
       "      <td>0.0</td>\n",
       "      <td>0.0</td>\n",
       "      <td>0.0</td>\n",
       "    </tr>\n",
       "  </tbody>\n",
       "</table>\n",
       "<p>1216 rows × 2184 columns</p>\n",
       "</div>"
      ],
      "text/plain": [
       "item_id               -9222795471790223670  -9216926795620865886  \\\n",
       "consumer_id                                                        \n",
       "-9223121837663643404                   0.0                   0.0   \n",
       "-9212075797126931087                   0.0                   0.0   \n",
       "-9207251133131336884                   0.0                   0.0   \n",
       "-9199575329909162940                   0.0                   0.0   \n",
       "-9196668942822132778                   0.0                   0.0   \n",
       "...                                    ...                   ...   \n",
       " 9165571805999894845                   0.0                   0.0   \n",
       " 9187866633451383747                   0.0                   0.0   \n",
       " 9191849144618614467                   0.0                   0.0   \n",
       " 9199170757466086545                   0.0                   0.0   \n",
       " 9210530975708218054                   0.0                   0.0   \n",
       "\n",
       "item_id               -9194572880052200111  -9192549002213406534  \\\n",
       "consumer_id                                                        \n",
       "-9223121837663643404                   0.0                   0.0   \n",
       "-9212075797126931087                   0.0                   0.0   \n",
       "-9207251133131336884                   0.0                   0.0   \n",
       "-9199575329909162940                   0.0                   0.0   \n",
       "-9196668942822132778                   0.0                   0.0   \n",
       "...                                    ...                   ...   \n",
       " 9165571805999894845                   0.0                   0.0   \n",
       " 9187866633451383747                   0.0                   0.0   \n",
       " 9191849144618614467                   0.0                   0.0   \n",
       " 9199170757466086545                   0.0                   0.0   \n",
       " 9210530975708218054                   0.0                   0.0   \n",
       "\n",
       "item_id               -9190737901804729417  -9189659052158407108  \\\n",
       "consumer_id                                                        \n",
       "-9223121837663643404                   0.0                   0.0   \n",
       "-9212075797126931087                   0.0                   0.0   \n",
       "-9207251133131336884                   0.0                   0.0   \n",
       "-9199575329909162940                   0.0                   0.0   \n",
       "-9196668942822132778                   0.0                   0.0   \n",
       "...                                    ...                   ...   \n",
       " 9165571805999894845                   0.0                   0.0   \n",
       " 9187866633451383747                   0.0                   0.0   \n",
       " 9191849144618614467                   0.0                   0.0   \n",
       " 9199170757466086545                   0.0                   0.0   \n",
       " 9210530975708218054                   0.0                   0.0   \n",
       "\n",
       "item_id               -9176143510534135851  -9166778629773133902  \\\n",
       "consumer_id                                                        \n",
       "-9223121837663643404                   0.0                   0.0   \n",
       "-9212075797126931087                   0.0                   0.0   \n",
       "-9207251133131336884                   0.0                   0.0   \n",
       "-9199575329909162940                   0.0                   0.0   \n",
       "-9196668942822132778                   0.0                   0.0   \n",
       "...                                    ...                   ...   \n",
       " 9165571805999894845                   0.0                   0.0   \n",
       " 9187866633451383747                   0.0                   0.0   \n",
       " 9191849144618614467                   0.0                   0.0   \n",
       " 9199170757466086545                   0.0                   0.0   \n",
       " 9210530975708218054                   0.0                   0.0   \n",
       "\n",
       "item_id               -9161596996229760398  -9160910454530522563  ...  \\\n",
       "consumer_id                                                       ...   \n",
       "-9223121837663643404                   0.0                   0.0  ...   \n",
       "-9212075797126931087                   0.0                   0.0  ...   \n",
       "-9207251133131336884                   0.0                   0.0  ...   \n",
       "-9199575329909162940                   0.0                   0.0  ...   \n",
       "-9196668942822132778                   0.0                   0.0  ...   \n",
       "...                                    ...                   ...  ...   \n",
       " 9165571805999894845                   0.0                   0.0  ...   \n",
       " 9187866633451383747                   0.0                   0.0  ...   \n",
       " 9191849144618614467                   0.0                   0.0  ...   \n",
       " 9199170757466086545                   0.0                   0.0  ...   \n",
       " 9210530975708218054                   0.0                   0.0  ...   \n",
       "\n",
       "item_id                9191014301634017491   9207286802575546269  \\\n",
       "consumer_id                                                        \n",
       "-9223121837663643404                   0.0                   0.0   \n",
       "-9212075797126931087                   0.0                   0.0   \n",
       "-9207251133131336884                   0.0                   0.0   \n",
       "-9199575329909162940                   0.0                   0.0   \n",
       "-9196668942822132778                   0.0                   0.0   \n",
       "...                                    ...                   ...   \n",
       " 9165571805999894845                   0.0                   0.0   \n",
       " 9187866633451383747                   0.0                   0.0   \n",
       " 9191849144618614467                   0.0                   0.0   \n",
       " 9199170757466086545                   0.0                   0.0   \n",
       " 9210530975708218054                   0.0                   0.0   \n",
       "\n",
       "item_id                9208127165664287660   9209629151177723638  \\\n",
       "consumer_id                                                        \n",
       "-9223121837663643404                   0.0                   0.0   \n",
       "-9212075797126931087                   0.0                   0.0   \n",
       "-9207251133131336884                   0.0                   0.0   \n",
       "-9199575329909162940                   0.0                   0.0   \n",
       "-9196668942822132778                   0.0                   0.0   \n",
       "...                                    ...                   ...   \n",
       " 9165571805999894845                   0.0                   0.0   \n",
       " 9187866633451383747                   0.0                   0.0   \n",
       " 9191849144618614467                   0.0                   0.0   \n",
       " 9199170757466086545                   0.0                   0.0   \n",
       " 9210530975708218054                   0.0                   0.0   \n",
       "\n",
       "item_id                9209886322932807692   9213260650272029784  \\\n",
       "consumer_id                                                        \n",
       "-9223121837663643404                   0.0                   0.0   \n",
       "-9212075797126931087                   0.0                   0.0   \n",
       "-9207251133131336884                   0.0                   0.0   \n",
       "-9199575329909162940                   0.0                   0.0   \n",
       "-9196668942822132778                   0.0                   0.0   \n",
       "...                                    ...                   ...   \n",
       " 9165571805999894845                   0.0                   0.0   \n",
       " 9187866633451383747                   0.0                   0.0   \n",
       " 9191849144618614467                   0.0                   0.0   \n",
       " 9199170757466086545                   0.0                   0.0   \n",
       " 9210530975708218054                   0.0                   0.0   \n",
       "\n",
       "item_id                9215261273565326920   9217155070834564627  \\\n",
       "consumer_id                                                        \n",
       "-9223121837663643404                   0.0                   0.0   \n",
       "-9212075797126931087                   0.0                   0.0   \n",
       "-9207251133131336884                   0.0                   0.0   \n",
       "-9199575329909162940                   0.0                   0.0   \n",
       "-9196668942822132778                   0.0                   0.0   \n",
       "...                                    ...                   ...   \n",
       " 9165571805999894845                   0.0                   0.0   \n",
       " 9187866633451383747                   0.0                   0.0   \n",
       " 9191849144618614467                   0.0                   0.0   \n",
       " 9199170757466086545                   0.0                   0.0   \n",
       " 9210530975708218054                   0.0                   0.0   \n",
       "\n",
       "item_id                9220445660318725468   9222265156747237864  \n",
       "consumer_id                                                       \n",
       "-9223121837663643404                   0.0                   0.0  \n",
       "-9212075797126931087                   0.0                   0.0  \n",
       "-9207251133131336884                   0.0                   0.0  \n",
       "-9199575329909162940                   0.0                   0.0  \n",
       "-9196668942822132778                   0.0                   0.0  \n",
       "...                                    ...                   ...  \n",
       " 9165571805999894845                   0.0                   0.0  \n",
       " 9187866633451383747                   0.0                   0.0  \n",
       " 9191849144618614467                   0.0                   0.0  \n",
       " 9199170757466086545                   0.0                   0.0  \n",
       " 9210530975708218054                   0.0                   0.0  \n",
       "\n",
       "[1216 rows x 2184 columns]"
      ]
     },
     "execution_count": 96,
     "metadata": {},
     "output_type": "execute_result"
    }
   ],
   "source": [
    "dummy_test"
   ]
  },
  {
   "cell_type": "code",
   "execution_count": 97,
   "metadata": {},
   "outputs": [],
   "source": [
    "test_user_predicted_ratings = np.multiply(test_user_predicted_ratings,dummy_test)"
   ]
  },
  {
   "cell_type": "code",
   "execution_count": 98,
   "metadata": {},
   "outputs": [
    {
     "data": {
      "text/html": [
       "<div>\n",
       "<style scoped>\n",
       "    .dataframe tbody tr th:only-of-type {\n",
       "        vertical-align: middle;\n",
       "    }\n",
       "\n",
       "    .dataframe tbody tr th {\n",
       "        vertical-align: top;\n",
       "    }\n",
       "\n",
       "    .dataframe thead th {\n",
       "        text-align: right;\n",
       "    }\n",
       "</style>\n",
       "<table border=\"1\" class=\"dataframe\">\n",
       "  <thead>\n",
       "    <tr style=\"text-align: right;\">\n",
       "      <th>item_id</th>\n",
       "      <th>-9222795471790223670</th>\n",
       "      <th>-9216926795620865886</th>\n",
       "      <th>-9194572880052200111</th>\n",
       "      <th>-9192549002213406534</th>\n",
       "      <th>-9190737901804729417</th>\n",
       "      <th>-9189659052158407108</th>\n",
       "      <th>-9176143510534135851</th>\n",
       "      <th>-9166778629773133902</th>\n",
       "      <th>-9161596996229760398</th>\n",
       "      <th>-9160910454530522563</th>\n",
       "      <th>...</th>\n",
       "      <th>9191014301634017491</th>\n",
       "      <th>9207286802575546269</th>\n",
       "      <th>9208127165664287660</th>\n",
       "      <th>9209629151177723638</th>\n",
       "      <th>9209886322932807692</th>\n",
       "      <th>9213260650272029784</th>\n",
       "      <th>9215261273565326920</th>\n",
       "      <th>9217155070834564627</th>\n",
       "      <th>9220445660318725468</th>\n",
       "      <th>9222265156747237864</th>\n",
       "    </tr>\n",
       "    <tr>\n",
       "      <th>consumer_id</th>\n",
       "      <th></th>\n",
       "      <th></th>\n",
       "      <th></th>\n",
       "      <th></th>\n",
       "      <th></th>\n",
       "      <th></th>\n",
       "      <th></th>\n",
       "      <th></th>\n",
       "      <th></th>\n",
       "      <th></th>\n",
       "      <th></th>\n",
       "      <th></th>\n",
       "      <th></th>\n",
       "      <th></th>\n",
       "      <th></th>\n",
       "      <th></th>\n",
       "      <th></th>\n",
       "      <th></th>\n",
       "      <th></th>\n",
       "      <th></th>\n",
       "      <th></th>\n",
       "    </tr>\n",
       "  </thead>\n",
       "  <tbody>\n",
       "    <tr>\n",
       "      <th>-9223121837663643404</th>\n",
       "      <td>0.0</td>\n",
       "      <td>0.0</td>\n",
       "      <td>0.0</td>\n",
       "      <td>0.0</td>\n",
       "      <td>0.0</td>\n",
       "      <td>0.0</td>\n",
       "      <td>0.0</td>\n",
       "      <td>0.0</td>\n",
       "      <td>0.0</td>\n",
       "      <td>0.0</td>\n",
       "      <td>...</td>\n",
       "      <td>0.0</td>\n",
       "      <td>0.0</td>\n",
       "      <td>0.0</td>\n",
       "      <td>0.0</td>\n",
       "      <td>0.0</td>\n",
       "      <td>0.0</td>\n",
       "      <td>0.0</td>\n",
       "      <td>0.0</td>\n",
       "      <td>0.0</td>\n",
       "      <td>0.0</td>\n",
       "    </tr>\n",
       "    <tr>\n",
       "      <th>-9212075797126931087</th>\n",
       "      <td>0.0</td>\n",
       "      <td>0.0</td>\n",
       "      <td>0.0</td>\n",
       "      <td>0.0</td>\n",
       "      <td>0.0</td>\n",
       "      <td>0.0</td>\n",
       "      <td>0.0</td>\n",
       "      <td>0.0</td>\n",
       "      <td>0.0</td>\n",
       "      <td>0.0</td>\n",
       "      <td>...</td>\n",
       "      <td>0.0</td>\n",
       "      <td>0.0</td>\n",
       "      <td>0.0</td>\n",
       "      <td>0.0</td>\n",
       "      <td>0.0</td>\n",
       "      <td>0.0</td>\n",
       "      <td>0.0</td>\n",
       "      <td>0.0</td>\n",
       "      <td>0.0</td>\n",
       "      <td>0.0</td>\n",
       "    </tr>\n",
       "    <tr>\n",
       "      <th>-9207251133131336884</th>\n",
       "      <td>0.0</td>\n",
       "      <td>0.0</td>\n",
       "      <td>0.0</td>\n",
       "      <td>0.0</td>\n",
       "      <td>0.0</td>\n",
       "      <td>0.0</td>\n",
       "      <td>0.0</td>\n",
       "      <td>0.0</td>\n",
       "      <td>0.0</td>\n",
       "      <td>0.0</td>\n",
       "      <td>...</td>\n",
       "      <td>0.0</td>\n",
       "      <td>0.0</td>\n",
       "      <td>0.0</td>\n",
       "      <td>0.0</td>\n",
       "      <td>0.0</td>\n",
       "      <td>0.0</td>\n",
       "      <td>0.0</td>\n",
       "      <td>0.0</td>\n",
       "      <td>0.0</td>\n",
       "      <td>0.0</td>\n",
       "    </tr>\n",
       "  </tbody>\n",
       "</table>\n",
       "<p>3 rows × 2184 columns</p>\n",
       "</div>"
      ],
      "text/plain": [
       "item_id               -9222795471790223670  -9216926795620865886  \\\n",
       "consumer_id                                                        \n",
       "-9223121837663643404                   0.0                   0.0   \n",
       "-9212075797126931087                   0.0                   0.0   \n",
       "-9207251133131336884                   0.0                   0.0   \n",
       "\n",
       "item_id               -9194572880052200111  -9192549002213406534  \\\n",
       "consumer_id                                                        \n",
       "-9223121837663643404                   0.0                   0.0   \n",
       "-9212075797126931087                   0.0                   0.0   \n",
       "-9207251133131336884                   0.0                   0.0   \n",
       "\n",
       "item_id               -9190737901804729417  -9189659052158407108  \\\n",
       "consumer_id                                                        \n",
       "-9223121837663643404                   0.0                   0.0   \n",
       "-9212075797126931087                   0.0                   0.0   \n",
       "-9207251133131336884                   0.0                   0.0   \n",
       "\n",
       "item_id               -9176143510534135851  -9166778629773133902  \\\n",
       "consumer_id                                                        \n",
       "-9223121837663643404                   0.0                   0.0   \n",
       "-9212075797126931087                   0.0                   0.0   \n",
       "-9207251133131336884                   0.0                   0.0   \n",
       "\n",
       "item_id               -9161596996229760398  -9160910454530522563  ...  \\\n",
       "consumer_id                                                       ...   \n",
       "-9223121837663643404                   0.0                   0.0  ...   \n",
       "-9212075797126931087                   0.0                   0.0  ...   \n",
       "-9207251133131336884                   0.0                   0.0  ...   \n",
       "\n",
       "item_id                9191014301634017491   9207286802575546269  \\\n",
       "consumer_id                                                        \n",
       "-9223121837663643404                   0.0                   0.0   \n",
       "-9212075797126931087                   0.0                   0.0   \n",
       "-9207251133131336884                   0.0                   0.0   \n",
       "\n",
       "item_id                9208127165664287660   9209629151177723638  \\\n",
       "consumer_id                                                        \n",
       "-9223121837663643404                   0.0                   0.0   \n",
       "-9212075797126931087                   0.0                   0.0   \n",
       "-9207251133131336884                   0.0                   0.0   \n",
       "\n",
       "item_id                9209886322932807692   9213260650272029784  \\\n",
       "consumer_id                                                        \n",
       "-9223121837663643404                   0.0                   0.0   \n",
       "-9212075797126931087                   0.0                   0.0   \n",
       "-9207251133131336884                   0.0                   0.0   \n",
       "\n",
       "item_id                9215261273565326920   9217155070834564627  \\\n",
       "consumer_id                                                        \n",
       "-9223121837663643404                   0.0                   0.0   \n",
       "-9212075797126931087                   0.0                   0.0   \n",
       "-9207251133131336884                   0.0                   0.0   \n",
       "\n",
       "item_id                9220445660318725468   9222265156747237864  \n",
       "consumer_id                                                       \n",
       "-9223121837663643404                   0.0                   0.0  \n",
       "-9212075797126931087                   0.0                   0.0  \n",
       "-9207251133131336884                   0.0                   0.0  \n",
       "\n",
       "[3 rows x 2184 columns]"
      ]
     },
     "execution_count": 98,
     "metadata": {},
     "output_type": "execute_result"
    }
   ],
   "source": [
    "test_user_predicted_ratings.head(3)"
   ]
  },
  {
   "cell_type": "code",
   "execution_count": 99,
   "metadata": {},
   "outputs": [
    {
     "data": {
      "text/html": [
       "<div>\n",
       "<style scoped>\n",
       "    .dataframe tbody tr th:only-of-type {\n",
       "        vertical-align: middle;\n",
       "    }\n",
       "\n",
       "    .dataframe tbody tr th {\n",
       "        vertical-align: top;\n",
       "    }\n",
       "\n",
       "    .dataframe thead th {\n",
       "        text-align: right;\n",
       "    }\n",
       "</style>\n",
       "<table border=\"1\" class=\"dataframe\">\n",
       "  <thead>\n",
       "    <tr style=\"text-align: right;\">\n",
       "      <th>item_id</th>\n",
       "      <th>-9222795471790223670</th>\n",
       "      <th>-9216926795620865886</th>\n",
       "      <th>-9194572880052200111</th>\n",
       "      <th>-9192549002213406534</th>\n",
       "      <th>-9190737901804729417</th>\n",
       "      <th>-9189659052158407108</th>\n",
       "      <th>-9176143510534135851</th>\n",
       "      <th>-9166778629773133902</th>\n",
       "      <th>-9161596996229760398</th>\n",
       "      <th>-9160910454530522563</th>\n",
       "      <th>...</th>\n",
       "      <th>9191014301634017491</th>\n",
       "      <th>9207286802575546269</th>\n",
       "      <th>9208127165664287660</th>\n",
       "      <th>9209629151177723638</th>\n",
       "      <th>9209886322932807692</th>\n",
       "      <th>9213260650272029784</th>\n",
       "      <th>9215261273565326920</th>\n",
       "      <th>9217155070834564627</th>\n",
       "      <th>9220445660318725468</th>\n",
       "      <th>9222265156747237864</th>\n",
       "    </tr>\n",
       "    <tr>\n",
       "      <th>consumer_id</th>\n",
       "      <th></th>\n",
       "      <th></th>\n",
       "      <th></th>\n",
       "      <th></th>\n",
       "      <th></th>\n",
       "      <th></th>\n",
       "      <th></th>\n",
       "      <th></th>\n",
       "      <th></th>\n",
       "      <th></th>\n",
       "      <th></th>\n",
       "      <th></th>\n",
       "      <th></th>\n",
       "      <th></th>\n",
       "      <th></th>\n",
       "      <th></th>\n",
       "      <th></th>\n",
       "      <th></th>\n",
       "      <th></th>\n",
       "      <th></th>\n",
       "      <th></th>\n",
       "    </tr>\n",
       "  </thead>\n",
       "  <tbody>\n",
       "    <tr>\n",
       "      <th>-9223121837663643404</th>\n",
       "      <td>0.0</td>\n",
       "      <td>0.0</td>\n",
       "      <td>0.0</td>\n",
       "      <td>0.0</td>\n",
       "      <td>0.0</td>\n",
       "      <td>0.0</td>\n",
       "      <td>0.0</td>\n",
       "      <td>0.0</td>\n",
       "      <td>0.0</td>\n",
       "      <td>0.0</td>\n",
       "      <td>...</td>\n",
       "      <td>0.0</td>\n",
       "      <td>0.0</td>\n",
       "      <td>0.0</td>\n",
       "      <td>0.0</td>\n",
       "      <td>0.0</td>\n",
       "      <td>0.0</td>\n",
       "      <td>0.0</td>\n",
       "      <td>0.0</td>\n",
       "      <td>0.0</td>\n",
       "      <td>0.0</td>\n",
       "    </tr>\n",
       "    <tr>\n",
       "      <th>-9212075797126931087</th>\n",
       "      <td>0.0</td>\n",
       "      <td>0.0</td>\n",
       "      <td>0.0</td>\n",
       "      <td>0.0</td>\n",
       "      <td>0.0</td>\n",
       "      <td>0.0</td>\n",
       "      <td>0.0</td>\n",
       "      <td>0.0</td>\n",
       "      <td>0.0</td>\n",
       "      <td>0.0</td>\n",
       "      <td>...</td>\n",
       "      <td>0.0</td>\n",
       "      <td>0.0</td>\n",
       "      <td>0.0</td>\n",
       "      <td>0.0</td>\n",
       "      <td>0.0</td>\n",
       "      <td>0.0</td>\n",
       "      <td>0.0</td>\n",
       "      <td>0.0</td>\n",
       "      <td>0.0</td>\n",
       "      <td>0.0</td>\n",
       "    </tr>\n",
       "    <tr>\n",
       "      <th>-9207251133131336884</th>\n",
       "      <td>0.0</td>\n",
       "      <td>0.0</td>\n",
       "      <td>0.0</td>\n",
       "      <td>0.0</td>\n",
       "      <td>0.0</td>\n",
       "      <td>0.0</td>\n",
       "      <td>0.0</td>\n",
       "      <td>0.0</td>\n",
       "      <td>0.0</td>\n",
       "      <td>0.0</td>\n",
       "      <td>...</td>\n",
       "      <td>0.0</td>\n",
       "      <td>0.0</td>\n",
       "      <td>0.0</td>\n",
       "      <td>0.0</td>\n",
       "      <td>0.0</td>\n",
       "      <td>0.0</td>\n",
       "      <td>0.0</td>\n",
       "      <td>0.0</td>\n",
       "      <td>0.0</td>\n",
       "      <td>0.0</td>\n",
       "    </tr>\n",
       "  </tbody>\n",
       "</table>\n",
       "<p>3 rows × 2184 columns</p>\n",
       "</div>"
      ],
      "text/plain": [
       "item_id               -9222795471790223670  -9216926795620865886  \\\n",
       "consumer_id                                                        \n",
       "-9223121837663643404                   0.0                   0.0   \n",
       "-9212075797126931087                   0.0                   0.0   \n",
       "-9207251133131336884                   0.0                   0.0   \n",
       "\n",
       "item_id               -9194572880052200111  -9192549002213406534  \\\n",
       "consumer_id                                                        \n",
       "-9223121837663643404                   0.0                   0.0   \n",
       "-9212075797126931087                   0.0                   0.0   \n",
       "-9207251133131336884                   0.0                   0.0   \n",
       "\n",
       "item_id               -9190737901804729417  -9189659052158407108  \\\n",
       "consumer_id                                                        \n",
       "-9223121837663643404                   0.0                   0.0   \n",
       "-9212075797126931087                   0.0                   0.0   \n",
       "-9207251133131336884                   0.0                   0.0   \n",
       "\n",
       "item_id               -9176143510534135851  -9166778629773133902  \\\n",
       "consumer_id                                                        \n",
       "-9223121837663643404                   0.0                   0.0   \n",
       "-9212075797126931087                   0.0                   0.0   \n",
       "-9207251133131336884                   0.0                   0.0   \n",
       "\n",
       "item_id               -9161596996229760398  -9160910454530522563  ...  \\\n",
       "consumer_id                                                       ...   \n",
       "-9223121837663643404                   0.0                   0.0  ...   \n",
       "-9212075797126931087                   0.0                   0.0  ...   \n",
       "-9207251133131336884                   0.0                   0.0  ...   \n",
       "\n",
       "item_id                9191014301634017491   9207286802575546269  \\\n",
       "consumer_id                                                        \n",
       "-9223121837663643404                   0.0                   0.0   \n",
       "-9212075797126931087                   0.0                   0.0   \n",
       "-9207251133131336884                   0.0                   0.0   \n",
       "\n",
       "item_id                9208127165664287660   9209629151177723638  \\\n",
       "consumer_id                                                        \n",
       "-9223121837663643404                   0.0                   0.0   \n",
       "-9212075797126931087                   0.0                   0.0   \n",
       "-9207251133131336884                   0.0                   0.0   \n",
       "\n",
       "item_id                9209886322932807692   9213260650272029784  \\\n",
       "consumer_id                                                        \n",
       "-9223121837663643404                   0.0                   0.0   \n",
       "-9212075797126931087                   0.0                   0.0   \n",
       "-9207251133131336884                   0.0                   0.0   \n",
       "\n",
       "item_id                9215261273565326920   9217155070834564627  \\\n",
       "consumer_id                                                        \n",
       "-9223121837663643404                   0.0                   0.0   \n",
       "-9212075797126931087                   0.0                   0.0   \n",
       "-9207251133131336884                   0.0                   0.0   \n",
       "\n",
       "item_id                9220445660318725468   9222265156747237864  \n",
       "consumer_id                                                       \n",
       "-9223121837663643404                   0.0                   0.0  \n",
       "-9212075797126931087                   0.0                   0.0  \n",
       "-9207251133131336884                   0.0                   0.0  \n",
       "\n",
       "[3 rows x 2184 columns]"
      ]
     },
     "execution_count": 99,
     "metadata": {},
     "output_type": "execute_result"
    }
   ],
   "source": [
    "data_matrix_test.head(3)"
   ]
  },
  {
   "cell_type": "code",
   "execution_count": 100,
   "metadata": {},
   "outputs": [],
   "source": [
    "test = test.assign(predicted_ratings=[test_user_predicted_ratings.loc[consumerId][itemId] for itemId,consumerId,rating in test.to_numpy()])"
   ]
  },
  {
   "cell_type": "code",
   "execution_count": 101,
   "metadata": {},
   "outputs": [
    {
     "data": {
      "text/plain": [
       "array([1.18750827, 1.74491876, 1.1578718 , ..., 1.2202831 , 1.        ,\n",
       "       1.09656091])"
      ]
     },
     "execution_count": 101,
     "metadata": {},
     "output_type": "execute_result"
    }
   ],
   "source": [
    "test['predicted_ratings'].to_numpy()"
   ]
  },
  {
   "cell_type": "code",
   "execution_count": 102,
   "metadata": {},
   "outputs": [],
   "source": [
    "def rmse(prediction, ground_truth):\n",
    "    prediction = prediction[ground_truth.nonzero()]\n",
    "    ground_truth = ground_truth[ground_truth.nonzero()]\n",
    "    return sqrt(mean_squared_error(prediction, ground_truth))"
   ]
  },
  {
   "cell_type": "code",
   "execution_count": 103,
   "metadata": {},
   "outputs": [
    {
     "data": {
      "text/plain": [
       "0.6496444865449916"
      ]
     },
     "execution_count": 103,
     "metadata": {},
     "output_type": "execute_result"
    }
   ],
   "source": [
    "rmse(test['predicted_ratings'].to_numpy(), test['ratings'].to_numpy())"
   ]
  },
  {
   "cell_type": "code",
   "execution_count": 104,
   "metadata": {},
   "outputs": [],
   "source": [
    "train = train.assign(predicted_ratings=[user_predicted_ratings_train_df.loc[consumerId][itemId] for itemId,consumerId,rating in train.to_numpy()])"
   ]
  },
  {
   "cell_type": "code",
   "execution_count": 105,
   "metadata": {
    "scrolled": true
   },
   "outputs": [
    {
     "data": {
      "text/html": [
       "<div>\n",
       "<style scoped>\n",
       "    .dataframe tbody tr th:only-of-type {\n",
       "        vertical-align: middle;\n",
       "    }\n",
       "\n",
       "    .dataframe tbody tr th {\n",
       "        vertical-align: top;\n",
       "    }\n",
       "\n",
       "    .dataframe thead th {\n",
       "        text-align: right;\n",
       "    }\n",
       "</style>\n",
       "<table border=\"1\" class=\"dataframe\">\n",
       "  <thead>\n",
       "    <tr style=\"text-align: right;\">\n",
       "      <th></th>\n",
       "      <th>item_id</th>\n",
       "      <th>consumer_id</th>\n",
       "      <th>ratings</th>\n",
       "      <th>predicted_ratings</th>\n",
       "    </tr>\n",
       "  </thead>\n",
       "  <tbody>\n",
       "    <tr>\n",
       "      <th>59381</th>\n",
       "      <td>-8800029253812071912</td>\n",
       "      <td>-709287718034731589</td>\n",
       "      <td>5</td>\n",
       "      <td>6.103887</td>\n",
       "    </tr>\n",
       "    <tr>\n",
       "      <th>19221</th>\n",
       "      <td>-1622037268576555626</td>\n",
       "      <td>8180111365399889286</td>\n",
       "      <td>1</td>\n",
       "      <td>2.322805</td>\n",
       "    </tr>\n",
       "    <tr>\n",
       "      <th>64384</th>\n",
       "      <td>-1259410223376598430</td>\n",
       "      <td>-4092545774372727680</td>\n",
       "      <td>1</td>\n",
       "      <td>1.958997</td>\n",
       "    </tr>\n",
       "    <tr>\n",
       "      <th>2873</th>\n",
       "      <td>7414483722019578252</td>\n",
       "      <td>3636910968448833585</td>\n",
       "      <td>1</td>\n",
       "      <td>2.960310</td>\n",
       "    </tr>\n",
       "    <tr>\n",
       "      <th>67575</th>\n",
       "      <td>-7113155163062752691</td>\n",
       "      <td>-4246695160507476121</td>\n",
       "      <td>1</td>\n",
       "      <td>5.587051</td>\n",
       "    </tr>\n",
       "    <tr>\n",
       "      <th>...</th>\n",
       "      <td>...</td>\n",
       "      <td>...</td>\n",
       "      <td>...</td>\n",
       "      <td>...</td>\n",
       "    </tr>\n",
       "    <tr>\n",
       "      <th>61422</th>\n",
       "      <td>7255021292858609470</td>\n",
       "      <td>-2074199579534092070</td>\n",
       "      <td>1</td>\n",
       "      <td>2.628725</td>\n",
       "    </tr>\n",
       "    <tr>\n",
       "      <th>7733</th>\n",
       "      <td>8890720798209849691</td>\n",
       "      <td>3609194402293569455</td>\n",
       "      <td>1</td>\n",
       "      <td>5.616044</td>\n",
       "    </tr>\n",
       "    <tr>\n",
       "      <th>30054</th>\n",
       "      <td>7540764978459875963</td>\n",
       "      <td>801895594717772308</td>\n",
       "      <td>1</td>\n",
       "      <td>2.146102</td>\n",
       "    </tr>\n",
       "    <tr>\n",
       "      <th>51988</th>\n",
       "      <td>5008913705695203000</td>\n",
       "      <td>-709287718034731589</td>\n",
       "      <td>1</td>\n",
       "      <td>3.433557</td>\n",
       "    </tr>\n",
       "    <tr>\n",
       "      <th>50473</th>\n",
       "      <td>4307023751244532288</td>\n",
       "      <td>8250502084456448386</td>\n",
       "      <td>1</td>\n",
       "      <td>1.680583</td>\n",
       "    </tr>\n",
       "  </tbody>\n",
       "</table>\n",
       "<p>32568 rows × 4 columns</p>\n",
       "</div>"
      ],
      "text/plain": [
       "                   item_id          consumer_id  ratings  predicted_ratings\n",
       "59381 -8800029253812071912  -709287718034731589        5           6.103887\n",
       "19221 -1622037268576555626  8180111365399889286        1           2.322805\n",
       "64384 -1259410223376598430 -4092545774372727680        1           1.958997\n",
       "2873   7414483722019578252  3636910968448833585        1           2.960310\n",
       "67575 -7113155163062752691 -4246695160507476121        1           5.587051\n",
       "...                    ...                  ...      ...                ...\n",
       "61422  7255021292858609470 -2074199579534092070        1           2.628725\n",
       "7733   8890720798209849691  3609194402293569455        1           5.616044\n",
       "30054  7540764978459875963   801895594717772308        1           2.146102\n",
       "51988  5008913705695203000  -709287718034731589        1           3.433557\n",
       "50473  4307023751244532288  8250502084456448386        1           1.680583\n",
       "\n",
       "[32568 rows x 4 columns]"
      ]
     },
     "execution_count": 105,
     "metadata": {},
     "output_type": "execute_result"
    }
   ],
   "source": [
    "train"
   ]
  },
  {
   "cell_type": "code",
   "execution_count": 106,
   "metadata": {},
   "outputs": [
    {
     "data": {
      "text/plain": [
       "5.727630572524287"
      ]
     },
     "execution_count": 106,
     "metadata": {},
     "output_type": "execute_result"
    }
   ],
   "source": [
    "rmse(train['predicted_ratings'].to_numpy(), train['ratings'].to_numpy())"
   ]
  },
  {
   "cell_type": "code",
   "execution_count": 107,
   "metadata": {},
   "outputs": [],
   "source": [
    "# total_non_nan = np.count_nonzero(test_user_predicted_ratings)"
   ]
  },
  {
   "cell_type": "code",
   "execution_count": 108,
   "metadata": {},
   "outputs": [],
   "source": [
    "# total_non_nan"
   ]
  },
  {
   "cell_type": "code",
   "execution_count": 109,
   "metadata": {},
   "outputs": [],
   "source": [
    "# (sum((test_user_predicted_ratings - data_matrix_test)**2)/total_non_nan)**0.5"
   ]
  },
  {
   "cell_type": "code",
   "execution_count": 110,
   "metadata": {},
   "outputs": [],
   "source": [
    "# test_user_predicted_ratings.sum().sum()"
   ]
  },
  {
   "cell_type": "code",
   "execution_count": 111,
   "metadata": {},
   "outputs": [],
   "source": [
    "# data_matrix_test.sum().sum()"
   ]
  },
  {
   "cell_type": "code",
   "execution_count": 112,
   "metadata": {},
   "outputs": [],
   "source": [
    "# (sum((test_user_predicted_ratings - data_matrix_test).sum()**2)/total_non_nan)**0.5"
   ]
  },
  {
   "cell_type": "code",
   "execution_count": 113,
   "metadata": {},
   "outputs": [
    {
     "data": {
      "text/html": [
       "<div>\n",
       "<style scoped>\n",
       "    .dataframe tbody tr th:only-of-type {\n",
       "        vertical-align: middle;\n",
       "    }\n",
       "\n",
       "    .dataframe tbody tr th {\n",
       "        vertical-align: top;\n",
       "    }\n",
       "\n",
       "    .dataframe thead th {\n",
       "        text-align: right;\n",
       "    }\n",
       "</style>\n",
       "<table border=\"1\" class=\"dataframe\">\n",
       "  <thead>\n",
       "    <tr style=\"text-align: right;\">\n",
       "      <th></th>\n",
       "      <th>item_id</th>\n",
       "      <th>consumer_id</th>\n",
       "      <th>ratings</th>\n",
       "      <th>predicted_ratings</th>\n",
       "    </tr>\n",
       "  </thead>\n",
       "  <tbody>\n",
       "    <tr>\n",
       "      <th>59381</th>\n",
       "      <td>-8800029253812071912</td>\n",
       "      <td>-709287718034731589</td>\n",
       "      <td>5</td>\n",
       "      <td>6.103887</td>\n",
       "    </tr>\n",
       "    <tr>\n",
       "      <th>19221</th>\n",
       "      <td>-1622037268576555626</td>\n",
       "      <td>8180111365399889286</td>\n",
       "      <td>1</td>\n",
       "      <td>2.322805</td>\n",
       "    </tr>\n",
       "    <tr>\n",
       "      <th>64384</th>\n",
       "      <td>-1259410223376598430</td>\n",
       "      <td>-4092545774372727680</td>\n",
       "      <td>1</td>\n",
       "      <td>1.958997</td>\n",
       "    </tr>\n",
       "    <tr>\n",
       "      <th>2873</th>\n",
       "      <td>7414483722019578252</td>\n",
       "      <td>3636910968448833585</td>\n",
       "      <td>1</td>\n",
       "      <td>2.960310</td>\n",
       "    </tr>\n",
       "    <tr>\n",
       "      <th>67575</th>\n",
       "      <td>-7113155163062752691</td>\n",
       "      <td>-4246695160507476121</td>\n",
       "      <td>1</td>\n",
       "      <td>5.587051</td>\n",
       "    </tr>\n",
       "    <tr>\n",
       "      <th>...</th>\n",
       "      <td>...</td>\n",
       "      <td>...</td>\n",
       "      <td>...</td>\n",
       "      <td>...</td>\n",
       "    </tr>\n",
       "    <tr>\n",
       "      <th>61422</th>\n",
       "      <td>7255021292858609470</td>\n",
       "      <td>-2074199579534092070</td>\n",
       "      <td>1</td>\n",
       "      <td>2.628725</td>\n",
       "    </tr>\n",
       "    <tr>\n",
       "      <th>7733</th>\n",
       "      <td>8890720798209849691</td>\n",
       "      <td>3609194402293569455</td>\n",
       "      <td>1</td>\n",
       "      <td>5.616044</td>\n",
       "    </tr>\n",
       "    <tr>\n",
       "      <th>30054</th>\n",
       "      <td>7540764978459875963</td>\n",
       "      <td>801895594717772308</td>\n",
       "      <td>1</td>\n",
       "      <td>2.146102</td>\n",
       "    </tr>\n",
       "    <tr>\n",
       "      <th>51988</th>\n",
       "      <td>5008913705695203000</td>\n",
       "      <td>-709287718034731589</td>\n",
       "      <td>1</td>\n",
       "      <td>3.433557</td>\n",
       "    </tr>\n",
       "    <tr>\n",
       "      <th>50473</th>\n",
       "      <td>4307023751244532288</td>\n",
       "      <td>8250502084456448386</td>\n",
       "      <td>1</td>\n",
       "      <td>1.680583</td>\n",
       "    </tr>\n",
       "  </tbody>\n",
       "</table>\n",
       "<p>32568 rows × 4 columns</p>\n",
       "</div>"
      ],
      "text/plain": [
       "                   item_id          consumer_id  ratings  predicted_ratings\n",
       "59381 -8800029253812071912  -709287718034731589        5           6.103887\n",
       "19221 -1622037268576555626  8180111365399889286        1           2.322805\n",
       "64384 -1259410223376598430 -4092545774372727680        1           1.958997\n",
       "2873   7414483722019578252  3636910968448833585        1           2.960310\n",
       "67575 -7113155163062752691 -4246695160507476121        1           5.587051\n",
       "...                    ...                  ...      ...                ...\n",
       "61422  7255021292858609470 -2074199579534092070        1           2.628725\n",
       "7733   8890720798209849691  3609194402293569455        1           5.616044\n",
       "30054  7540764978459875963   801895594717772308        1           2.146102\n",
       "51988  5008913705695203000  -709287718034731589        1           3.433557\n",
       "50473  4307023751244532288  8250502084456448386        1           1.680583\n",
       "\n",
       "[32568 rows x 4 columns]"
      ]
     },
     "execution_count": 113,
     "metadata": {},
     "output_type": "execute_result"
    }
   ],
   "source": [
    "train"
   ]
  },
  {
   "cell_type": "code",
   "execution_count": 114,
   "metadata": {},
   "outputs": [],
   "source": [
    "# (sum(((train['predicted_ratings'] - train['ratings'])**2).sum())/total_non_nan)**0.5"
   ]
  },
  {
   "cell_type": "code",
   "execution_count": 115,
   "metadata": {},
   "outputs": [
    {
     "data": {
      "text/plain": [
       "5.727630572524287"
      ]
     },
     "execution_count": 115,
     "metadata": {},
     "output_type": "execute_result"
    }
   ],
   "source": [
    "(((train['predicted_ratings'] - train['ratings'])**2).sum()/len(train))**0.5"
   ]
  },
  {
   "cell_type": "code",
   "execution_count": 116,
   "metadata": {},
   "outputs": [],
   "source": [
    "# (sum(((test_user_predicted_ratings - data_matrix_test)**2).sum())/total_non_nan)**0.5"
   ]
  },
  {
   "cell_type": "code",
   "execution_count": null,
   "metadata": {},
   "outputs": [],
   "source": []
  },
  {
   "cell_type": "code",
   "execution_count": 117,
   "metadata": {},
   "outputs": [
    {
     "data": {
      "text/plain": [
       "0.6496444865449916"
      ]
     },
     "execution_count": 117,
     "metadata": {},
     "output_type": "execute_result"
    }
   ],
   "source": [
    "rmse(np.array(test_user_predicted_ratings), np.array(data_matrix_test))"
   ]
  },
  {
   "cell_type": "code",
   "execution_count": 118,
   "metadata": {},
   "outputs": [
    {
     "data": {
      "text/plain": [
       "(1216, 2184)"
      ]
     },
     "execution_count": 118,
     "metadata": {},
     "output_type": "execute_result"
    }
   ],
   "source": [
    "test_user_predicted_ratings.shape"
   ]
  },
  {
   "cell_type": "code",
   "execution_count": 119,
   "metadata": {},
   "outputs": [
    {
     "data": {
      "text/plain": [
       "(1216, 2184)"
      ]
     },
     "execution_count": 119,
     "metadata": {},
     "output_type": "execute_result"
    }
   ],
   "source": [
    "data_matrix_test.shape"
   ]
  },
  {
   "cell_type": "code",
   "execution_count": 120,
   "metadata": {},
   "outputs": [
    {
     "data": {
      "text/plain": [
       "pandas.core.frame.DataFrame"
      ]
     },
     "execution_count": 120,
     "metadata": {},
     "output_type": "execute_result"
    }
   ],
   "source": [
    "type(data_matrix_test)"
   ]
  },
  {
   "cell_type": "code",
   "execution_count": 121,
   "metadata": {},
   "outputs": [
    {
     "data": {
      "text/plain": [
       "(array([    801,    1188,    1256, ..., 2655550, 2655615, 2655649],\n",
       "       dtype=int64),)"
      ]
     },
     "execution_count": 121,
     "metadata": {},
     "output_type": "execute_result"
    }
   ],
   "source": [
    "np.nonzero(data_matrix_test.values.flatten())"
   ]
  },
  {
   "cell_type": "code",
   "execution_count": 122,
   "metadata": {},
   "outputs": [],
   "source": [
    "non_zero_index = np.nonzero(test_user_predicted_ratings.values.flatten())"
   ]
  },
  {
   "cell_type": "code",
   "execution_count": 123,
   "metadata": {},
   "outputs": [
    {
     "data": {
      "text/plain": [
       "7982"
      ]
     },
     "execution_count": 123,
     "metadata": {},
     "output_type": "execute_result"
    }
   ],
   "source": [
    "len(non_zero_index[0])"
   ]
  },
  {
   "cell_type": "code",
   "execution_count": 124,
   "metadata": {},
   "outputs": [
    {
     "data": {
      "text/plain": [
       "0.6496444865449916"
      ]
     },
     "execution_count": 124,
     "metadata": {},
     "output_type": "execute_result"
    }
   ],
   "source": [
    "rmse(test_user_predicted_ratings.values.flatten()[non_zero_index[0]], data_matrix_test.values.flatten()[non_zero_index[0]])"
   ]
  },
  {
   "cell_type": "code",
   "execution_count": 125,
   "metadata": {},
   "outputs": [
    {
     "data": {
      "text/plain": [
       "array([1.41598927, 1.19186445, 1.83556893, ..., 1.3507031 , 1.11623834,\n",
       "       1.1887023 ])"
      ]
     },
     "execution_count": 125,
     "metadata": {},
     "output_type": "execute_result"
    }
   ],
   "source": [
    "test_user_predicted_ratings.values.flatten()[non_zero_index[0]]"
   ]
  },
  {
   "cell_type": "code",
   "execution_count": 126,
   "metadata": {},
   "outputs": [
    {
     "data": {
      "text/plain": [
       "array([1., 1., 1., ..., 1., 1., 1.])"
      ]
     },
     "execution_count": 126,
     "metadata": {},
     "output_type": "execute_result"
    }
   ],
   "source": [
    "data_matrix_test.values.flatten()[non_zero_index[0]]"
   ]
  },
  {
   "cell_type": "code",
   "execution_count": 127,
   "metadata": {},
   "outputs": [],
   "source": [
    "def mae(prediction, ground_truth):\n",
    "\n",
    "    prediction = prediction[ground_truth.nonzero()]\n",
    "    \n",
    "    ground_truth = ground_truth[ground_truth.nonzero()]\n",
    "    \n",
    "    return mean_absolute_error(prediction, ground_truth)"
   ]
  },
  {
   "cell_type": "code",
   "execution_count": 128,
   "metadata": {},
   "outputs": [
    {
     "data": {
      "text/plain": [
       "0.42178716290087825"
      ]
     },
     "execution_count": 128,
     "metadata": {},
     "output_type": "execute_result"
    }
   ],
   "source": [
    "mae(test_user_predicted_ratings.values.flatten()[non_zero_index[0]], data_matrix_test.values.flatten()[non_zero_index[0]])"
   ]
  },
  {
   "cell_type": "code",
   "execution_count": 129,
   "metadata": {},
   "outputs": [
    {
     "data": {
      "text/plain": [
       "3.089964200895488"
      ]
     },
     "execution_count": 129,
     "metadata": {},
     "output_type": "execute_result"
    }
   ],
   "source": [
    "mae(train['predicted_ratings'].to_numpy(), train['ratings'].to_numpy())"
   ]
  },
  {
   "cell_type": "code",
   "execution_count": 130,
   "metadata": {},
   "outputs": [
    {
     "data": {
      "text/plain": [
       "0.42178716290087825"
      ]
     },
     "execution_count": 130,
     "metadata": {},
     "output_type": "execute_result"
    }
   ],
   "source": [
    "mae(test['predicted_ratings'].to_numpy(), test['ratings'].to_numpy())"
   ]
  },
  {
   "cell_type": "code",
   "execution_count": null,
   "metadata": {},
   "outputs": [],
   "source": []
  },
  {
   "cell_type": "code",
   "execution_count": null,
   "metadata": {},
   "outputs": [],
   "source": []
  },
  {
   "cell_type": "markdown",
   "metadata": {},
   "source": [
    "# Global Precision @k"
   ]
  },
  {
   "cell_type": "code",
   "execution_count": 131,
   "metadata": {},
   "outputs": [],
   "source": [
    "# test.consumer_id.unique()"
   ]
  },
  {
   "cell_type": "code",
   "execution_count": 132,
   "metadata": {},
   "outputs": [],
   "source": [
    "# test[test.consumer_id==-6944500707172804068].sort_values(by='ratings', ascending=False)[:10].item_id"
   ]
  },
  {
   "cell_type": "code",
   "execution_count": 133,
   "metadata": {},
   "outputs": [],
   "source": [
    "# test[test.consumer_id==-6944500707172804068].sort_values(by='predicted_ratings', ascending=False)[:10].item_id"
   ]
  },
  {
   "cell_type": "code",
   "execution_count": 134,
   "metadata": {},
   "outputs": [],
   "source": [
    "def getPrecisionAtK(df, consumerId, k=10):\n",
    "    by_ratings = df[df.consumer_id == consumerId].sort_values(by='ratings', ascending=False)[:k].item_id\n",
    "    by_pred_ratings = df[df.consumer_id == consumerId].sort_values(by='predicted_ratings', ascending=False)[:k].item_id\n",
    "\n",
    "    return by_pred_ratings.isin(by_ratings).sum()/k"
   ]
  },
  {
   "cell_type": "code",
   "execution_count": 135,
   "metadata": {},
   "outputs": [
    {
     "data": {
      "text/plain": [
       "0.8"
      ]
     },
     "execution_count": 135,
     "metadata": {},
     "output_type": "execute_result"
    }
   ],
   "source": [
    "getPrecisionAtK(test, 434517017614495946, 10)"
   ]
  },
  {
   "cell_type": "code",
   "execution_count": 136,
   "metadata": {},
   "outputs": [
    {
     "data": {
      "text/plain": [
       "array([-6944500707172804068,   434517017614495946,   599868086167624974,\n",
       "       ...,  6574579966911353978,  7948330930322808597,\n",
       "        7181121382861702936], dtype=int64)"
      ]
     },
     "execution_count": 136,
     "metadata": {},
     "output_type": "execute_result"
    }
   ],
   "source": [
    "test.consumer_id.unique()"
   ]
  },
  {
   "cell_type": "code",
   "execution_count": 137,
   "metadata": {},
   "outputs": [
    {
     "data": {
      "text/plain": [
       "0.48536184210526795"
      ]
     },
     "execution_count": 137,
     "metadata": {},
     "output_type": "execute_result"
    }
   ],
   "source": [
    "sum([getPrecisionAtK(test, consumerId, 5) for consumerId in test.consumer_id.unique()])/len(test.consumer_id.unique())"
   ]
  },
  {
   "cell_type": "code",
   "execution_count": 138,
   "metadata": {},
   "outputs": [
    {
     "data": {
      "text/plain": [
       "0.4696886947023521"
      ]
     },
     "execution_count": 138,
     "metadata": {},
     "output_type": "execute_result"
    }
   ],
   "source": [
    "sum([getPrecisionAtK(train, consumerId, 5) for consumerId in train.consumer_id.unique()])/len(train.consumer_id.unique())"
   ]
  },
  {
   "cell_type": "code",
   "execution_count": 139,
   "metadata": {},
   "outputs": [
    {
     "data": {
      "text/plain": [
       "0.3557565789473726"
      ]
     },
     "execution_count": 139,
     "metadata": {},
     "output_type": "execute_result"
    }
   ],
   "source": [
    "sum([getPrecisionAtK(test, consumerId, 10) for consumerId in test.consumer_id.unique()])/len(test.consumer_id.unique())"
   ]
  },
  {
   "cell_type": "code",
   "execution_count": 140,
   "metadata": {},
   "outputs": [
    {
     "data": {
      "text/plain": [
       "0.4264336428181365"
      ]
     },
     "execution_count": 140,
     "metadata": {},
     "output_type": "execute_result"
    }
   ],
   "source": [
    "sum([getPrecisionAtK(train, consumerId, 10) for consumerId in train.consumer_id.unique()])/len(train.consumer_id.unique())"
   ]
  },
  {
   "cell_type": "code",
   "execution_count": 141,
   "metadata": {},
   "outputs": [],
   "source": [
    "# pd.Series(precisionAt10).mean()"
   ]
  },
  {
   "cell_type": "code",
   "execution_count": 142,
   "metadata": {},
   "outputs": [],
   "source": [
    "# test[test.consumer_id==-6944500707172804068].sort_values(by='predicted_ratings', ascending=False)[:10].item_id.isin(test[test.consumer_id==-6944500707172804068].sort_values(by='ratings', ascending=False)[:10].item_id).sum()/10"
   ]
  },
  {
   "cell_type": "code",
   "execution_count": 143,
   "metadata": {},
   "outputs": [],
   "source": [
    "# test_user_predicted_ratings.index"
   ]
  },
  {
   "cell_type": "code",
   "execution_count": 144,
   "metadata": {},
   "outputs": [],
   "source": [
    "# global_precision = 0\n",
    "\n",
    "# for consumer_id in test_user_predicted_ratings.index:\n",
    "#     user_relevant_set = test[(test['consumer_id']==consumer_id) & (test['ratings']>2)].sort_values(by='ratings',ascending=False)['item_id'].tolist()\n",
    "#     user_predicted_set = test_user_predicted_ratings.loc[consumer_id].sort_values(ascending=False)[:5].index.tolist()\n",
    "#     precision_at_10 = (len(list(set(user_relevant_set) & set(user_predicted_set))))/5\n",
    "#     print(precision_at_10)\n",
    "#     global_precision = global_precision + precision_at_10\n"
   ]
  },
  {
   "cell_type": "code",
   "execution_count": 145,
   "metadata": {},
   "outputs": [],
   "source": [
    "# global_precision"
   ]
  },
  {
   "cell_type": "code",
   "execution_count": 146,
   "metadata": {},
   "outputs": [],
   "source": [
    "# global_precision/len(test_user_predicted_ratings.index)"
   ]
  },
  {
   "cell_type": "markdown",
   "metadata": {},
   "source": [
    "# Item Similarity"
   ]
  },
  {
   "cell_type": "code",
   "execution_count": 147,
   "metadata": {},
   "outputs": [],
   "source": [
    "# lets create pivot\n",
    "\n",
    "data_matrix = consumer_transactions_df.pivot(index='consumer_id', columns='item_id', values='ratings').fillna(0)"
   ]
  },
  {
   "cell_type": "code",
   "execution_count": 148,
   "metadata": {
    "scrolled": true
   },
   "outputs": [
    {
     "data": {
      "text/html": [
       "<div>\n",
       "<style scoped>\n",
       "    .dataframe tbody tr th:only-of-type {\n",
       "        vertical-align: middle;\n",
       "    }\n",
       "\n",
       "    .dataframe tbody tr th {\n",
       "        vertical-align: top;\n",
       "    }\n",
       "\n",
       "    .dataframe thead th {\n",
       "        text-align: right;\n",
       "    }\n",
       "</style>\n",
       "<table border=\"1\" class=\"dataframe\">\n",
       "  <thead>\n",
       "    <tr style=\"text-align: right;\">\n",
       "      <th>item_id</th>\n",
       "      <th>-9222795471790223670</th>\n",
       "      <th>-9216926795620865886</th>\n",
       "      <th>-9194572880052200111</th>\n",
       "      <th>-9192549002213406534</th>\n",
       "      <th>-9190737901804729417</th>\n",
       "      <th>-9189659052158407108</th>\n",
       "      <th>-9184137057748005562</th>\n",
       "      <th>-9176143510534135851</th>\n",
       "      <th>-9172673334835262304</th>\n",
       "      <th>-9171475473795142532</th>\n",
       "      <th>...</th>\n",
       "      <th>9191014301634017491</th>\n",
       "      <th>9207286802575546269</th>\n",
       "      <th>9208127165664287660</th>\n",
       "      <th>9209629151177723638</th>\n",
       "      <th>9209886322932807692</th>\n",
       "      <th>9213260650272029784</th>\n",
       "      <th>9215261273565326920</th>\n",
       "      <th>9217155070834564627</th>\n",
       "      <th>9220445660318725468</th>\n",
       "      <th>9222265156747237864</th>\n",
       "    </tr>\n",
       "    <tr>\n",
       "      <th>consumer_id</th>\n",
       "      <th></th>\n",
       "      <th></th>\n",
       "      <th></th>\n",
       "      <th></th>\n",
       "      <th></th>\n",
       "      <th></th>\n",
       "      <th></th>\n",
       "      <th></th>\n",
       "      <th></th>\n",
       "      <th></th>\n",
       "      <th></th>\n",
       "      <th></th>\n",
       "      <th></th>\n",
       "      <th></th>\n",
       "      <th></th>\n",
       "      <th></th>\n",
       "      <th></th>\n",
       "      <th></th>\n",
       "      <th></th>\n",
       "      <th></th>\n",
       "      <th></th>\n",
       "    </tr>\n",
       "  </thead>\n",
       "  <tbody>\n",
       "    <tr>\n",
       "      <th>-9223121837663643404</th>\n",
       "      <td>0.0</td>\n",
       "      <td>0.0</td>\n",
       "      <td>0.0</td>\n",
       "      <td>0.0</td>\n",
       "      <td>0.0</td>\n",
       "      <td>0.0</td>\n",
       "      <td>0.0</td>\n",
       "      <td>0.0</td>\n",
       "      <td>0.0</td>\n",
       "      <td>0.0</td>\n",
       "      <td>...</td>\n",
       "      <td>0.0</td>\n",
       "      <td>0.0</td>\n",
       "      <td>0.0</td>\n",
       "      <td>0.0</td>\n",
       "      <td>0.0</td>\n",
       "      <td>0.0</td>\n",
       "      <td>0.0</td>\n",
       "      <td>0.0</td>\n",
       "      <td>0.0</td>\n",
       "      <td>0.0</td>\n",
       "    </tr>\n",
       "    <tr>\n",
       "      <th>-9212075797126931087</th>\n",
       "      <td>0.0</td>\n",
       "      <td>0.0</td>\n",
       "      <td>0.0</td>\n",
       "      <td>0.0</td>\n",
       "      <td>0.0</td>\n",
       "      <td>0.0</td>\n",
       "      <td>0.0</td>\n",
       "      <td>0.0</td>\n",
       "      <td>0.0</td>\n",
       "      <td>0.0</td>\n",
       "      <td>...</td>\n",
       "      <td>0.0</td>\n",
       "      <td>0.0</td>\n",
       "      <td>0.0</td>\n",
       "      <td>0.0</td>\n",
       "      <td>0.0</td>\n",
       "      <td>0.0</td>\n",
       "      <td>0.0</td>\n",
       "      <td>0.0</td>\n",
       "      <td>0.0</td>\n",
       "      <td>0.0</td>\n",
       "    </tr>\n",
       "    <tr>\n",
       "      <th>-9207251133131336884</th>\n",
       "      <td>0.0</td>\n",
       "      <td>1.0</td>\n",
       "      <td>0.0</td>\n",
       "      <td>0.0</td>\n",
       "      <td>0.0</td>\n",
       "      <td>0.0</td>\n",
       "      <td>0.0</td>\n",
       "      <td>0.0</td>\n",
       "      <td>0.0</td>\n",
       "      <td>0.0</td>\n",
       "      <td>...</td>\n",
       "      <td>0.0</td>\n",
       "      <td>0.0</td>\n",
       "      <td>0.0</td>\n",
       "      <td>0.0</td>\n",
       "      <td>0.0</td>\n",
       "      <td>0.0</td>\n",
       "      <td>0.0</td>\n",
       "      <td>0.0</td>\n",
       "      <td>0.0</td>\n",
       "      <td>0.0</td>\n",
       "    </tr>\n",
       "    <tr>\n",
       "      <th>-9199575329909162940</th>\n",
       "      <td>0.0</td>\n",
       "      <td>0.0</td>\n",
       "      <td>0.0</td>\n",
       "      <td>0.0</td>\n",
       "      <td>0.0</td>\n",
       "      <td>0.0</td>\n",
       "      <td>0.0</td>\n",
       "      <td>0.0</td>\n",
       "      <td>0.0</td>\n",
       "      <td>0.0</td>\n",
       "      <td>...</td>\n",
       "      <td>0.0</td>\n",
       "      <td>0.0</td>\n",
       "      <td>0.0</td>\n",
       "      <td>0.0</td>\n",
       "      <td>0.0</td>\n",
       "      <td>0.0</td>\n",
       "      <td>0.0</td>\n",
       "      <td>0.0</td>\n",
       "      <td>0.0</td>\n",
       "      <td>0.0</td>\n",
       "    </tr>\n",
       "    <tr>\n",
       "      <th>-9196668942822132778</th>\n",
       "      <td>0.0</td>\n",
       "      <td>0.0</td>\n",
       "      <td>0.0</td>\n",
       "      <td>0.0</td>\n",
       "      <td>0.0</td>\n",
       "      <td>0.0</td>\n",
       "      <td>0.0</td>\n",
       "      <td>0.0</td>\n",
       "      <td>0.0</td>\n",
       "      <td>0.0</td>\n",
       "      <td>...</td>\n",
       "      <td>0.0</td>\n",
       "      <td>0.0</td>\n",
       "      <td>0.0</td>\n",
       "      <td>0.0</td>\n",
       "      <td>0.0</td>\n",
       "      <td>0.0</td>\n",
       "      <td>0.0</td>\n",
       "      <td>0.0</td>\n",
       "      <td>0.0</td>\n",
       "      <td>0.0</td>\n",
       "    </tr>\n",
       "  </tbody>\n",
       "</table>\n",
       "<p>5 rows × 2987 columns</p>\n",
       "</div>"
      ],
      "text/plain": [
       "item_id               -9222795471790223670  -9216926795620865886  \\\n",
       "consumer_id                                                        \n",
       "-9223121837663643404                   0.0                   0.0   \n",
       "-9212075797126931087                   0.0                   0.0   \n",
       "-9207251133131336884                   0.0                   1.0   \n",
       "-9199575329909162940                   0.0                   0.0   \n",
       "-9196668942822132778                   0.0                   0.0   \n",
       "\n",
       "item_id               -9194572880052200111  -9192549002213406534  \\\n",
       "consumer_id                                                        \n",
       "-9223121837663643404                   0.0                   0.0   \n",
       "-9212075797126931087                   0.0                   0.0   \n",
       "-9207251133131336884                   0.0                   0.0   \n",
       "-9199575329909162940                   0.0                   0.0   \n",
       "-9196668942822132778                   0.0                   0.0   \n",
       "\n",
       "item_id               -9190737901804729417  -9189659052158407108  \\\n",
       "consumer_id                                                        \n",
       "-9223121837663643404                   0.0                   0.0   \n",
       "-9212075797126931087                   0.0                   0.0   \n",
       "-9207251133131336884                   0.0                   0.0   \n",
       "-9199575329909162940                   0.0                   0.0   \n",
       "-9196668942822132778                   0.0                   0.0   \n",
       "\n",
       "item_id               -9184137057748005562  -9176143510534135851  \\\n",
       "consumer_id                                                        \n",
       "-9223121837663643404                   0.0                   0.0   \n",
       "-9212075797126931087                   0.0                   0.0   \n",
       "-9207251133131336884                   0.0                   0.0   \n",
       "-9199575329909162940                   0.0                   0.0   \n",
       "-9196668942822132778                   0.0                   0.0   \n",
       "\n",
       "item_id               -9172673334835262304  -9171475473795142532  ...  \\\n",
       "consumer_id                                                       ...   \n",
       "-9223121837663643404                   0.0                   0.0  ...   \n",
       "-9212075797126931087                   0.0                   0.0  ...   \n",
       "-9207251133131336884                   0.0                   0.0  ...   \n",
       "-9199575329909162940                   0.0                   0.0  ...   \n",
       "-9196668942822132778                   0.0                   0.0  ...   \n",
       "\n",
       "item_id                9191014301634017491   9207286802575546269  \\\n",
       "consumer_id                                                        \n",
       "-9223121837663643404                   0.0                   0.0   \n",
       "-9212075797126931087                   0.0                   0.0   \n",
       "-9207251133131336884                   0.0                   0.0   \n",
       "-9199575329909162940                   0.0                   0.0   \n",
       "-9196668942822132778                   0.0                   0.0   \n",
       "\n",
       "item_id                9208127165664287660   9209629151177723638  \\\n",
       "consumer_id                                                        \n",
       "-9223121837663643404                   0.0                   0.0   \n",
       "-9212075797126931087                   0.0                   0.0   \n",
       "-9207251133131336884                   0.0                   0.0   \n",
       "-9199575329909162940                   0.0                   0.0   \n",
       "-9196668942822132778                   0.0                   0.0   \n",
       "\n",
       "item_id                9209886322932807692   9213260650272029784  \\\n",
       "consumer_id                                                        \n",
       "-9223121837663643404                   0.0                   0.0   \n",
       "-9212075797126931087                   0.0                   0.0   \n",
       "-9207251133131336884                   0.0                   0.0   \n",
       "-9199575329909162940                   0.0                   0.0   \n",
       "-9196668942822132778                   0.0                   0.0   \n",
       "\n",
       "item_id                9215261273565326920   9217155070834564627  \\\n",
       "consumer_id                                                        \n",
       "-9223121837663643404                   0.0                   0.0   \n",
       "-9212075797126931087                   0.0                   0.0   \n",
       "-9207251133131336884                   0.0                   0.0   \n",
       "-9199575329909162940                   0.0                   0.0   \n",
       "-9196668942822132778                   0.0                   0.0   \n",
       "\n",
       "item_id                9220445660318725468   9222265156747237864  \n",
       "consumer_id                                                       \n",
       "-9223121837663643404                   0.0                   0.0  \n",
       "-9212075797126931087                   0.0                   0.0  \n",
       "-9207251133131336884                   0.0                   0.0  \n",
       "-9199575329909162940                   0.0                   0.0  \n",
       "-9196668942822132778                   0.0                   0.0  \n",
       "\n",
       "[5 rows x 2987 columns]"
      ]
     },
     "execution_count": 148,
     "metadata": {},
     "output_type": "execute_result"
    }
   ],
   "source": [
    "data_matrix.head()"
   ]
  },
  {
   "cell_type": "code",
   "execution_count": 149,
   "metadata": {},
   "outputs": [
    {
     "data": {
      "text/plain": [
       "(1895, 2987)"
      ]
     },
     "execution_count": 149,
     "metadata": {},
     "output_type": "execute_result"
    }
   ],
   "source": [
    "data_matrix.shape"
   ]
  },
  {
   "cell_type": "code",
   "execution_count": 150,
   "metadata": {},
   "outputs": [],
   "source": [
    "item_similarity = 1 - pairwise_distances(data_matrix.T, metric='cosine')"
   ]
  },
  {
   "cell_type": "code",
   "execution_count": 151,
   "metadata": {},
   "outputs": [
    {
     "data": {
      "text/plain": [
       "array([[1.        , 0.        , 0.        , ..., 0.28867513, 0.        ,\n",
       "        0.        ],\n",
       "       [0.        , 1.        , 0.        , ..., 0.        , 0.        ,\n",
       "        0.        ],\n",
       "       [0.        , 0.        , 1.        , ..., 0.        , 0.0410305 ,\n",
       "        0.09534626],\n",
       "       ...,\n",
       "       [0.28867513, 0.        , 0.        , ..., 1.        , 0.07856742,\n",
       "        0.18257419],\n",
       "       [0.        , 0.        , 0.0410305 , ..., 0.07856742, 1.        ,\n",
       "        0.0860663 ],\n",
       "       [0.        , 0.        , 0.09534626, ..., 0.18257419, 0.0860663 ,\n",
       "        1.        ]])"
      ]
     },
     "execution_count": 151,
     "metadata": {},
     "output_type": "execute_result"
    }
   ],
   "source": [
    "item_similarity"
   ]
  },
  {
   "cell_type": "code",
   "execution_count": 152,
   "metadata": {},
   "outputs": [],
   "source": [
    "item_similarity_df = pd.DataFrame(item_similarity, index=data_matrix.T.index, columns=data_matrix.T.index)"
   ]
  },
  {
   "cell_type": "code",
   "execution_count": 153,
   "metadata": {},
   "outputs": [
    {
     "data": {
      "text/html": [
       "<div>\n",
       "<style scoped>\n",
       "    .dataframe tbody tr th:only-of-type {\n",
       "        vertical-align: middle;\n",
       "    }\n",
       "\n",
       "    .dataframe tbody tr th {\n",
       "        vertical-align: top;\n",
       "    }\n",
       "\n",
       "    .dataframe thead th {\n",
       "        text-align: right;\n",
       "    }\n",
       "</style>\n",
       "<table border=\"1\" class=\"dataframe\">\n",
       "  <thead>\n",
       "    <tr style=\"text-align: right;\">\n",
       "      <th>item_id</th>\n",
       "      <th>-9222795471790223670</th>\n",
       "      <th>-9216926795620865886</th>\n",
       "      <th>-9194572880052200111</th>\n",
       "      <th>-9192549002213406534</th>\n",
       "      <th>-9190737901804729417</th>\n",
       "      <th>-9189659052158407108</th>\n",
       "      <th>-9184137057748005562</th>\n",
       "      <th>-9176143510534135851</th>\n",
       "      <th>-9172673334835262304</th>\n",
       "      <th>-9171475473795142532</th>\n",
       "      <th>...</th>\n",
       "      <th>9191014301634017491</th>\n",
       "      <th>9207286802575546269</th>\n",
       "      <th>9208127165664287660</th>\n",
       "      <th>9209629151177723638</th>\n",
       "      <th>9209886322932807692</th>\n",
       "      <th>9213260650272029784</th>\n",
       "      <th>9215261273565326920</th>\n",
       "      <th>9217155070834564627</th>\n",
       "      <th>9220445660318725468</th>\n",
       "      <th>9222265156747237864</th>\n",
       "    </tr>\n",
       "    <tr>\n",
       "      <th>item_id</th>\n",
       "      <th></th>\n",
       "      <th></th>\n",
       "      <th></th>\n",
       "      <th></th>\n",
       "      <th></th>\n",
       "      <th></th>\n",
       "      <th></th>\n",
       "      <th></th>\n",
       "      <th></th>\n",
       "      <th></th>\n",
       "      <th></th>\n",
       "      <th></th>\n",
       "      <th></th>\n",
       "      <th></th>\n",
       "      <th></th>\n",
       "      <th></th>\n",
       "      <th></th>\n",
       "      <th></th>\n",
       "      <th></th>\n",
       "      <th></th>\n",
       "      <th></th>\n",
       "    </tr>\n",
       "  </thead>\n",
       "  <tbody>\n",
       "    <tr>\n",
       "      <th>-9222795471790223670</th>\n",
       "      <td>1.000000</td>\n",
       "      <td>0.0</td>\n",
       "      <td>0.000000</td>\n",
       "      <td>0.166667</td>\n",
       "      <td>0.070711</td>\n",
       "      <td>0.000000</td>\n",
       "      <td>0.0</td>\n",
       "      <td>0.329983</td>\n",
       "      <td>0.000000</td>\n",
       "      <td>0.000000</td>\n",
       "      <td>...</td>\n",
       "      <td>0.392232</td>\n",
       "      <td>0.182574</td>\n",
       "      <td>0.000000</td>\n",
       "      <td>0.632456</td>\n",
       "      <td>0.000000</td>\n",
       "      <td>0.000000</td>\n",
       "      <td>0.000000</td>\n",
       "      <td>0.288675</td>\n",
       "      <td>0.000000</td>\n",
       "      <td>0.000000</td>\n",
       "    </tr>\n",
       "    <tr>\n",
       "      <th>-9216926795620865886</th>\n",
       "      <td>0.000000</td>\n",
       "      <td>1.0</td>\n",
       "      <td>0.000000</td>\n",
       "      <td>0.000000</td>\n",
       "      <td>0.000000</td>\n",
       "      <td>0.062017</td>\n",
       "      <td>0.0</td>\n",
       "      <td>0.000000</td>\n",
       "      <td>0.000000</td>\n",
       "      <td>0.000000</td>\n",
       "      <td>...</td>\n",
       "      <td>0.000000</td>\n",
       "      <td>0.000000</td>\n",
       "      <td>0.000000</td>\n",
       "      <td>0.000000</td>\n",
       "      <td>0.000000</td>\n",
       "      <td>0.000000</td>\n",
       "      <td>0.000000</td>\n",
       "      <td>0.000000</td>\n",
       "      <td>0.000000</td>\n",
       "      <td>0.000000</td>\n",
       "    </tr>\n",
       "    <tr>\n",
       "      <th>-9194572880052200111</th>\n",
       "      <td>0.000000</td>\n",
       "      <td>0.0</td>\n",
       "      <td>1.000000</td>\n",
       "      <td>0.150756</td>\n",
       "      <td>0.000000</td>\n",
       "      <td>0.083624</td>\n",
       "      <td>0.0</td>\n",
       "      <td>0.000000</td>\n",
       "      <td>0.000000</td>\n",
       "      <td>0.000000</td>\n",
       "      <td>...</td>\n",
       "      <td>0.000000</td>\n",
       "      <td>0.000000</td>\n",
       "      <td>0.000000</td>\n",
       "      <td>0.000000</td>\n",
       "      <td>0.100504</td>\n",
       "      <td>0.337100</td>\n",
       "      <td>0.044455</td>\n",
       "      <td>0.000000</td>\n",
       "      <td>0.041030</td>\n",
       "      <td>0.095346</td>\n",
       "    </tr>\n",
       "    <tr>\n",
       "      <th>-9192549002213406534</th>\n",
       "      <td>0.166667</td>\n",
       "      <td>0.0</td>\n",
       "      <td>0.150756</td>\n",
       "      <td>1.000000</td>\n",
       "      <td>0.000000</td>\n",
       "      <td>0.138675</td>\n",
       "      <td>0.0</td>\n",
       "      <td>0.117851</td>\n",
       "      <td>0.117851</td>\n",
       "      <td>0.102062</td>\n",
       "      <td>...</td>\n",
       "      <td>0.000000</td>\n",
       "      <td>0.152145</td>\n",
       "      <td>0.083333</td>\n",
       "      <td>0.105409</td>\n",
       "      <td>0.277778</td>\n",
       "      <td>0.074536</td>\n",
       "      <td>0.049147</td>\n",
       "      <td>0.144338</td>\n",
       "      <td>0.158763</td>\n",
       "      <td>0.000000</td>\n",
       "    </tr>\n",
       "    <tr>\n",
       "      <th>-9190737901804729417</th>\n",
       "      <td>0.070711</td>\n",
       "      <td>0.0</td>\n",
       "      <td>0.000000</td>\n",
       "      <td>0.000000</td>\n",
       "      <td>1.000000</td>\n",
       "      <td>0.000000</td>\n",
       "      <td>0.0</td>\n",
       "      <td>0.000000</td>\n",
       "      <td>0.000000</td>\n",
       "      <td>0.000000</td>\n",
       "      <td>...</td>\n",
       "      <td>0.000000</td>\n",
       "      <td>0.129099</td>\n",
       "      <td>0.000000</td>\n",
       "      <td>0.223607</td>\n",
       "      <td>0.000000</td>\n",
       "      <td>0.000000</td>\n",
       "      <td>0.000000</td>\n",
       "      <td>0.000000</td>\n",
       "      <td>0.000000</td>\n",
       "      <td>0.000000</td>\n",
       "    </tr>\n",
       "    <tr>\n",
       "      <th>...</th>\n",
       "      <td>...</td>\n",
       "      <td>...</td>\n",
       "      <td>...</td>\n",
       "      <td>...</td>\n",
       "      <td>...</td>\n",
       "      <td>...</td>\n",
       "      <td>...</td>\n",
       "      <td>...</td>\n",
       "      <td>...</td>\n",
       "      <td>...</td>\n",
       "      <td>...</td>\n",
       "      <td>...</td>\n",
       "      <td>...</td>\n",
       "      <td>...</td>\n",
       "      <td>...</td>\n",
       "      <td>...</td>\n",
       "      <td>...</td>\n",
       "      <td>...</td>\n",
       "      <td>...</td>\n",
       "      <td>...</td>\n",
       "      <td>...</td>\n",
       "    </tr>\n",
       "    <tr>\n",
       "      <th>9213260650272029784</th>\n",
       "      <td>0.000000</td>\n",
       "      <td>0.0</td>\n",
       "      <td>0.337100</td>\n",
       "      <td>0.074536</td>\n",
       "      <td>0.000000</td>\n",
       "      <td>0.124035</td>\n",
       "      <td>0.0</td>\n",
       "      <td>0.052705</td>\n",
       "      <td>0.000000</td>\n",
       "      <td>0.000000</td>\n",
       "      <td>...</td>\n",
       "      <td>0.000000</td>\n",
       "      <td>0.000000</td>\n",
       "      <td>0.000000</td>\n",
       "      <td>0.000000</td>\n",
       "      <td>0.074536</td>\n",
       "      <td>1.000000</td>\n",
       "      <td>0.065938</td>\n",
       "      <td>0.000000</td>\n",
       "      <td>0.060858</td>\n",
       "      <td>0.000000</td>\n",
       "    </tr>\n",
       "    <tr>\n",
       "      <th>9215261273565326920</th>\n",
       "      <td>0.000000</td>\n",
       "      <td>0.0</td>\n",
       "      <td>0.044455</td>\n",
       "      <td>0.049147</td>\n",
       "      <td>0.000000</td>\n",
       "      <td>0.245358</td>\n",
       "      <td>0.0</td>\n",
       "      <td>0.208514</td>\n",
       "      <td>0.000000</td>\n",
       "      <td>0.180579</td>\n",
       "      <td>...</td>\n",
       "      <td>0.000000</td>\n",
       "      <td>0.323029</td>\n",
       "      <td>0.442326</td>\n",
       "      <td>0.000000</td>\n",
       "      <td>0.049147</td>\n",
       "      <td>0.065938</td>\n",
       "      <td>1.000000</td>\n",
       "      <td>0.255377</td>\n",
       "      <td>0.080257</td>\n",
       "      <td>0.093250</td>\n",
       "    </tr>\n",
       "    <tr>\n",
       "      <th>9217155070834564627</th>\n",
       "      <td>0.288675</td>\n",
       "      <td>0.0</td>\n",
       "      <td>0.000000</td>\n",
       "      <td>0.144338</td>\n",
       "      <td>0.000000</td>\n",
       "      <td>0.000000</td>\n",
       "      <td>0.0</td>\n",
       "      <td>0.204124</td>\n",
       "      <td>0.000000</td>\n",
       "      <td>0.000000</td>\n",
       "      <td>...</td>\n",
       "      <td>0.000000</td>\n",
       "      <td>0.210819</td>\n",
       "      <td>0.288675</td>\n",
       "      <td>0.365148</td>\n",
       "      <td>0.000000</td>\n",
       "      <td>0.000000</td>\n",
       "      <td>0.255377</td>\n",
       "      <td>1.000000</td>\n",
       "      <td>0.078567</td>\n",
       "      <td>0.182574</td>\n",
       "    </tr>\n",
       "    <tr>\n",
       "      <th>9220445660318725468</th>\n",
       "      <td>0.000000</td>\n",
       "      <td>0.0</td>\n",
       "      <td>0.041030</td>\n",
       "      <td>0.158763</td>\n",
       "      <td>0.000000</td>\n",
       "      <td>0.037743</td>\n",
       "      <td>0.0</td>\n",
       "      <td>0.032075</td>\n",
       "      <td>0.000000</td>\n",
       "      <td>0.000000</td>\n",
       "      <td>...</td>\n",
       "      <td>0.000000</td>\n",
       "      <td>0.049690</td>\n",
       "      <td>0.136083</td>\n",
       "      <td>0.000000</td>\n",
       "      <td>0.136083</td>\n",
       "      <td>0.060858</td>\n",
       "      <td>0.080257</td>\n",
       "      <td>0.078567</td>\n",
       "      <td>1.000000</td>\n",
       "      <td>0.086066</td>\n",
       "    </tr>\n",
       "    <tr>\n",
       "      <th>9222265156747237864</th>\n",
       "      <td>0.000000</td>\n",
       "      <td>0.0</td>\n",
       "      <td>0.095346</td>\n",
       "      <td>0.000000</td>\n",
       "      <td>0.000000</td>\n",
       "      <td>0.000000</td>\n",
       "      <td>0.0</td>\n",
       "      <td>0.074536</td>\n",
       "      <td>0.000000</td>\n",
       "      <td>0.000000</td>\n",
       "      <td>...</td>\n",
       "      <td>0.000000</td>\n",
       "      <td>0.115470</td>\n",
       "      <td>0.158114</td>\n",
       "      <td>0.000000</td>\n",
       "      <td>0.000000</td>\n",
       "      <td>0.000000</td>\n",
       "      <td>0.093250</td>\n",
       "      <td>0.182574</td>\n",
       "      <td>0.086066</td>\n",
       "      <td>1.000000</td>\n",
       "    </tr>\n",
       "  </tbody>\n",
       "</table>\n",
       "<p>2987 rows × 2987 columns</p>\n",
       "</div>"
      ],
      "text/plain": [
       "item_id               -9222795471790223670  -9216926795620865886  \\\n",
       "item_id                                                            \n",
       "-9222795471790223670              1.000000                   0.0   \n",
       "-9216926795620865886              0.000000                   1.0   \n",
       "-9194572880052200111              0.000000                   0.0   \n",
       "-9192549002213406534              0.166667                   0.0   \n",
       "-9190737901804729417              0.070711                   0.0   \n",
       "...                                    ...                   ...   \n",
       " 9213260650272029784              0.000000                   0.0   \n",
       " 9215261273565326920              0.000000                   0.0   \n",
       " 9217155070834564627              0.288675                   0.0   \n",
       " 9220445660318725468              0.000000                   0.0   \n",
       " 9222265156747237864              0.000000                   0.0   \n",
       "\n",
       "item_id               -9194572880052200111  -9192549002213406534  \\\n",
       "item_id                                                            \n",
       "-9222795471790223670              0.000000              0.166667   \n",
       "-9216926795620865886              0.000000              0.000000   \n",
       "-9194572880052200111              1.000000              0.150756   \n",
       "-9192549002213406534              0.150756              1.000000   \n",
       "-9190737901804729417              0.000000              0.000000   \n",
       "...                                    ...                   ...   \n",
       " 9213260650272029784              0.337100              0.074536   \n",
       " 9215261273565326920              0.044455              0.049147   \n",
       " 9217155070834564627              0.000000              0.144338   \n",
       " 9220445660318725468              0.041030              0.158763   \n",
       " 9222265156747237864              0.095346              0.000000   \n",
       "\n",
       "item_id               -9190737901804729417  -9189659052158407108  \\\n",
       "item_id                                                            \n",
       "-9222795471790223670              0.070711              0.000000   \n",
       "-9216926795620865886              0.000000              0.062017   \n",
       "-9194572880052200111              0.000000              0.083624   \n",
       "-9192549002213406534              0.000000              0.138675   \n",
       "-9190737901804729417              1.000000              0.000000   \n",
       "...                                    ...                   ...   \n",
       " 9213260650272029784              0.000000              0.124035   \n",
       " 9215261273565326920              0.000000              0.245358   \n",
       " 9217155070834564627              0.000000              0.000000   \n",
       " 9220445660318725468              0.000000              0.037743   \n",
       " 9222265156747237864              0.000000              0.000000   \n",
       "\n",
       "item_id               -9184137057748005562  -9176143510534135851  \\\n",
       "item_id                                                            \n",
       "-9222795471790223670                   0.0              0.329983   \n",
       "-9216926795620865886                   0.0              0.000000   \n",
       "-9194572880052200111                   0.0              0.000000   \n",
       "-9192549002213406534                   0.0              0.117851   \n",
       "-9190737901804729417                   0.0              0.000000   \n",
       "...                                    ...                   ...   \n",
       " 9213260650272029784                   0.0              0.052705   \n",
       " 9215261273565326920                   0.0              0.208514   \n",
       " 9217155070834564627                   0.0              0.204124   \n",
       " 9220445660318725468                   0.0              0.032075   \n",
       " 9222265156747237864                   0.0              0.074536   \n",
       "\n",
       "item_id               -9172673334835262304  -9171475473795142532  ...  \\\n",
       "item_id                                                           ...   \n",
       "-9222795471790223670              0.000000              0.000000  ...   \n",
       "-9216926795620865886              0.000000              0.000000  ...   \n",
       "-9194572880052200111              0.000000              0.000000  ...   \n",
       "-9192549002213406534              0.117851              0.102062  ...   \n",
       "-9190737901804729417              0.000000              0.000000  ...   \n",
       "...                                    ...                   ...  ...   \n",
       " 9213260650272029784              0.000000              0.000000  ...   \n",
       " 9215261273565326920              0.000000              0.180579  ...   \n",
       " 9217155070834564627              0.000000              0.000000  ...   \n",
       " 9220445660318725468              0.000000              0.000000  ...   \n",
       " 9222265156747237864              0.000000              0.000000  ...   \n",
       "\n",
       "item_id                9191014301634017491   9207286802575546269  \\\n",
       "item_id                                                            \n",
       "-9222795471790223670              0.392232              0.182574   \n",
       "-9216926795620865886              0.000000              0.000000   \n",
       "-9194572880052200111              0.000000              0.000000   \n",
       "-9192549002213406534              0.000000              0.152145   \n",
       "-9190737901804729417              0.000000              0.129099   \n",
       "...                                    ...                   ...   \n",
       " 9213260650272029784              0.000000              0.000000   \n",
       " 9215261273565326920              0.000000              0.323029   \n",
       " 9217155070834564627              0.000000              0.210819   \n",
       " 9220445660318725468              0.000000              0.049690   \n",
       " 9222265156747237864              0.000000              0.115470   \n",
       "\n",
       "item_id                9208127165664287660   9209629151177723638  \\\n",
       "item_id                                                            \n",
       "-9222795471790223670              0.000000              0.632456   \n",
       "-9216926795620865886              0.000000              0.000000   \n",
       "-9194572880052200111              0.000000              0.000000   \n",
       "-9192549002213406534              0.083333              0.105409   \n",
       "-9190737901804729417              0.000000              0.223607   \n",
       "...                                    ...                   ...   \n",
       " 9213260650272029784              0.000000              0.000000   \n",
       " 9215261273565326920              0.442326              0.000000   \n",
       " 9217155070834564627              0.288675              0.365148   \n",
       " 9220445660318725468              0.136083              0.000000   \n",
       " 9222265156747237864              0.158114              0.000000   \n",
       "\n",
       "item_id                9209886322932807692   9213260650272029784  \\\n",
       "item_id                                                            \n",
       "-9222795471790223670              0.000000              0.000000   \n",
       "-9216926795620865886              0.000000              0.000000   \n",
       "-9194572880052200111              0.100504              0.337100   \n",
       "-9192549002213406534              0.277778              0.074536   \n",
       "-9190737901804729417              0.000000              0.000000   \n",
       "...                                    ...                   ...   \n",
       " 9213260650272029784              0.074536              1.000000   \n",
       " 9215261273565326920              0.049147              0.065938   \n",
       " 9217155070834564627              0.000000              0.000000   \n",
       " 9220445660318725468              0.136083              0.060858   \n",
       " 9222265156747237864              0.000000              0.000000   \n",
       "\n",
       "item_id                9215261273565326920   9217155070834564627  \\\n",
       "item_id                                                            \n",
       "-9222795471790223670              0.000000              0.288675   \n",
       "-9216926795620865886              0.000000              0.000000   \n",
       "-9194572880052200111              0.044455              0.000000   \n",
       "-9192549002213406534              0.049147              0.144338   \n",
       "-9190737901804729417              0.000000              0.000000   \n",
       "...                                    ...                   ...   \n",
       " 9213260650272029784              0.065938              0.000000   \n",
       " 9215261273565326920              1.000000              0.255377   \n",
       " 9217155070834564627              0.255377              1.000000   \n",
       " 9220445660318725468              0.080257              0.078567   \n",
       " 9222265156747237864              0.093250              0.182574   \n",
       "\n",
       "item_id                9220445660318725468   9222265156747237864  \n",
       "item_id                                                           \n",
       "-9222795471790223670              0.000000              0.000000  \n",
       "-9216926795620865886              0.000000              0.000000  \n",
       "-9194572880052200111              0.041030              0.095346  \n",
       "-9192549002213406534              0.158763              0.000000  \n",
       "-9190737901804729417              0.000000              0.000000  \n",
       "...                                    ...                   ...  \n",
       " 9213260650272029784              0.060858              0.000000  \n",
       " 9215261273565326920              0.080257              0.093250  \n",
       " 9217155070834564627              0.078567              0.182574  \n",
       " 9220445660318725468              1.000000              0.086066  \n",
       " 9222265156747237864              0.086066              1.000000  \n",
       "\n",
       "[2987 rows x 2987 columns]"
      ]
     },
     "execution_count": 153,
     "metadata": {},
     "output_type": "execute_result"
    }
   ],
   "source": [
    "item_similarity_df"
   ]
  },
  {
   "cell_type": "code",
   "execution_count": 154,
   "metadata": {},
   "outputs": [],
   "source": [
    "# items similar to -9222795471790223670\n",
    "\n",
    "# item_similarity_df[-9222795471790223670].sort_values(ascending=False)[1:6]"
   ]
  },
  {
   "cell_type": "code",
   "execution_count": null,
   "metadata": {},
   "outputs": [],
   "source": []
  },
  {
   "cell_type": "code",
   "execution_count": null,
   "metadata": {},
   "outputs": [],
   "source": []
  },
  {
   "cell_type": "markdown",
   "metadata": {},
   "source": [
    "# ALS"
   ]
  },
  {
   "cell_type": "code",
   "execution_count": 155,
   "metadata": {},
   "outputs": [],
   "source": [
    "import implicit\n",
    "from implicit.evaluation import train_test_split as impl_train_test_split\n",
    "\n",
    "from scipy.sparse import csr_matrix\n",
    "\n",
    "import tqdm"
   ]
  },
  {
   "cell_type": "code",
   "execution_count": 156,
   "metadata": {},
   "outputs": [],
   "source": [
    "alpha = 40"
   ]
  },
  {
   "cell_type": "code",
   "execution_count": 157,
   "metadata": {},
   "outputs": [
    {
     "data": {
      "text/plain": [
       "(40710,)"
      ]
     },
     "execution_count": 157,
     "metadata": {},
     "output_type": "execute_result"
    }
   ],
   "source": [
    "consumer_transactions_df.item_id.shape"
   ]
  },
  {
   "cell_type": "code",
   "execution_count": 158,
   "metadata": {},
   "outputs": [
    {
     "data": {
      "text/plain": [
       "array([ 3460026829794173084, -7820640624231356730, -1492913151930215984,\n",
       "       ...,  -282629989972409543, -6468782714472551646,\n",
       "       -9040419159428373932], dtype=int64)"
      ]
     },
     "execution_count": 158,
     "metadata": {},
     "output_type": "execute_result"
    }
   ],
   "source": [
    "consumer_transactions_df.item_id.unique()"
   ]
  },
  {
   "cell_type": "code",
   "execution_count": 159,
   "metadata": {},
   "outputs": [],
   "source": [
    "consumer_transactions_als_df = consumer_transactions_df.copy()"
   ]
  },
  {
   "cell_type": "code",
   "execution_count": 160,
   "metadata": {},
   "outputs": [],
   "source": [
    "# create mapping dictionary\n",
    "\n",
    "all_item_ids = list(platform_content.item_id)\n",
    "all_item_ids.extend(list(consumer_transactions.item_id))\n",
    "\n",
    "mapItemIdToNumber = {item_id:i for i, item_id in enumerate(sorted(list(set(all_item_ids))))}\n",
    "mapConsumerIdToNumber = {consumer_id:i for i, consumer_id in enumerate(sorted(list(set(consumer_transactions.consumer_id))))}"
   ]
  },
  {
   "cell_type": "code",
   "execution_count": 161,
   "metadata": {},
   "outputs": [],
   "source": [
    "test_als_df = test.copy()\n",
    "train_als_df = train.copy()"
   ]
  },
  {
   "cell_type": "code",
   "execution_count": 162,
   "metadata": {},
   "outputs": [],
   "source": [
    "# train"
   ]
  },
  {
   "cell_type": "code",
   "execution_count": 163,
   "metadata": {},
   "outputs": [],
   "source": [
    "train_als_df['consumer_id_mapped'] = train.consumer_id.map(mapConsumerIdToNumber)\n",
    "train_als_df['item_id_mapped'] = train.item_id.map(mapItemIdToNumber)"
   ]
  },
  {
   "cell_type": "code",
   "execution_count": 164,
   "metadata": {},
   "outputs": [],
   "source": [
    "test_als_df['consumer_id_mapped'] = test.consumer_id.map(mapConsumerIdToNumber)\n",
    "test_als_df['item_id_mapped'] = test.item_id.map(mapItemIdToNumber)"
   ]
  },
  {
   "cell_type": "code",
   "execution_count": 165,
   "metadata": {},
   "outputs": [
    {
     "data": {
      "text/html": [
       "<div>\n",
       "<style scoped>\n",
       "    .dataframe tbody tr th:only-of-type {\n",
       "        vertical-align: middle;\n",
       "    }\n",
       "\n",
       "    .dataframe tbody tr th {\n",
       "        vertical-align: top;\n",
       "    }\n",
       "\n",
       "    .dataframe thead th {\n",
       "        text-align: right;\n",
       "    }\n",
       "</style>\n",
       "<table border=\"1\" class=\"dataframe\">\n",
       "  <thead>\n",
       "    <tr style=\"text-align: right;\">\n",
       "      <th></th>\n",
       "      <th>item_id</th>\n",
       "      <th>consumer_id</th>\n",
       "      <th>ratings</th>\n",
       "      <th>predicted_ratings</th>\n",
       "      <th>consumer_id_mapped</th>\n",
       "      <th>item_id_mapped</th>\n",
       "    </tr>\n",
       "  </thead>\n",
       "  <tbody>\n",
       "    <tr>\n",
       "      <th>59381</th>\n",
       "      <td>-8800029253812071912</td>\n",
       "      <td>-709287718034731589</td>\n",
       "      <td>5</td>\n",
       "      <td>6.103887</td>\n",
       "      <td>858</td>\n",
       "      <td>90</td>\n",
       "    </tr>\n",
       "    <tr>\n",
       "      <th>19221</th>\n",
       "      <td>-1622037268576555626</td>\n",
       "      <td>8180111365399889286</td>\n",
       "      <td>1</td>\n",
       "      <td>2.322805</td>\n",
       "      <td>1774</td>\n",
       "      <td>1231</td>\n",
       "    </tr>\n",
       "    <tr>\n",
       "      <th>64384</th>\n",
       "      <td>-1259410223376598430</td>\n",
       "      <td>-4092545774372727680</td>\n",
       "      <td>1</td>\n",
       "      <td>1.958997</td>\n",
       "      <td>530</td>\n",
       "      <td>1292</td>\n",
       "    </tr>\n",
       "    <tr>\n",
       "      <th>2873</th>\n",
       "      <td>7414483722019578252</td>\n",
       "      <td>3636910968448833585</td>\n",
       "      <td>1</td>\n",
       "      <td>2.960310</td>\n",
       "      <td>1323</td>\n",
       "      <td>2747</td>\n",
       "    </tr>\n",
       "    <tr>\n",
       "      <th>67575</th>\n",
       "      <td>-7113155163062752691</td>\n",
       "      <td>-4246695160507476121</td>\n",
       "      <td>1</td>\n",
       "      <td>5.587051</td>\n",
       "      <td>512</td>\n",
       "      <td>363</td>\n",
       "    </tr>\n",
       "    <tr>\n",
       "      <th>...</th>\n",
       "      <td>...</td>\n",
       "      <td>...</td>\n",
       "      <td>...</td>\n",
       "      <td>...</td>\n",
       "      <td>...</td>\n",
       "      <td>...</td>\n",
       "    </tr>\n",
       "    <tr>\n",
       "      <th>61422</th>\n",
       "      <td>7255021292858609470</td>\n",
       "      <td>-2074199579534092070</td>\n",
       "      <td>1</td>\n",
       "      <td>2.628725</td>\n",
       "      <td>733</td>\n",
       "      <td>2724</td>\n",
       "    </tr>\n",
       "    <tr>\n",
       "      <th>7733</th>\n",
       "      <td>8890720798209849691</td>\n",
       "      <td>3609194402293569455</td>\n",
       "      <td>1</td>\n",
       "      <td>5.616044</td>\n",
       "      <td>1319</td>\n",
       "      <td>2994</td>\n",
       "    </tr>\n",
       "    <tr>\n",
       "      <th>30054</th>\n",
       "      <td>7540764978459875963</td>\n",
       "      <td>801895594717772308</td>\n",
       "      <td>1</td>\n",
       "      <td>2.146102</td>\n",
       "      <td>1020</td>\n",
       "      <td>2780</td>\n",
       "    </tr>\n",
       "    <tr>\n",
       "      <th>51988</th>\n",
       "      <td>5008913705695203000</td>\n",
       "      <td>-709287718034731589</td>\n",
       "      <td>1</td>\n",
       "      <td>3.433557</td>\n",
       "      <td>858</td>\n",
       "      <td>2342</td>\n",
       "    </tr>\n",
       "    <tr>\n",
       "      <th>50473</th>\n",
       "      <td>4307023751244532288</td>\n",
       "      <td>8250502084456448386</td>\n",
       "      <td>1</td>\n",
       "      <td>1.680583</td>\n",
       "      <td>1782</td>\n",
       "      <td>2213</td>\n",
       "    </tr>\n",
       "  </tbody>\n",
       "</table>\n",
       "<p>32568 rows × 6 columns</p>\n",
       "</div>"
      ],
      "text/plain": [
       "                   item_id          consumer_id  ratings  predicted_ratings  \\\n",
       "59381 -8800029253812071912  -709287718034731589        5           6.103887   \n",
       "19221 -1622037268576555626  8180111365399889286        1           2.322805   \n",
       "64384 -1259410223376598430 -4092545774372727680        1           1.958997   \n",
       "2873   7414483722019578252  3636910968448833585        1           2.960310   \n",
       "67575 -7113155163062752691 -4246695160507476121        1           5.587051   \n",
       "...                    ...                  ...      ...                ...   \n",
       "61422  7255021292858609470 -2074199579534092070        1           2.628725   \n",
       "7733   8890720798209849691  3609194402293569455        1           5.616044   \n",
       "30054  7540764978459875963   801895594717772308        1           2.146102   \n",
       "51988  5008913705695203000  -709287718034731589        1           3.433557   \n",
       "50473  4307023751244532288  8250502084456448386        1           1.680583   \n",
       "\n",
       "       consumer_id_mapped  item_id_mapped  \n",
       "59381                 858              90  \n",
       "19221                1774            1231  \n",
       "64384                 530            1292  \n",
       "2873                 1323            2747  \n",
       "67575                 512             363  \n",
       "...                   ...             ...  \n",
       "61422                 733            2724  \n",
       "7733                 1319            2994  \n",
       "30054                1020            2780  \n",
       "51988                 858            2342  \n",
       "50473                1782            2213  \n",
       "\n",
       "[32568 rows x 6 columns]"
      ]
     },
     "execution_count": 165,
     "metadata": {},
     "output_type": "execute_result"
    }
   ],
   "source": [
    "train_als_df"
   ]
  },
  {
   "cell_type": "code",
   "execution_count": 166,
   "metadata": {},
   "outputs": [],
   "source": [
    "train_als_df = train_als_df[['consumer_id_mapped', 'item_id_mapped', 'ratings']]"
   ]
  },
  {
   "cell_type": "code",
   "execution_count": 167,
   "metadata": {},
   "outputs": [
    {
     "data": {
      "text/html": [
       "<div>\n",
       "<style scoped>\n",
       "    .dataframe tbody tr th:only-of-type {\n",
       "        vertical-align: middle;\n",
       "    }\n",
       "\n",
       "    .dataframe tbody tr th {\n",
       "        vertical-align: top;\n",
       "    }\n",
       "\n",
       "    .dataframe thead th {\n",
       "        text-align: right;\n",
       "    }\n",
       "</style>\n",
       "<table border=\"1\" class=\"dataframe\">\n",
       "  <thead>\n",
       "    <tr style=\"text-align: right;\">\n",
       "      <th></th>\n",
       "      <th>consumer_id_mapped</th>\n",
       "      <th>item_id_mapped</th>\n",
       "      <th>ratings</th>\n",
       "    </tr>\n",
       "  </thead>\n",
       "  <tbody>\n",
       "    <tr>\n",
       "      <th>59381</th>\n",
       "      <td>858</td>\n",
       "      <td>90</td>\n",
       "      <td>5</td>\n",
       "    </tr>\n",
       "    <tr>\n",
       "      <th>19221</th>\n",
       "      <td>1774</td>\n",
       "      <td>1231</td>\n",
       "      <td>1</td>\n",
       "    </tr>\n",
       "    <tr>\n",
       "      <th>64384</th>\n",
       "      <td>530</td>\n",
       "      <td>1292</td>\n",
       "      <td>1</td>\n",
       "    </tr>\n",
       "    <tr>\n",
       "      <th>2873</th>\n",
       "      <td>1323</td>\n",
       "      <td>2747</td>\n",
       "      <td>1</td>\n",
       "    </tr>\n",
       "    <tr>\n",
       "      <th>67575</th>\n",
       "      <td>512</td>\n",
       "      <td>363</td>\n",
       "      <td>1</td>\n",
       "    </tr>\n",
       "  </tbody>\n",
       "</table>\n",
       "</div>"
      ],
      "text/plain": [
       "       consumer_id_mapped  item_id_mapped  ratings\n",
       "59381                 858              90        5\n",
       "19221                1774            1231        1\n",
       "64384                 530            1292        1\n",
       "2873                 1323            2747        1\n",
       "67575                 512             363        1"
      ]
     },
     "execution_count": 167,
     "metadata": {},
     "output_type": "execute_result"
    }
   ],
   "source": [
    "train_als_df.head()"
   ]
  },
  {
   "cell_type": "code",
   "execution_count": 168,
   "metadata": {},
   "outputs": [
    {
     "data": {
      "text/plain": [
       "32568"
      ]
     },
     "execution_count": 168,
     "metadata": {},
     "output_type": "execute_result"
    }
   ],
   "source": [
    "train_als_df.shape[0]"
   ]
  },
  {
   "cell_type": "code",
   "execution_count": 169,
   "metadata": {},
   "outputs": [
    {
     "data": {
      "text/plain": [
       "(2916,)"
      ]
     },
     "execution_count": 169,
     "metadata": {},
     "output_type": "execute_result"
    }
   ],
   "source": [
    "train_als_df['item_id_mapped'].unique().shape"
   ]
  },
  {
   "cell_type": "code",
   "execution_count": 170,
   "metadata": {},
   "outputs": [
    {
     "data": {
      "text/plain": [
       "(0, 3048)"
      ]
     },
     "execution_count": 170,
     "metadata": {},
     "output_type": "execute_result"
    }
   ],
   "source": [
    "train_als_df['item_id_mapped'].min(), train_als_df['item_id_mapped'].max()"
   ]
  },
  {
   "cell_type": "code",
   "execution_count": null,
   "metadata": {},
   "outputs": [],
   "source": []
  },
  {
   "cell_type": "code",
   "execution_count": null,
   "metadata": {},
   "outputs": [],
   "source": []
  },
  {
   "cell_type": "code",
   "execution_count": null,
   "metadata": {},
   "outputs": [],
   "source": []
  },
  {
   "cell_type": "code",
   "execution_count": null,
   "metadata": {},
   "outputs": [],
   "source": []
  },
  {
   "cell_type": "code",
   "execution_count": 171,
   "metadata": {},
   "outputs": [],
   "source": [
    "sparse_user_item = csr_matrix( ([alpha]*train_als_df.shape[0], (train_als_df['consumer_id_mapped'], train_als_df['item_id_mapped']) ))"
   ]
  },
  {
   "cell_type": "code",
   "execution_count": 172,
   "metadata": {},
   "outputs": [
    {
     "data": {
      "text/plain": [
       "array([[ 0,  0,  0, ...,  0,  0,  0],\n",
       "       [ 0,  0,  0, ...,  0,  0,  0],\n",
       "       [ 0, 40,  0, ...,  0,  0,  0],\n",
       "       ...,\n",
       "       [ 0,  0,  0, ...,  0,  0,  0],\n",
       "       [ 0,  0,  0, ...,  0,  0,  0],\n",
       "       [ 0,  0,  0, ...,  0,  0,  0]], dtype=int32)"
      ]
     },
     "execution_count": 172,
     "metadata": {},
     "output_type": "execute_result"
    }
   ],
   "source": [
    "sparse_user_item.toarray()"
   ]
  },
  {
   "cell_type": "code",
   "execution_count": 173,
   "metadata": {},
   "outputs": [
    {
     "data": {
      "text/plain": [
       "(1895, 3049)"
      ]
     },
     "execution_count": 173,
     "metadata": {},
     "output_type": "execute_result"
    }
   ],
   "source": [
    "sparse_user_item.shape"
   ]
  },
  {
   "cell_type": "code",
   "execution_count": 174,
   "metadata": {},
   "outputs": [],
   "source": [
    "# train_als, test_als = impl_train_test_split(sparse_user_item, train_percentage=0.20)\n",
    "# train_als, test_als = implicit.evaluation.leave_k_out_split(\n",
    "#     sparse_user_item, K=1, train_only_size=0.0, random_state=None\n",
    "# )"
   ]
  },
  {
   "cell_type": "code",
   "execution_count": 175,
   "metadata": {},
   "outputs": [
    {
     "data": {
      "text/plain": [
       "((1895, 3049), 6)"
      ]
     },
     "execution_count": 175,
     "metadata": {},
     "output_type": "execute_result"
    }
   ],
   "source": [
    "sparse_user_item.shape, test_als_df.shape[1]"
   ]
  },
  {
   "cell_type": "code",
   "execution_count": 176,
   "metadata": {},
   "outputs": [],
   "source": [
    "# test_als_df = pd.DataFrame(test_als.toarray(),\n",
    "#                            index=range(test_als.shape[0]),\n",
    "#                            columns=range(test_als.shape[1]))"
   ]
  },
  {
   "cell_type": "code",
   "execution_count": 177,
   "metadata": {},
   "outputs": [],
   "source": [
    "# test_als_df.head()"
   ]
  },
  {
   "cell_type": "code",
   "execution_count": 178,
   "metadata": {},
   "outputs": [],
   "source": [
    "sparse_item_user = sparse_user_item.T.tocsr()"
   ]
  },
  {
   "cell_type": "code",
   "execution_count": 179,
   "metadata": {},
   "outputs": [],
   "source": [
    "train_als, test_als = impl_train_test_split(sparse_user_item, train_percentage=0.20)"
   ]
  },
  {
   "cell_type": "code",
   "execution_count": 180,
   "metadata": {},
   "outputs": [],
   "source": [
    "\n",
    "model = implicit.als.AlternatingLeastSquares(factors=200, regularization=0.01, iterations=100, calculate_training_loss=True)\n"
   ]
  },
  {
   "cell_type": "code",
   "execution_count": 181,
   "metadata": {},
   "outputs": [],
   "source": [
    "# train_als, test_als = train_test_split(sparse_item_user, train_percentage=0.8)"
   ]
  },
  {
   "cell_type": "code",
   "execution_count": 182,
   "metadata": {},
   "outputs": [
    {
     "data": {
      "application/vnd.jupyter.widget-view+json": {
       "model_id": "11044ace20bb4edbbd30a12ee306606f",
       "version_major": 2,
       "version_minor": 0
      },
      "text/plain": [
       "  0%|          | 0/100 [00:00<?, ?it/s]"
      ]
     },
     "metadata": {},
     "output_type": "display_data"
    }
   ],
   "source": [
    "model.fit(train_als)"
   ]
  },
  {
   "cell_type": "code",
   "execution_count": 183,
   "metadata": {},
   "outputs": [
    {
     "data": {
      "application/vnd.jupyter.widget-view+json": {
       "model_id": "17e85489c0c141a4b2d9ce081bb29dbf",
       "version_major": 2,
       "version_minor": 0
      },
      "text/plain": [
       "  0%|          | 0/1895 [00:00<?, ?it/s]"
      ]
     },
     "metadata": {},
     "output_type": "display_data"
    },
    {
     "data": {
      "text/plain": [
       "0.008084322554236594"
      ]
     },
     "execution_count": 183,
     "metadata": {},
     "output_type": "execute_result"
    }
   ],
   "source": [
    "implicit.evaluation.precision_at_k(model, train_als, test_als, 10, show_progress=True)"
   ]
  },
  {
   "cell_type": "code",
   "execution_count": 184,
   "metadata": {},
   "outputs": [
    {
     "data": {
      "application/vnd.jupyter.widget-view+json": {
       "model_id": "fabb9a8b06d840f69cfb58b23d8c8b1a",
       "version_major": 2,
       "version_minor": 0
      },
      "text/plain": [
       "  0%|          | 0/1895 [00:00<?, ?it/s]"
      ]
     },
     "metadata": {},
     "output_type": "display_data"
    },
    {
     "data": {
      "text/plain": [
       "0.011828344752975117"
      ]
     },
     "execution_count": 184,
     "metadata": {},
     "output_type": "execute_result"
    }
   ],
   "source": [
    "implicit.evaluation.precision_at_k(model, train_als, test_als, 20, show_progress=True)"
   ]
  },
  {
   "cell_type": "code",
   "execution_count": 185,
   "metadata": {},
   "outputs": [
    {
     "data": {
      "application/vnd.jupyter.widget-view+json": {
       "model_id": "875bac500b374478b0d50b70fe747ae5",
       "version_major": 2,
       "version_minor": 0
      },
      "text/plain": [
       "  0%|          | 0/1895 [00:00<?, ?it/s]"
      ]
     },
     "metadata": {},
     "output_type": "display_data"
    },
    {
     "data": {
      "text/plain": [
       "0.5130518009394289"
      ]
     },
     "execution_count": 185,
     "metadata": {},
     "output_type": "execute_result"
    }
   ],
   "source": [
    "implicit.evaluation.AUC_at_k(model, train_als, test_als, 2000, show_progress=True)"
   ]
  },
  {
   "cell_type": "code",
   "execution_count": 186,
   "metadata": {},
   "outputs": [
    {
     "name": "stdout",
     "output_type": "stream",
     "text": [
      "0.0\n"
     ]
    }
   ],
   "source": [
    "sumOf = 0\n",
    "df = train_als_df\n",
    "for user_id in df.consumer_id_mapped.unique():\n",
    "    temp = model.recommend(user_id, sparse_user_item, filter_already_liked_items = True, N = 20)\n",
    "    temp_item_ids = [preds[0] for preds in temp]\n",
    "    sumOf = sumOf + (len(set(temp_item_ids) & set(df[df.consumer_id_mapped == user_id].sort_values(by='ratings', ascending=False)[:20].item_id_mapped.values)))\n",
    "print(sumOf/len(train_als_df.consumer_id_mapped.unique()))"
   ]
  },
  {
   "cell_type": "code",
   "execution_count": 187,
   "metadata": {},
   "outputs": [
    {
     "data": {
      "text/html": [
       "<div>\n",
       "<style scoped>\n",
       "    .dataframe tbody tr th:only-of-type {\n",
       "        vertical-align: middle;\n",
       "    }\n",
       "\n",
       "    .dataframe tbody tr th {\n",
       "        vertical-align: top;\n",
       "    }\n",
       "\n",
       "    .dataframe thead th {\n",
       "        text-align: right;\n",
       "    }\n",
       "</style>\n",
       "<table border=\"1\" class=\"dataframe\">\n",
       "  <thead>\n",
       "    <tr style=\"text-align: right;\">\n",
       "      <th></th>\n",
       "      <th>consumer_id_mapped</th>\n",
       "      <th>item_id_mapped</th>\n",
       "      <th>ratings</th>\n",
       "    </tr>\n",
       "  </thead>\n",
       "  <tbody>\n",
       "    <tr>\n",
       "      <th>59381</th>\n",
       "      <td>858</td>\n",
       "      <td>90</td>\n",
       "      <td>5</td>\n",
       "    </tr>\n",
       "    <tr>\n",
       "      <th>19221</th>\n",
       "      <td>1774</td>\n",
       "      <td>1231</td>\n",
       "      <td>1</td>\n",
       "    </tr>\n",
       "    <tr>\n",
       "      <th>64384</th>\n",
       "      <td>530</td>\n",
       "      <td>1292</td>\n",
       "      <td>1</td>\n",
       "    </tr>\n",
       "    <tr>\n",
       "      <th>2873</th>\n",
       "      <td>1323</td>\n",
       "      <td>2747</td>\n",
       "      <td>1</td>\n",
       "    </tr>\n",
       "    <tr>\n",
       "      <th>67575</th>\n",
       "      <td>512</td>\n",
       "      <td>363</td>\n",
       "      <td>1</td>\n",
       "    </tr>\n",
       "    <tr>\n",
       "      <th>...</th>\n",
       "      <td>...</td>\n",
       "      <td>...</td>\n",
       "      <td>...</td>\n",
       "    </tr>\n",
       "    <tr>\n",
       "      <th>61422</th>\n",
       "      <td>733</td>\n",
       "      <td>2724</td>\n",
       "      <td>1</td>\n",
       "    </tr>\n",
       "    <tr>\n",
       "      <th>7733</th>\n",
       "      <td>1319</td>\n",
       "      <td>2994</td>\n",
       "      <td>1</td>\n",
       "    </tr>\n",
       "    <tr>\n",
       "      <th>30054</th>\n",
       "      <td>1020</td>\n",
       "      <td>2780</td>\n",
       "      <td>1</td>\n",
       "    </tr>\n",
       "    <tr>\n",
       "      <th>51988</th>\n",
       "      <td>858</td>\n",
       "      <td>2342</td>\n",
       "      <td>1</td>\n",
       "    </tr>\n",
       "    <tr>\n",
       "      <th>50473</th>\n",
       "      <td>1782</td>\n",
       "      <td>2213</td>\n",
       "      <td>1</td>\n",
       "    </tr>\n",
       "  </tbody>\n",
       "</table>\n",
       "<p>32568 rows × 3 columns</p>\n",
       "</div>"
      ],
      "text/plain": [
       "       consumer_id_mapped  item_id_mapped  ratings\n",
       "59381                 858              90        5\n",
       "19221                1774            1231        1\n",
       "64384                 530            1292        1\n",
       "2873                 1323            2747        1\n",
       "67575                 512             363        1\n",
       "...                   ...             ...      ...\n",
       "61422                 733            2724        1\n",
       "7733                 1319            2994        1\n",
       "30054                1020            2780        1\n",
       "51988                 858            2342        1\n",
       "50473                1782            2213        1\n",
       "\n",
       "[32568 rows x 3 columns]"
      ]
     },
     "execution_count": 187,
     "metadata": {},
     "output_type": "execute_result"
    }
   ],
   "source": [
    "train_als_df"
   ]
  },
  {
   "cell_type": "code",
   "execution_count": 188,
   "metadata": {},
   "outputs": [
    {
     "data": {
      "text/plain": [
       "[(58, 0.9535259),\n",
       " (899, 0.34986365),\n",
       " (1212, 0.27803874),\n",
       " (614, 0.25184858),\n",
       " (1672, 0.24587323),\n",
       " (1544, 0.22987324),\n",
       " (1330, 0.2217852),\n",
       " (383, 0.20609924),\n",
       " (32, 0.20424417),\n",
       " (536, 0.19213006)]"
      ]
     },
     "execution_count": 188,
     "metadata": {},
     "output_type": "execute_result"
    }
   ],
   "source": [
    "model.recommend(10, sparse_user_item, filter_already_liked_items=False, N = 10)"
   ]
  },
  {
   "cell_type": "code",
   "execution_count": 189,
   "metadata": {},
   "outputs": [
    {
     "data": {
      "text/html": [
       "<div>\n",
       "<style scoped>\n",
       "    .dataframe tbody tr th:only-of-type {\n",
       "        vertical-align: middle;\n",
       "    }\n",
       "\n",
       "    .dataframe tbody tr th {\n",
       "        vertical-align: top;\n",
       "    }\n",
       "\n",
       "    .dataframe thead th {\n",
       "        text-align: right;\n",
       "    }\n",
       "</style>\n",
       "<table border=\"1\" class=\"dataframe\">\n",
       "  <thead>\n",
       "    <tr style=\"text-align: right;\">\n",
       "      <th></th>\n",
       "      <th>consumer_id_mapped</th>\n",
       "      <th>item_id_mapped</th>\n",
       "      <th>ratings</th>\n",
       "    </tr>\n",
       "  </thead>\n",
       "  <tbody>\n",
       "    <tr>\n",
       "      <th>31812</th>\n",
       "      <td>10</td>\n",
       "      <td>289</td>\n",
       "      <td>1</td>\n",
       "    </tr>\n",
       "    <tr>\n",
       "      <th>22935</th>\n",
       "      <td>10</td>\n",
       "      <td>1642</td>\n",
       "      <td>1</td>\n",
       "    </tr>\n",
       "    <tr>\n",
       "      <th>3966</th>\n",
       "      <td>10</td>\n",
       "      <td>169</td>\n",
       "      <td>1</td>\n",
       "    </tr>\n",
       "    <tr>\n",
       "      <th>14613</th>\n",
       "      <td>10</td>\n",
       "      <td>65</td>\n",
       "      <td>1</td>\n",
       "    </tr>\n",
       "    <tr>\n",
       "      <th>30390</th>\n",
       "      <td>10</td>\n",
       "      <td>1960</td>\n",
       "      <td>1</td>\n",
       "    </tr>\n",
       "    <tr>\n",
       "      <th>21042</th>\n",
       "      <td>10</td>\n",
       "      <td>502</td>\n",
       "      <td>1</td>\n",
       "    </tr>\n",
       "    <tr>\n",
       "      <th>42295</th>\n",
       "      <td>10</td>\n",
       "      <td>297</td>\n",
       "      <td>1</td>\n",
       "    </tr>\n",
       "    <tr>\n",
       "      <th>27808</th>\n",
       "      <td>10</td>\n",
       "      <td>715</td>\n",
       "      <td>1</td>\n",
       "    </tr>\n",
       "    <tr>\n",
       "      <th>65190</th>\n",
       "      <td>10</td>\n",
       "      <td>2690</td>\n",
       "      <td>1</td>\n",
       "    </tr>\n",
       "    <tr>\n",
       "      <th>62272</th>\n",
       "      <td>10</td>\n",
       "      <td>841</td>\n",
       "      <td>1</td>\n",
       "    </tr>\n",
       "    <tr>\n",
       "      <th>31875</th>\n",
       "      <td>10</td>\n",
       "      <td>3004</td>\n",
       "      <td>1</td>\n",
       "    </tr>\n",
       "    <tr>\n",
       "      <th>38585</th>\n",
       "      <td>10</td>\n",
       "      <td>190</td>\n",
       "      <td>1</td>\n",
       "    </tr>\n",
       "    <tr>\n",
       "      <th>25328</th>\n",
       "      <td>10</td>\n",
       "      <td>1821</td>\n",
       "      <td>1</td>\n",
       "    </tr>\n",
       "    <tr>\n",
       "      <th>36389</th>\n",
       "      <td>10</td>\n",
       "      <td>2761</td>\n",
       "      <td>1</td>\n",
       "    </tr>\n",
       "    <tr>\n",
       "      <th>55549</th>\n",
       "      <td>10</td>\n",
       "      <td>2624</td>\n",
       "      <td>1</td>\n",
       "    </tr>\n",
       "    <tr>\n",
       "      <th>18301</th>\n",
       "      <td>10</td>\n",
       "      <td>2235</td>\n",
       "      <td>1</td>\n",
       "    </tr>\n",
       "    <tr>\n",
       "      <th>19628</th>\n",
       "      <td>10</td>\n",
       "      <td>2061</td>\n",
       "      <td>1</td>\n",
       "    </tr>\n",
       "    <tr>\n",
       "      <th>54986</th>\n",
       "      <td>10</td>\n",
       "      <td>2635</td>\n",
       "      <td>1</td>\n",
       "    </tr>\n",
       "    <tr>\n",
       "      <th>25361</th>\n",
       "      <td>10</td>\n",
       "      <td>1748</td>\n",
       "      <td>1</td>\n",
       "    </tr>\n",
       "    <tr>\n",
       "      <th>14309</th>\n",
       "      <td>10</td>\n",
       "      <td>2798</td>\n",
       "      <td>1</td>\n",
       "    </tr>\n",
       "    <tr>\n",
       "      <th>25264</th>\n",
       "      <td>10</td>\n",
       "      <td>1815</td>\n",
       "      <td>1</td>\n",
       "    </tr>\n",
       "    <tr>\n",
       "      <th>48032</th>\n",
       "      <td>10</td>\n",
       "      <td>707</td>\n",
       "      <td>1</td>\n",
       "    </tr>\n",
       "    <tr>\n",
       "      <th>60091</th>\n",
       "      <td>10</td>\n",
       "      <td>2968</td>\n",
       "      <td>1</td>\n",
       "    </tr>\n",
       "    <tr>\n",
       "      <th>60272</th>\n",
       "      <td>10</td>\n",
       "      <td>2384</td>\n",
       "      <td>1</td>\n",
       "    </tr>\n",
       "    <tr>\n",
       "      <th>46599</th>\n",
       "      <td>10</td>\n",
       "      <td>1917</td>\n",
       "      <td>1</td>\n",
       "    </tr>\n",
       "    <tr>\n",
       "      <th>29159</th>\n",
       "      <td>10</td>\n",
       "      <td>663</td>\n",
       "      <td>1</td>\n",
       "    </tr>\n",
       "    <tr>\n",
       "      <th>38772</th>\n",
       "      <td>10</td>\n",
       "      <td>2377</td>\n",
       "      <td>1</td>\n",
       "    </tr>\n",
       "    <tr>\n",
       "      <th>7112</th>\n",
       "      <td>10</td>\n",
       "      <td>2028</td>\n",
       "      <td>1</td>\n",
       "    </tr>\n",
       "    <tr>\n",
       "      <th>4118</th>\n",
       "      <td>10</td>\n",
       "      <td>1682</td>\n",
       "      <td>1</td>\n",
       "    </tr>\n",
       "    <tr>\n",
       "      <th>30095</th>\n",
       "      <td>10</td>\n",
       "      <td>2390</td>\n",
       "      <td>1</td>\n",
       "    </tr>\n",
       "    <tr>\n",
       "      <th>4221</th>\n",
       "      <td>10</td>\n",
       "      <td>581</td>\n",
       "      <td>1</td>\n",
       "    </tr>\n",
       "    <tr>\n",
       "      <th>48928</th>\n",
       "      <td>10</td>\n",
       "      <td>2738</td>\n",
       "      <td>1</td>\n",
       "    </tr>\n",
       "    <tr>\n",
       "      <th>34745</th>\n",
       "      <td>10</td>\n",
       "      <td>2017</td>\n",
       "      <td>1</td>\n",
       "    </tr>\n",
       "    <tr>\n",
       "      <th>71162</th>\n",
       "      <td>10</td>\n",
       "      <td>2601</td>\n",
       "      <td>1</td>\n",
       "    </tr>\n",
       "    <tr>\n",
       "      <th>57131</th>\n",
       "      <td>10</td>\n",
       "      <td>1632</td>\n",
       "      <td>1</td>\n",
       "    </tr>\n",
       "  </tbody>\n",
       "</table>\n",
       "</div>"
      ],
      "text/plain": [
       "       consumer_id_mapped  item_id_mapped  ratings\n",
       "31812                  10             289        1\n",
       "22935                  10            1642        1\n",
       "3966                   10             169        1\n",
       "14613                  10              65        1\n",
       "30390                  10            1960        1\n",
       "21042                  10             502        1\n",
       "42295                  10             297        1\n",
       "27808                  10             715        1\n",
       "65190                  10            2690        1\n",
       "62272                  10             841        1\n",
       "31875                  10            3004        1\n",
       "38585                  10             190        1\n",
       "25328                  10            1821        1\n",
       "36389                  10            2761        1\n",
       "55549                  10            2624        1\n",
       "18301                  10            2235        1\n",
       "19628                  10            2061        1\n",
       "54986                  10            2635        1\n",
       "25361                  10            1748        1\n",
       "14309                  10            2798        1\n",
       "25264                  10            1815        1\n",
       "48032                  10             707        1\n",
       "60091                  10            2968        1\n",
       "60272                  10            2384        1\n",
       "46599                  10            1917        1\n",
       "29159                  10             663        1\n",
       "38772                  10            2377        1\n",
       "7112                   10            2028        1\n",
       "4118                   10            1682        1\n",
       "30095                  10            2390        1\n",
       "4221                   10             581        1\n",
       "48928                  10            2738        1\n",
       "34745                  10            2017        1\n",
       "71162                  10            2601        1\n",
       "57131                  10            1632        1"
      ]
     },
     "execution_count": 189,
     "metadata": {},
     "output_type": "execute_result"
    }
   ],
   "source": [
    "df[df.consumer_id_mapped == 10]"
   ]
  },
  {
   "cell_type": "code",
   "execution_count": 190,
   "metadata": {},
   "outputs": [
    {
     "data": {
      "text/html": [
       "<div>\n",
       "<style scoped>\n",
       "    .dataframe tbody tr th:only-of-type {\n",
       "        vertical-align: middle;\n",
       "    }\n",
       "\n",
       "    .dataframe tbody tr th {\n",
       "        vertical-align: top;\n",
       "    }\n",
       "\n",
       "    .dataframe thead th {\n",
       "        text-align: right;\n",
       "    }\n",
       "</style>\n",
       "<table border=\"1\" class=\"dataframe\">\n",
       "  <thead>\n",
       "    <tr style=\"text-align: right;\">\n",
       "      <th></th>\n",
       "      <th>consumer_id_mapped</th>\n",
       "      <th>item_id_mapped</th>\n",
       "      <th>ratings</th>\n",
       "    </tr>\n",
       "  </thead>\n",
       "  <tbody>\n",
       "    <tr>\n",
       "      <th>37957</th>\n",
       "      <td>1</td>\n",
       "      <td>2366</td>\n",
       "      <td>1</td>\n",
       "    </tr>\n",
       "    <tr>\n",
       "      <th>30585</th>\n",
       "      <td>1</td>\n",
       "      <td>1805</td>\n",
       "      <td>1</td>\n",
       "    </tr>\n",
       "    <tr>\n",
       "      <th>23674</th>\n",
       "      <td>1</td>\n",
       "      <td>1343</td>\n",
       "      <td>1</td>\n",
       "    </tr>\n",
       "    <tr>\n",
       "      <th>29465</th>\n",
       "      <td>1</td>\n",
       "      <td>2651</td>\n",
       "      <td>1</td>\n",
       "    </tr>\n",
       "  </tbody>\n",
       "</table>\n",
       "</div>"
      ],
      "text/plain": [
       "       consumer_id_mapped  item_id_mapped  ratings\n",
       "37957                   1            2366        1\n",
       "30585                   1            1805        1\n",
       "23674                   1            1343        1\n",
       "29465                   1            2651        1"
      ]
     },
     "execution_count": 190,
     "metadata": {},
     "output_type": "execute_result"
    }
   ],
   "source": [
    "train_als_df[train_als_df.consumer_id_mapped==1]"
   ]
  },
  {
   "cell_type": "code",
   "execution_count": 191,
   "metadata": {},
   "outputs": [],
   "source": [
    "# user_id = 20\n",
    "# temp = model.recommend(user_id, sparse_user_item, filter_already_liked_items=False, N = 10)"
   ]
  },
  {
   "cell_type": "code",
   "execution_count": 192,
   "metadata": {},
   "outputs": [],
   "source": [
    "# temp.sort(key=lambda a:-a[1])"
   ]
  },
  {
   "cell_type": "code",
   "execution_count": 193,
   "metadata": {},
   "outputs": [],
   "source": [
    "# temp.sort(key=lambda a:a[0])"
   ]
  },
  {
   "cell_type": "code",
   "execution_count": 194,
   "metadata": {},
   "outputs": [],
   "source": [
    "# temp_item_ids = [preds[0] for preds in temp]"
   ]
  },
  {
   "cell_type": "code",
   "execution_count": 195,
   "metadata": {},
   "outputs": [],
   "source": [
    "# set(temp_item_ids)"
   ]
  },
  {
   "cell_type": "code",
   "execution_count": 196,
   "metadata": {},
   "outputs": [],
   "source": [
    "# test_als_df['consumer_id_mapped'] = test.consumer_id.map(mapConsumerIdToNumber)\n",
    "# test_als_df['item_id_mapped'] = test.item_id.map(mapItemIdToNumber)"
   ]
  },
  {
   "cell_type": "code",
   "execution_count": 197,
   "metadata": {},
   "outputs": [],
   "source": [
    "# test_als_df[test_als_df.consumer_id_mapped == 10].sort_values(by='ratings', ascending=False)[:10].item_id_mapped.values"
   ]
  },
  {
   "cell_type": "code",
   "execution_count": 198,
   "metadata": {},
   "outputs": [],
   "source": [
    "# set(temp_item_ids) & set(test_als_df[test_als_df.consumer_id_mapped == 10].sort_values(by='ratings', ascending=False)[:10].item_id_mapped.values)"
   ]
  },
  {
   "cell_type": "code",
   "execution_count": 199,
   "metadata": {},
   "outputs": [],
   "source": [
    "# model.recommend(user_id)"
   ]
  },
  {
   "cell_type": "code",
   "execution_count": 200,
   "metadata": {},
   "outputs": [],
   "source": [
    "sumOf = 0\n",
    "for user_id in test_als_df.consumer_id_mapped.unique():\n",
    "    temp = model.recommend(user_id, sparse_user_item, filter_already_liked_items=True, N = 5)\n",
    "    temp_item_ids = [preds[0] for preds in temp]\n",
    "    sumOf = sumOf + (len(set(temp_item_ids) & set(test_als_df[test_als_df.consumer_id_mapped == user_id].sort_values(by='ratings', ascending=False)[:20].item_id_mapped.values)))"
   ]
  },
  {
   "cell_type": "code",
   "execution_count": null,
   "metadata": {},
   "outputs": [],
   "source": []
  },
  {
   "cell_type": "code",
   "execution_count": 201,
   "metadata": {},
   "outputs": [
    {
     "data": {
      "text/plain": [
       "0.013980263157894737"
      ]
     },
     "execution_count": 201,
     "metadata": {},
     "output_type": "execute_result"
    }
   ],
   "source": [
    "sumOf/len(test_als_df.consumer_id_mapped.unique())"
   ]
  },
  {
   "cell_type": "code",
   "execution_count": null,
   "metadata": {},
   "outputs": [],
   "source": []
  },
  {
   "cell_type": "code",
   "execution_count": 202,
   "metadata": {},
   "outputs": [],
   "source": [
    "# consumer_transactions_als_df[consumer_transactions_als_df.consumer_id_mapped == user_id].sort_values(by='ratings', ascending=False)"
   ]
  },
  {
   "cell_type": "code",
   "execution_count": 203,
   "metadata": {},
   "outputs": [],
   "source": [
    "# pred0 = pd.DataFrame(temp, columns=['item_id_mapped', 'pred_ratings'])"
   ]
  },
  {
   "cell_type": "code",
   "execution_count": 204,
   "metadata": {},
   "outputs": [],
   "source": [
    "# test_als_df.loc[user_id].sort_values(ascending=False)[:10]"
   ]
  },
  {
   "cell_type": "code",
   "execution_count": null,
   "metadata": {},
   "outputs": [],
   "source": []
  },
  {
   "cell_type": "code",
   "execution_count": null,
   "metadata": {},
   "outputs": [],
   "source": []
  },
  {
   "cell_type": "code",
   "execution_count": 205,
   "metadata": {},
   "outputs": [],
   "source": [
    "platform_content_df = platform_content_df.assign(item_id_mapped = platform_content_df.item_id.map(mapItemIdToNumber))"
   ]
  },
  {
   "cell_type": "code",
   "execution_count": null,
   "metadata": {},
   "outputs": [],
   "source": []
  },
  {
   "cell_type": "code",
   "execution_count": null,
   "metadata": {},
   "outputs": [],
   "source": []
  },
  {
   "cell_type": "code",
   "execution_count": 244,
   "metadata": {},
   "outputs": [],
   "source": [
    "import gensim\n",
    "from gensim.corpora.dictionary import Dictionary\n",
    "from gensim.models.tfidfmodel import TfidfModel\n",
    "from gensim.similarities import MatrixSimilarity\n",
    "\n",
    "class NewsRecommender():\n",
    "    def __init__(self, df_platform_content, df_consumer_transactions):\n",
    "        self.df_platform_content = df_platform_content\n",
    "        self.df_consumer_transactions = df_consumer_transactions\n",
    "        self.train_content_based()\n",
    "        self.train_collaborative_user_based()\n",
    "        self.train_collaborative_item_based()\n",
    "#         self.train_als()\n",
    "        \n",
    "    def train_content_based(self):\n",
    "        df = self.df_platform_content\n",
    "        self.df_platform_content = df.assign(tokens = (df['title'] + ' ' + df['text_description']).map(lambda t:self.tokenize(t)))\n",
    "        self.dictionary = Dictionary(self.df_platform_content.tokens.str.split(','))\n",
    "        self.corpus = [self.dictionary.doc2bow(doc) for doc in self.df_platform_content.tokens.str.split(',')]\n",
    "        self.tfidf = TfidfModel(self.corpus)\n",
    "        self.sims = MatrixSimilarity(self.tfidf[self.corpus], num_features=len(self.dictionary))\n",
    "        \n",
    "    @staticmethod\n",
    "    def tokenize(text):\n",
    "        return ','.join(gensim.parsing.preprocessing.preprocess_string(text))\n",
    "    \n",
    "    @staticmethod\n",
    "    def normalize(vals):\n",
    "        return (vals - min(vals))/(max(vals) - min(vals))\n",
    "    \n",
    "    def recommend_by_content(self, news_text, k=10):\n",
    "        \"\"\"\n",
    "        Recommends item_ids similar to given item_id\n",
    "        Content based can work with new news articles as well\n",
    "        \"\"\"\n",
    "        news_tokens = self.tokenize(news_text).split(',') \n",
    "\n",
    "        news_bow = self.dictionary.doc2bow(news_tokens)\n",
    "        news_tfidf = self.tfidf[news_bow]\n",
    "\n",
    "        news_similarity = self.sims[news_tfidf]\n",
    "        similarity_series = pd.Series(news_similarity.tolist(), index=self.df_platform_content.item_id_mapped)\n",
    "        similar_item_ids_mapped = similarity_series.sort_values(ascending=False)[1:k+1]\n",
    "\n",
    "        result = self.df_platform_content[self.df_platform_content.item_id_mapped.isin(similar_item_ids_mapped.index)]\n",
    "\n",
    "        return zip(list(result['item_id_mapped']), similar_item_ids_mapped)\n",
    "    \n",
    "    def train_collaborative_user_based(self):\n",
    "        \"\"\"\n",
    "        User-user predictions\n",
    "        \"\"\"\n",
    "\n",
    "        data_matrix = self.df_consumer_transactions.pivot(index='consumer_id_mapped', columns='item_id_mapped', values='ratings').fillna(0)\n",
    "        user_similarity = 1 - pairwise_distances(data_matrix, metric='cosine')\n",
    "        user_predicted_ratings = np.dot(user_similarity, data_matrix.fillna(0))\n",
    "        \n",
    "        self.user_based_ratings = pd.DataFrame(user_predicted_ratings, index=data_matrix.index, columns=data_matrix.columns)\n",
    "\n",
    "    def train_collaborative_item_based(self):\n",
    "        \"\"\"\n",
    "        User-user predictions\n",
    "        \"\"\"\n",
    "\n",
    "        data_matrix = self.df_consumer_transactions.pivot(index='consumer_id_mapped', columns='item_id_mapped', values='ratings').fillna(0)\n",
    "        item_similarity = 1 - pairwise_distances(data_matrix.T, metric='cosine')\n",
    "        \n",
    "        self.item_based_similarity = pd.DataFrame(item_similarity, index=data_matrix.T.index, columns=data_matrix.T.index)\n",
    "        \n",
    "    def recommend_by_user_id(self, userId, k=10):\n",
    "        return self.user_based_ratings.loc[userId].sort_values(ascending=False)[:k]\n",
    "    \n",
    "    def recommend_by_item_id(self, itemId, k=10): \n",
    "        return news_recommender.item_based_similarity.loc[itemId].sort_values(ascending=False)[1:k]\n",
    "    \n",
    "    def hybrid_recommendation(self, userId = None, itemId = None, k=10):\n",
    "        predictions = None\n",
    "        if userId is not None:\n",
    "            predictions_by_user = pd.DataFrame(self.normalize(self.recommend_by_user_id(userId, k)))\n",
    "            predictions_by_user.columns = ['by_user']\n",
    "            predictions = predictions_by_user\n",
    "            \n",
    "        if itemId is not None:\n",
    "            predictions_by_item = pd.DataFrame(self.normalize(self.recommend_by_item_id(itemId, k)))\n",
    "            predictions_by_item.columns = ['by_item']\n",
    "            \n",
    "            # find recommendation by content\n",
    "            news_item = self.df_platform_content[self.df_platform_content.item_id_mapped == itemId]\n",
    "            news_text = news_item['title'] + ' ' + news_item['text_description']\n",
    "            predictions_by_content = pd.DataFrame(self.recommend_by_content(news_text.values[0]), columns=['item_id_mapped', 'by_content'])\n",
    "            predictions_by_content = predictions_by_content.set_index('item_id_mapped')\n",
    "            predictions_by_content.by_content = self.normalize(predictions_by_content.by_content)\n",
    "            \n",
    "            if predictions is not None:\n",
    "                predictions = pd.concat([predictions, predictions_by_item, predictions_by_content], axis=1)\n",
    "        \n",
    "        predictions = predictions.fillna(0)\n",
    "        predictions['hybrid_score'] = predictions.sum(axis=1)\n",
    "        predictions = predictions.sort_values(by='hybrid_score', ascending=False)\n",
    "        \n",
    "        valid_item_ids = list(predictions.index.isin(platform_content_df.item_id_mapped))\n",
    "        predictions = predictions.loc[valid_item_ids]\n",
    "        predictions = predictions[:k]\n",
    "        \n",
    "        pred_content = platform_content_df.set_index('item_id_mapped').loc[predictions.index][['title', 'item_url']]\n",
    "        \n",
    "        return pd.concat([predictions, pred_content], axis=1)"
   ]
  },
  {
   "cell_type": "code",
   "execution_count": 245,
   "metadata": {},
   "outputs": [],
   "source": [
    "class EvaluateRecommendations():\n",
    "    def __init__(self, model, train, test, k=10):\n",
    "        self.model = model\n",
    "        self.train = train.copy()\n",
    "        self.test = test.copy()\n",
    "        \n",
    "        # filter test set to contain only consumer and items from train set\n",
    "        self.test = self.test[self.test.consumer_id_mapped.isin(self.train.consumer_id_mapped) & self.test.item_id_mapped.isin(self.train.item_id_mapped)]\n",
    "        \n",
    "        self.train = self.calc_pred_ratings(self.train.copy())\n",
    "        self.test = self.calc_pred_ratings(self.test.copy())\n",
    "        \n",
    "        self.rmse_train = self.calc_rmse(self.train)\n",
    "        self.rmse_test = self.calc_rmse(self.test)\n",
    "        \n",
    "        self.mae_train = self.calc_mae(self.train)\n",
    "        self.mae_test = self.calc_mae(self.test)\n",
    "        \n",
    "        self.gpatk_train = self.calc_global_precision_at_k(self.train, k)\n",
    "        self.gpatk_test = self.calc_global_precision_at_k(self.test, k)  \n",
    "        \n",
    "        self.summary()\n",
    "\n",
    "    def calc_pred_ratings(self, df):\n",
    "        df = df.assign(predicted_ratings=[self.model.user_based_ratings.loc[consumerId][itemId] for itemId,consumerId,rating in df.to_numpy()])\n",
    "        df['predicted_ratings'] = df.predicted_ratings.map(lambda a: a if a <= 5 else 5)\n",
    "        return df\n",
    "        \n",
    "    def calc_rmse(self, df):    \n",
    "        return sqrt(mean_squared_error(df.predicted_ratings, df.ratings))\n",
    "    \n",
    "    def calc_mae(self, df):\n",
    "        return mean_absolute_error(df.predicted_ratings, df.ratings)\n",
    "    \n",
    "    def calc_precision_at_k(self, df, consumerId, k=10):\n",
    "        by_ratings = df[df.consumer_id_mapped == consumerId].sort_values(by='ratings', ascending=False)[:k].item_id_mapped\n",
    "        by_pred_ratings = df[df.consumer_id_mapped == consumerId].sort_values(by='predicted_ratings', ascending=False)[:k].item_id_mapped\n",
    "\n",
    "        return by_pred_ratings.isin(by_ratings).sum()/k\n",
    "    \n",
    "    def calc_global_precision_at_k(self, df, k=10):\n",
    "        return sum([self.calc_precision_at_k(df, consumerId, k) for consumerId in df.consumer_id_mapped.unique()])/len(df.consumer_id_mapped.unique())\n",
    "    \n",
    "    def summary(self):\n",
    "        print('RMSE(train): ', self.rmse_train)\n",
    "        print('RMSE(test): ', self.rmse_test)\n",
    "        \n",
    "        print('MAE(train): ', self.mae_train)\n",
    "        print('MAE(test): ', self.mae_test)\n",
    "        \n",
    "        print('Global Precision at K(train): ', self.gpatk_train)\n",
    "        print('Global Precision at K(test): ', self.gpatk_test)"
   ]
  },
  {
   "cell_type": "code",
   "execution_count": 246,
   "metadata": {},
   "outputs": [],
   "source": [
    "df = consumer_transactions_df.copy()\n",
    "df_train, df_test = train_test_split(df, test_size=0.20, random_state=7)\n",
    "\n",
    "def mapConsumerAndItems(data):\n",
    "    data = data.assign(consumer_id_mapped = data.consumer_id.map(mapConsumerIdToNumber))\n",
    "    data = data.assign(item_id_mapped = data.item_id.map(mapItemIdToNumber))    \n",
    "    return data\n",
    "\n",
    "def mapItems(data):\n",
    "    data = data.assign(item_id_mapped = data.item_id.map(mapItemIdToNumber))    \n",
    "    return data\n",
    "\n",
    "df_train = mapConsumerAndItems(df_train)\n",
    "df_test = mapConsumerAndItems(df_test)\n",
    "required_cols = ['item_id_mapped', 'consumer_id_mapped', 'ratings']\n",
    "\n",
    "platform_content_df = mapItems(platform_content_df)\n",
    "platform_content_df = platform_content_df[platform_content_df.item_id_mapped.isin(df_train.item_id_mapped)]\n",
    "\n",
    "news_recommender = NewsRecommender(platform_content_df, df_train[required_cols])"
   ]
  },
  {
   "cell_type": "code",
   "execution_count": 247,
   "metadata": {},
   "outputs": [
    {
     "data": {
      "text/html": [
       "<div>\n",
       "<style scoped>\n",
       "    .dataframe tbody tr th:only-of-type {\n",
       "        vertical-align: middle;\n",
       "    }\n",
       "\n",
       "    .dataframe tbody tr th {\n",
       "        vertical-align: top;\n",
       "    }\n",
       "\n",
       "    .dataframe thead th {\n",
       "        text-align: right;\n",
       "    }\n",
       "</style>\n",
       "<table border=\"1\" class=\"dataframe\">\n",
       "  <thead>\n",
       "    <tr style=\"text-align: right;\">\n",
       "      <th></th>\n",
       "      <th>by_user</th>\n",
       "      <th>by_item</th>\n",
       "      <th>by_content</th>\n",
       "      <th>hybrid_score</th>\n",
       "      <th>title</th>\n",
       "      <th>item_url</th>\n",
       "    </tr>\n",
       "    <tr>\n",
       "      <th>item_id_mapped</th>\n",
       "      <th></th>\n",
       "      <th></th>\n",
       "      <th></th>\n",
       "      <th></th>\n",
       "      <th></th>\n",
       "      <th></th>\n",
       "    </tr>\n",
       "  </thead>\n",
       "  <tbody>\n",
       "    <tr>\n",
       "      <th>270</th>\n",
       "      <td>0.000000</td>\n",
       "      <td>0.00000</td>\n",
       "      <td>1.000000</td>\n",
       "      <td>1.000000</td>\n",
       "      <td>The End Of Apps As We Know Them - Inside Intercom</td>\n",
       "      <td>http://blog.intercom.stfi.re/the-end-of-apps-a...</td>\n",
       "    </tr>\n",
       "    <tr>\n",
       "      <th>1947</th>\n",
       "      <td>0.000000</td>\n",
       "      <td>1.00000</td>\n",
       "      <td>0.000000</td>\n",
       "      <td>1.000000</td>\n",
       "      <td>Blab shuts down, but founders promise new prod...</td>\n",
       "      <td>https://techcrunch.com/2016/08/14/blab-shuts-d...</td>\n",
       "    </tr>\n",
       "    <tr>\n",
       "      <th>862</th>\n",
       "      <td>1.000000</td>\n",
       "      <td>0.00000</td>\n",
       "      <td>0.000000</td>\n",
       "      <td>1.000000</td>\n",
       "      <td>Former Google career coach shares a visual tri...</td>\n",
       "      <td>http://www.cnbc.com/2016/12/21/former-google-c...</td>\n",
       "    </tr>\n",
       "    <tr>\n",
       "      <th>2007</th>\n",
       "      <td>0.000000</td>\n",
       "      <td>0.00000</td>\n",
       "      <td>0.994615</td>\n",
       "      <td>0.994615</td>\n",
       "      <td>Bots won't replace apps. Better apps will repl...</td>\n",
       "      <td>http://dangrover.com/blog/2016/04/20/bots-wont...</td>\n",
       "    </tr>\n",
       "    <tr>\n",
       "      <th>1405</th>\n",
       "      <td>0.000000</td>\n",
       "      <td>0.00000</td>\n",
       "      <td>0.950371</td>\n",
       "      <td>0.950371</td>\n",
       "      <td>A sneak peek at Google's upcoming travel app, ...</td>\n",
       "      <td>http://techcrunch.com/2016/04/29/a-sneak-peek-...</td>\n",
       "    </tr>\n",
       "    <tr>\n",
       "      <th>715</th>\n",
       "      <td>0.802424</td>\n",
       "      <td>0.00000</td>\n",
       "      <td>0.000000</td>\n",
       "      <td>0.802424</td>\n",
       "      <td>Changing change management</td>\n",
       "      <td>http://www.mckinsey.com/global-themes/leadersh...</td>\n",
       "    </tr>\n",
       "    <tr>\n",
       "      <th>2028</th>\n",
       "      <td>0.716136</td>\n",
       "      <td>0.00000</td>\n",
       "      <td>0.000000</td>\n",
       "      <td>0.716136</td>\n",
       "      <td>Mobile marketing statistics 2016</td>\n",
       "      <td>http://www.smartinsights.com/mobile-marketing/...</td>\n",
       "    </tr>\n",
       "    <tr>\n",
       "      <th>111</th>\n",
       "      <td>0.000000</td>\n",
       "      <td>0.44949</td>\n",
       "      <td>0.000000</td>\n",
       "      <td>0.449490</td>\n",
       "      <td>Ebay's mobile Craigslist competitor Close5 has...</td>\n",
       "      <td>http://techcrunch.com/2016/04/18/ebays-mobile-...</td>\n",
       "    </tr>\n",
       "    <tr>\n",
       "      <th>462</th>\n",
       "      <td>0.000000</td>\n",
       "      <td>0.00000</td>\n",
       "      <td>0.286007</td>\n",
       "      <td>0.286007</td>\n",
       "      <td>How One Jira Ticket Made My Employer $1MM/Mont...</td>\n",
       "      <td>https://medium.com/javascript-scene/how-one-ji...</td>\n",
       "    </tr>\n",
       "    <tr>\n",
       "      <th>2890</th>\n",
       "      <td>0.000000</td>\n",
       "      <td>0.00000</td>\n",
       "      <td>0.225740</td>\n",
       "      <td>0.225740</td>\n",
       "      <td>The Startup Zeitgeist</td>\n",
       "      <td>http://themacro.com/articles/2016/05/the-start...</td>\n",
       "    </tr>\n",
       "  </tbody>\n",
       "</table>\n",
       "</div>"
      ],
      "text/plain": [
       "                 by_user  by_item  by_content  hybrid_score  \\\n",
       "item_id_mapped                                                \n",
       "270             0.000000  0.00000    1.000000      1.000000   \n",
       "1947            0.000000  1.00000    0.000000      1.000000   \n",
       "862             1.000000  0.00000    0.000000      1.000000   \n",
       "2007            0.000000  0.00000    0.994615      0.994615   \n",
       "1405            0.000000  0.00000    0.950371      0.950371   \n",
       "715             0.802424  0.00000    0.000000      0.802424   \n",
       "2028            0.716136  0.00000    0.000000      0.716136   \n",
       "111             0.000000  0.44949    0.000000      0.449490   \n",
       "462             0.000000  0.00000    0.286007      0.286007   \n",
       "2890            0.000000  0.00000    0.225740      0.225740   \n",
       "\n",
       "                                                            title  \\\n",
       "item_id_mapped                                                      \n",
       "270             The End Of Apps As We Know Them - Inside Intercom   \n",
       "1947            Blab shuts down, but founders promise new prod...   \n",
       "862             Former Google career coach shares a visual tri...   \n",
       "2007            Bots won't replace apps. Better apps will repl...   \n",
       "1405            A sneak peek at Google's upcoming travel app, ...   \n",
       "715                                    Changing change management   \n",
       "2028                             Mobile marketing statistics 2016   \n",
       "111             Ebay's mobile Craigslist competitor Close5 has...   \n",
       "462             How One Jira Ticket Made My Employer $1MM/Mont...   \n",
       "2890                                        The Startup Zeitgeist   \n",
       "\n",
       "                                                         item_url  \n",
       "item_id_mapped                                                     \n",
       "270             http://blog.intercom.stfi.re/the-end-of-apps-a...  \n",
       "1947            https://techcrunch.com/2016/08/14/blab-shuts-d...  \n",
       "862             http://www.cnbc.com/2016/12/21/former-google-c...  \n",
       "2007            http://dangrover.com/blog/2016/04/20/bots-wont...  \n",
       "1405            http://techcrunch.com/2016/04/29/a-sneak-peek-...  \n",
       "715             http://www.mckinsey.com/global-themes/leadersh...  \n",
       "2028            http://www.smartinsights.com/mobile-marketing/...  \n",
       "111             http://techcrunch.com/2016/04/18/ebays-mobile-...  \n",
       "462             https://medium.com/javascript-scene/how-one-ji...  \n",
       "2890            http://themacro.com/articles/2016/05/the-start...  "
      ]
     },
     "execution_count": 247,
     "metadata": {},
     "output_type": "execute_result"
    }
   ],
   "source": [
    "news_recommender.hybrid_recommendation(10, 20)"
   ]
  },
  {
   "cell_type": "code",
   "execution_count": 210,
   "metadata": {},
   "outputs": [
    {
     "name": "stdout",
     "output_type": "stream",
     "text": [
      "RMSE(train):  2.4144628769324146\n",
      "RMSE(test):  1.446492488137052\n",
      "MAE(train):  2.010173780735644\n",
      "MAE(test):  1.0277344137790287\n",
      "Global Precision at K(train):  0.4779956427015296\n",
      "Global Precision at K(test):  0.4440650406504084\n"
     ]
    }
   ],
   "source": [
    "evaluations = EvaluateRecommendations(news_recommender, df_train[required_cols], df_test[required_cols], 5)"
   ]
  },
  {
   "cell_type": "code",
   "execution_count": 211,
   "metadata": {},
   "outputs": [
    {
     "name": "stdout",
     "output_type": "stream",
     "text": [
      "RMSE(train):  2.4144628769324146\n",
      "RMSE(test):  1.446492488137052\n",
      "MAE(train):  2.010173780735644\n",
      "MAE(test):  1.0277344137790287\n",
      "Global Precision at K(train):  0.42178649237473187\n",
      "Global Precision at K(test):  0.33967479674797235\n"
     ]
    }
   ],
   "source": [
    "evaluations = EvaluateRecommendations(news_recommender, df_train[required_cols], df_test[required_cols], 10)"
   ]
  },
  {
   "cell_type": "code",
   "execution_count": 212,
   "metadata": {},
   "outputs": [
    {
     "name": "stdout",
     "output_type": "stream",
     "text": [
      "RMSE(train):  2.4144628769324146\n",
      "RMSE(test):  1.446492488137052\n",
      "MAE(train):  2.010173780735644\n",
      "MAE(test):  1.0277344137790287\n",
      "Global Precision at K(train):  0.34264705882352436\n",
      "Global Precision at K(test):  0.2291869918699222\n"
     ]
    }
   ],
   "source": [
    "evaluations = EvaluateRecommendations(news_recommender, df_train[required_cols], df_test[required_cols], 20)"
   ]
  },
  {
   "cell_type": "code",
   "execution_count": null,
   "metadata": {},
   "outputs": [],
   "source": []
  },
  {
   "cell_type": "code",
   "execution_count": null,
   "metadata": {},
   "outputs": [],
   "source": []
  }
 ],
 "metadata": {
  "kernelspec": {
   "display_name": "Python 3",
   "language": "python",
   "name": "python3"
  },
  "language_info": {
   "codemirror_mode": {
    "name": "ipython",
    "version": 3
   },
   "file_extension": ".py",
   "mimetype": "text/x-python",
   "name": "python",
   "nbconvert_exporter": "python",
   "pygments_lexer": "ipython3",
   "version": "3.6.13"
  }
 },
 "nbformat": 4,
 "nbformat_minor": 2
}
